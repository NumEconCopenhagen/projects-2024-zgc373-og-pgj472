{
 "cells": [
  {
   "cell_type": "markdown",
   "metadata": {},
   "source": [
    "**Table of contents**<a id='toc0_'></a>    \n",
    "- 1. [Problem 1: Production economy and CO2 taxation](#toc1_)    \n",
    "- 2. [Problem 2: Career choice model](#toc2_)    \n",
    "- 3. [Problem 3: Barycentric interpolation](#toc3_)    \n",
    "\n",
    "<!-- vscode-jupyter-toc-config\n",
    "\tnumbering=true\n",
    "\tanchor=true\n",
    "\tflat=false\n",
    "\tminLevel=2\n",
    "\tmaxLevel=6\n",
    "\t/vscode-jupyter-toc-config -->\n",
    "<!-- THIS CELL WILL BE REPLACED ON TOC UPDATE. DO NOT WRITE YOUR TEXT IN THIS CELL -->"
   ]
  },
  {
   "cell_type": "code",
   "execution_count": 1,
   "metadata": {},
   "outputs": [],
   "source": [
    "# Write your code here\n",
    "import numpy as np\n",
    "from types import SimpleNamespace\n",
    "\n",
    "from examproject import ProductionEconomyClass"
   ]
  },
  {
   "cell_type": "markdown",
   "metadata": {},
   "source": [
    "## 1. <a id='toc1_'></a>[Problem 1: Production economy and CO2 taxation](#toc0_)"
   ]
  },
  {
   "cell_type": "markdown",
   "metadata": {},
   "source": [
    "Consider a production economy with two firms indexed by $j \\in \\{1,2\\}$. Each produce its own good. They solve\n",
    "\n",
    "$$\n",
    "\\begin{align*}\n",
    "\\max_{y_{j}}\\pi_{j}&=p_{j}y_{j}-w_{j}\\ell_{j}\\\\\\text{s.t.}\\;&y_{j}=A\\ell_{j}^{\\gamma}.\n",
    "\\end{align*}\n",
    "$$\n",
    "\n",
    "Optimal firm behavior is\n",
    "\n",
    "$$\n",
    "\\begin{align*}\n",
    "\\ell_{j}^{\\star}(w,p_{j})&=\\left(\\frac{p_{j}A\\gamma}{w}\\right)^{\\frac{1}{1-\\gamma}} \\\\\n",
    "y_{j}^{\\star}(w,p_{j})&=A\\left(\\ell_{j}^{\\star}(w,p_{j})\\right)^{\\gamma}\n",
    "\\end{align*}\n",
    "$$\n",
    "\n",
    "The implied profits are\n",
    "\n",
    "$$\n",
    "\\pi_{j}^*(w,p_{j})=\\frac{1-\\gamma}{\\gamma}w\\cdot\\left(\\frac{p_{j}A\\gamma}{w}\\right)^{\\frac{1}{1-\\gamma}}\n",
    "$$\n",
    "\n",
    "A single consumer supplies labor, and consumes the goods the firms produce. She also recieves the implied profits of the firm.<br>\n",
    "She solves:\n",
    "\n",
    "$$\n",
    "\\begin{align*}\n",
    "U(p_1,p_2,w,\\tau,T) = \\max_{c_{1},c_{2},\\ell} & \\log(c_{1}^{\\alpha}c_{2}^{1-\\alpha})-\\nu\\frac{\\ell^{1+\\epsilon}}{1+\\epsilon} \\\\\n",
    "\\text{s.t.}\\,\\,\\,&p_{1}c_{1}+(p_{2}+\\tau)c_{2}=w\\ell+T+\\pi_{1}^*(w,p_{1})+\\pi_{2}^*(w,p_{2})\n",
    "\\end{align*}\n",
    "$$\n",
    "\n",
    "where $\\tau$ is a tax and $T$ is lump-sum transfer. <br>\n",
    "For a given $\\ell$, it can be shown that optimal behavior is\n",
    "\n",
    "$$\n",
    "\\begin{align*}\n",
    "c_{1}(\\ell)&=\\alpha\\frac{w\\ell+T+\\pi_{1}^*(w,p_{1})+\\pi_{2}^*(w,p_{2})}{p_{1}} \\\\\n",
    "c_{2}(\\ell)&=(1-\\alpha)\\frac{w\\ell+T+\\pi_{1}^*(w,p_{1})+\\pi_{2}^*(w,p_{2})}{p_{2}+\\tau} \\\\\n",
    "\\end{align*}\n",
    "$$\n",
    "Such that optimal behavior is:\n",
    "$$\n",
    "\\ell^* = \\underset{\\ell}{\\arg\\max} \\log(\\left(c_{1}(\\ell)\\right)^{\\alpha}\\cdot \\left(c_{2}(\\ell)\\right)^{1-\\alpha})-\\nu\\frac{\\ell^{1+\\epsilon}}{1+\\epsilon} \n",
    "$$\n",
    "With optimal consumption:\n",
    "$$\n",
    "\\begin{align*}\n",
    "c_1^*=c_{1}(\\ell^*) \\\\\n",
    "c_2^*=c_{2}(\\ell^*)\\\\\n",
    "\\end{align*}\n",
    "$$\n",
    "\n",
    "\n",
    "The government chooses $\\tau$ and balances its budget so $T=\\tau c_2^*$. We initially set $\\tau,T=0$.\n",
    "\n",
    "Market clearing requires:\n",
    "\n",
    "1. Labor market: $\\ell^* = \\ell_1^* + \\ell_2^*$\n",
    "1. Good market 1: $c_1^* = y_1^*$\n",
    "1. Good market 2: $c_2^* = y_2^*$\n"
   ]
  },
  {
   "cell_type": "markdown",
   "metadata": {},
   "source": [
    "**Question 1:** Check market clearing conditions for $p_1$ in `linspace(0.1,2.0,10)` and $p_2$ in `linspace(0.1,2.0,10)`. We choose $w=1$ as numeraire."
   ]
  },
  {
   "cell_type": "code",
   "execution_count": 2,
   "metadata": {},
   "outputs": [],
   "source": [
    "par = SimpleNamespace()\n",
    "\n",
    "# firms\n",
    "par.A = 1.0\n",
    "par.gamma = 0.5\n",
    "\n",
    "# households\n",
    "par.alpha = 0.3\n",
    "par.nu = 1.0\n",
    "par.epsilon = 2.0\n",
    "\n",
    "# government\n",
    "par.tau = 0.0\n",
    "par.T = 0.0\n",
    "\n",
    "# Question 3\n",
    "par.kappa = 0.1"
   ]
  },
  {
   "cell_type": "code",
   "execution_count": 3,
   "metadata": {},
   "outputs": [
    {
     "name": "stdout",
     "output_type": "stream",
     "text": [
      "Market does not clear for any price.\n"
     ]
    }
   ],
   "source": [
    "# write you answer here\n",
    "ProductionEconomyClass().check_market_clearing()"
   ]
  },
  {
   "cell_type": "code",
   "execution_count": 19,
   "metadata": {},
   "outputs": [
    {
     "name": "stdout",
     "output_type": "stream",
     "text": [
      "Optimal labor supply: 0.9983361122727576 p1: 0.1 p2: 0.1\n",
      "Optimal labor supply: 0.9911793472755016 p1: 0.1 p2: 0.3111111111111111\n",
      "Optimal labor supply: 0.9769836623154098 p1: 0.1 p2: 0.5222222222222223\n",
      "Optimal labor supply: 0.9563722502177996 p1: 0.1 p2: 0.7333333333333333\n",
      "Optimal labor supply: 0.9302030018998041 p1: 0.1 p2: 0.9444444444444444\n",
      "Optimal labor supply: 0.8995286687305722 p1: 0.1 p2: 1.1555555555555557\n",
      "Optimal labor supply: 0.8654982508914223 p1: 0.1 p2: 1.3666666666666667\n",
      "Optimal labor supply: 0.829276786870666 p1: 0.1 p2: 1.577777777777778\n",
      "Optimal labor supply: 0.7919391537236089 p1: 0.1 p2: 1.788888888888889\n",
      "Optimal labor supply: 0.7544353904055344 p1: 0.1 p2: 2.0\n",
      "Optimal labor supply: 0.9911793459263039 p1: 0.3111111111111111 p2: 0.1\n",
      "Optimal labor supply: 0.9841246639077228 p1: 0.3111111111111111 p2: 0.3111111111111111\n",
      "Optimal labor supply: 0.9701365209497761 p1: 0.3111111111111111 p2: 0.5222222222222223\n",
      "Optimal labor supply: 0.9498172669267829 p1: 0.3111111111111111 p2: 0.7333333333333333\n",
      "Optimal labor supply: 0.924020897045394 p1: 0.3111111111111111 p2: 0.9444444444444444\n",
      "Optimal labor supply: 0.8937796875766248 p1: 0.3111111111111111 p2: 1.1555555555555557\n",
      "Optimal labor supply: 0.8602228395744147 p1: 0.3111111111111111 p2: 1.3666666666666667\n",
      "Optimal labor supply: 0.8244949972577351 p1: 0.3111111111111111 p2: 1.577777777777778\n",
      "Optimal labor supply: 0.787650840834481 p1: 0.3111111111111111 p2: 1.788888888888889\n",
      "Optimal labor supply: 0.750624220513074 p1: 0.3111111111111111 p2: 2.0\n",
      "Optimal labor supply: 0.9769836591622995 p1: 0.5222222222222223 p2: 0.1\n",
      "Optimal labor supply: 0.9701365168418877 p1: 0.5222222222222223 p2: 0.3111111111111111\n",
      "Optimal labor supply: 0.9565507313228817 p1: 0.5222222222222223 p2: 0.5222222222222223\n",
      "Optimal labor supply: 0.9368158056658803 p1: 0.5222222222222223 p2: 0.7333333333333333\n",
      "Optimal labor supply: 0.9117570834265881 p1: 0.5222222222222223 p2: 0.9444444444444444\n",
      "Optimal labor supply: 0.8823721232765434 p1: 0.5222222222222223 p2: 1.1555555555555557\n",
      "Optimal labor supply: 0.8497556521442273 p1: 0.5222222222222223 p2: 1.3666666666666667\n",
      "Optimal labor supply: 0.8149977080228894 p1: 0.5222222222222223 p2: 1.577777777777778\n",
      "Optimal labor supply: 0.7791277555467983 p1: 0.5222222222222223 p2: 1.788888888888889\n",
      "Optimal labor supply: 0.743043182097023 p1: 0.5222222222222223 p2: 2.0\n",
      "Optimal labor supply: 0.9563722398605345 p1: 0.7333333333333333 p2: 0.1\n",
      "Optimal labor supply: 0.9498172567609625 p1: 0.7333333333333333 p2: 0.3111111111111111\n",
      "Optimal labor supply: 0.9368158055015509 p1: 0.7333333333333333 p2: 0.5222222222222223\n",
      "Optimal labor supply: 0.917926449809474 p1: 0.7333333333333333 p2: 0.7333333333333333\n",
      "Optimal labor supply: 0.8939340003977213 p1: 0.7333333333333333 p2: 0.9444444444444444\n",
      "Optimal labor supply: 0.8657855157719141 p1: 0.7333333333333333 p2: 1.1555555555555557\n",
      "Optimal labor supply: 0.834519705295067 p1: 0.7333333333333333 p2: 1.3666666666666667\n",
      "Optimal labor supply: 0.8011658100338442 p1: 0.7333333333333333 p2: 1.577777777777778\n",
      "Optimal labor supply: 0.7666999923333249 p1: 0.7333333333333333 p2: 1.788888888888889\n",
      "Optimal labor supply: 0.7319735853148811 p1: 0.7333333333333333 p2: 2.0\n",
      "Optimal labor supply: 0.930203005497479 p1: 0.9444444444444444 p2: 0.1\n",
      "Optimal labor supply: 0.9240208899124052 p1: 0.9444444444444444 p2: 0.3111111111111111\n",
      "Optimal labor supply: 0.9117570763434169 p1: 0.9444444444444444 p2: 0.5222222222222223\n",
      "Optimal labor supply: 0.8939339960521298 p1: 0.9444444444444444 p2: 0.7333333333333333\n",
      "Optimal labor supply: 0.8712845372243475 p1: 0.9444444444444444 p2: 0.9444444444444444\n",
      "Optimal labor supply: 0.84469657455627 p1: 0.9444444444444444 p2: 1.1555555555555557\n",
      "Optimal labor supply: 0.8151226412163337 p1: 0.9444444444444444 p2: 1.3666666666666667\n",
      "Optimal labor supply: 0.7835317832776055 p1: 0.9444444444444444 p2: 1.577777777777778\n",
      "Optimal labor supply: 0.7508289955832741 p1: 0.9444444444444444 p2: 1.788888888888889\n",
      "Optimal labor supply: 0.7178092115308609 p1: 0.9444444444444444 p2: 2.0\n",
      "Optimal labor supply: 0.899528676816777 p1: 1.1555555555555557 p2: 0.1\n",
      "Optimal labor supply: 0.8937796908399939 p1: 1.1555555555555557 p2: 0.3111111111111111\n",
      "Optimal labor supply: 0.8823721322392809 p1: 1.1555555555555557 p2: 0.5222222222222223\n",
      "Optimal labor supply: 0.8657855019823557 p1: 1.1555555555555557 p2: 0.7333333333333333\n",
      "Optimal labor supply: 0.8446965651097513 p1: 1.1555555555555557 p2: 0.9444444444444444\n",
      "Optimal labor supply: 0.8199039883666291 p1: 1.1555555555555557 p2: 1.1555555555555557\n",
      "Optimal labor supply: 0.7922893101351965 p1: 1.1555555555555557 p2: 1.3666666666666667\n",
      "Optimal labor supply: 0.7627349865644528 p1: 1.1555555555555557 p2: 1.577777777777778\n",
      "Optimal labor supply: 0.7320697398022735 p1: 1.1555555555555557 p2: 1.788888888888889\n",
      "Optimal labor supply: 0.7010243951818191 p1: 1.1555555555555557 p2: 2.0\n",
      "Optimal labor supply: 0.865498239267726 p1: 1.3666666666666667 p2: 0.1\n",
      "Optimal labor supply: 0.8602228325200293 p1: 1.3666666666666667 p2: 0.3111111111111111\n",
      "Optimal labor supply: 0.8497556794768817 p1: 1.3666666666666667 p2: 0.5222222222222223\n",
      "Optimal labor supply: 0.8345197075049746 p1: 1.3666666666666667 p2: 0.7333333333333333\n",
      "Optimal labor supply: 0.8151226433949498 p1: 1.3666666666666667 p2: 0.9444444444444444\n",
      "Optimal labor supply: 0.7922893227294742 p1: 1.3666666666666667 p2: 1.1555555555555557\n",
      "Optimal labor supply: 0.7668078669272484 p1: 1.3666666666666667 p2: 1.3666666666666667\n",
      "Optimal labor supply: 0.7394713627697813 p1: 1.3666666666666667 p2: 1.577777777777778\n",
      "Optimal labor supply: 0.711027254093643 p1: 1.3666666666666667 p2: 1.788888888888889\n",
      "Optimal labor supply: 0.6821382775785527 p1: 1.3666666666666667 p2: 2.0\n",
      "Optimal labor supply: 0.8292767766286103 p1: 1.577777777777778 p2: 0.1\n",
      "Optimal labor supply: 0.8244949808825406 p1: 1.577777777777778 p2: 0.3111111111111111\n",
      "Optimal labor supply: 0.8149977201309351 p1: 1.577777777777778 p2: 0.5222222222222223\n",
      "Optimal labor supply: 0.8011658309842874 p1: 1.577777777777778 p2: 0.7333333333333333\n",
      "Optimal labor supply: 0.7835317743776791 p1: 1.577777777777778 p2: 0.9444444444444444\n",
      "Optimal labor supply: 0.7627349901053807 p1: 1.577777777777778 p2: 1.1555555555555557\n",
      "Optimal labor supply: 0.7394713614147546 p1: 1.577777777777778 p2: 1.3666666666666667\n",
      "Optimal labor supply: 0.7144430175457787 p1: 1.577777777777778 p2: 1.577777777777778\n",
      "Optimal labor supply: 0.6883144248704107 p1: 1.577777777777778 p2: 1.788888888888889\n",
      "Optimal labor supply: 0.6616792681153968 p1: 1.577777777777778 p2: 2.0\n",
      "Optimal labor supply: 0.7919391440747781 p1: 1.788888888888889 p2: 0.1\n",
      "Optimal labor supply: 0.7876508497725242 p1: 1.788888888888889 p2: 0.3111111111111111\n",
      "Optimal labor supply: 0.7791277667368987 p1: 1.788888888888889 p2: 0.5222222222222223\n",
      "Optimal labor supply: 0.7666999889201063 p1: 1.788888888888889 p2: 0.7333333333333333\n",
      "Optimal labor supply: 0.7508289995219575 p1: 1.788888888888889 p2: 0.9444444444444444\n",
      "Optimal labor supply: 0.7320697254748708 p1: 1.788888888888889 p2: 1.1555555555555557\n",
      "Optimal labor supply: 0.7110272486624107 p1: 1.788888888888889 p2: 1.3666666666666667\n",
      "Optimal labor supply: 0.6883144333176613 p1: 1.788888888888889 p2: 1.577777777777778\n",
      "Optimal labor supply: 0.664514751211007 p1: 1.788888888888889 p2: 1.788888888888889\n",
      "Optimal labor supply: 0.6401539898660864 p1: 1.788888888888889 p2: 2.0\n",
      "Optimal labor supply: 0.7544354132217614 p1: 2.0 p2: 0.1\n",
      "Optimal labor supply: 0.7506242005111279 p1: 2.0 p2: 0.3111111111111111\n",
      "Optimal labor supply: 0.7430431900351302 p1: 2.0 p2: 0.5222222222222223\n",
      "Optimal labor supply: 0.7319735801512123 p1: 2.0 p2: 0.7333333333333333\n",
      "Optimal labor supply: 0.717809208194175 p1: 2.0 p2: 0.9444444444444444\n",
      "Optimal labor supply: 0.7010243876935239 p1: 2.0 p2: 1.1555555555555557\n",
      "Optimal labor supply: 0.6821382888932238 p1: 2.0 p2: 1.3666666666666667\n",
      "Optimal labor supply: 0.6616792372005484 p1: 2.0 p2: 1.577777777777778\n",
      "Optimal labor supply: 0.6401539856981991 p1: 2.0 p2: 1.788888888888889\n",
      "Optimal labor supply: 0.6180339986871788 p1: 2.0 p2: 2.0\n"
     ]
    }
   ],
   "source": [
    "# Example usage\n",
    "consumer = ProductionEconomyClass()\n",
    "for p1 in consumer.p1_range:\n",
    "    for p2 in consumer.p2_range:\n",
    "        optimal_labor = consumer.find_optimal_labor(p1, p2)\n",
    "        print(f\"Optimal labor supply: {optimal_labor}\", f\"p1: {p1}\", f\"p2: {p2}\")\n"
   ]
  },
  {
   "cell_type": "markdown",
   "metadata": {},
   "source": [
    "**Question 2:** Find the equilibrium prices $p_1$ and $p_2$.<br>\n",
    "*Hint: you can use Walras' law to only check 2 of the market clearings*"
   ]
  },
  {
   "cell_type": "code",
   "execution_count": 5,
   "metadata": {},
   "outputs": [],
   "source": [
    "# write your answer here"
   ]
  },
  {
   "cell_type": "markdown",
   "metadata": {},
   "source": [
    "Assume the government care about the social welfare function:\n",
    "\n",
    "$$\n",
    "SWF = U - \\kappa y_2^*\n",
    "$$"
   ]
  },
  {
   "cell_type": "markdown",
   "metadata": {},
   "source": [
    "Here $\\kappa$ measures the social cost of carbon emitted by the production of $y_2$ in equilibrium."
   ]
  },
  {
   "cell_type": "markdown",
   "metadata": {},
   "source": [
    "**Question 3:** What values of $\\tau$ and (implied) $T$ should the government choose to maximize $SWF$?"
   ]
  },
  {
   "cell_type": "code",
   "execution_count": 6,
   "metadata": {},
   "outputs": [],
   "source": [
    "# write your answer here"
   ]
  },
  {
   "cell_type": "markdown",
   "metadata": {},
   "source": [
    "## 2. <a id='toc2_'></a>[Problem 2: Career choice model](#toc0_)"
   ]
  },
  {
   "cell_type": "markdown",
   "metadata": {},
   "source": [
    "Consider a graduate $i$ making a choice between entering $J$ different career tracks. <br>\n",
    "Entering career $j$ yields utility $u^k_{ij}$. This value is unknown to the graduate ex ante, but will ex post be: <br>\n",
    "$$\n",
    "    u_{i,j}^k = v_{j} + \\epsilon_{i,j}^k\n",
    "$$\n",
    "\n",
    "They know that $\\epsilon^k_{i,j}\\sim \\mathcal{N}(0,\\sigma^2)$, but they do not observe $\\epsilon^k_{i,j}$ before making their career choice. <br>"
   ]
  },
  {
   "cell_type": "markdown",
   "metadata": {},
   "source": [
    "Consider the concrete case of $J=3$ with:\n",
    "$$\n",
    "\\begin{align*}\n",
    "    v_{1} &= 1 \\\\\n",
    "    v_{2} &= 2 \\\\\n",
    "    v_{3} &= 3\n",
    "\\end{align*}\n",
    "$$"
   ]
  },
  {
   "cell_type": "markdown",
   "metadata": {},
   "source": [
    "If the graduates know the values of $v_j$ and the distribution of $\\epsilon_{i,j}^k$, they can calculate the expected utility of each career track using simulation: <br>\n",
    "$$\n",
    "    \\mathbb{E}\\left[ u^k_{i,j}\\vert v_j \\right] \\approx v_j + \\frac{1}{K}\\sum_{k=1}^K \\epsilon_{i,j}^k\n",
    "$$"
   ]
  },
  {
   "cell_type": "code",
   "execution_count": 7,
   "metadata": {},
   "outputs": [],
   "source": [
    "par = SimpleNamespace()\n",
    "par.J = 3\n",
    "par.N = 10\n",
    "par.K = 10000\n",
    "\n",
    "par.F = np.arange(1,par.N+1)\n",
    "par.sigma = 2\n",
    "\n",
    "par.v = np.array([1,2,3])\n",
    "par.c = 1"
   ]
  },
  {
   "cell_type": "markdown",
   "metadata": {},
   "source": [
    "**Question 1:** Simulate and calculate expected utility and the average realised utility for $K=10000$ draws, for each career choice $j$.\n"
   ]
  },
  {
   "cell_type": "code",
   "execution_count": 8,
   "metadata": {},
   "outputs": [],
   "source": [
    "# write your answer here"
   ]
  },
  {
   "cell_type": "markdown",
   "metadata": {},
   "source": [
    "Now consider a new scenario: Imagine that the graduate does not know $v_j$. The *only* prior information they have on the value of each job, comes from their $F_{i}$ friends that work in each career $j$. After talking with them, they know the average utility of their friends (which includes their friends' noise term), giving them the prior expecation: <br>\n",
    "$$\n",
    "\\tilde{u}^k_{i,j}\\left( F_{i}\\right) = \\frac{1}{F_{i}}\\sum_{f=1}^{F_{i}} \\left(v_{j} + \\epsilon^k_{f,j}\\right), \\; \\epsilon^k_{f,j}\\sim \\mathcal{N}(0,\\sigma^2)\n",
    "$$\n",
    "For ease of notation consider that each graduate have $F_{i}=i$ friends in each career. <br>"
   ]
  },
  {
   "cell_type": "markdown",
   "metadata": {},
   "source": [
    "For $K$ times do the following: <br>\n",
    "1. For each person $i$ draw $J\\cdot F_i$ values of $\\epsilon_{f,j}^{k}$, and calculate the prior expected utility of each career track, $\\tilde{u}^k_{i,j}\\left( F_{i}\\right)$. <br>\n",
    "Also draw their own $J$ noise terms, $\\epsilon_{i,j}^k$\n",
    "1. Each person $i$ chooses the career track with the highest expected utility: $$j_i^{k*}= \\arg\\max_{j\\in{1,2\\dots,J}}\\left\\{ \\tilde{u}^k_{i,j}\\left( F_{i}\\right)\\right\\} $$\n",
    "1. Store the chosen careers: $j_i^{k*}$, the prior expectation of the value of their chosen career: $\\tilde{u}^k_{i,j=j_i^{k*}}\\left( F_{i}\\right)$, and the realized value of their chosen career track: $u^k_{i,j=j_i^{k*}}=v_{j=j_i^{k*}}+\\epsilon_{i,j=j_i^{k*}}^k$."
   ]
  },
  {
   "cell_type": "markdown",
   "metadata": {},
   "source": [
    "Chosen values will be: <br>\n",
    "$i\\in\\left\\{1,2\\dots,N\\right\\}, N=10$ <br>\n",
    "$F_i = i$<br>\n",
    "So there are 10 graduates. The first has 1 friend in each career, the second has 2 friends, ... the tenth has 10 friends."
   ]
  },
  {
   "cell_type": "markdown",
   "metadata": {},
   "source": [
    "**Question 2:** Simulate and visualize: For each type of graduate, $i$, the share of graduates choosing each career, the average subjective expected utility of the graduates, and the average ex post realized utility given their choice. <br>\n",
    "That is, calculate and visualize: <br>\n",
    "$$\n",
    "\\begin{align*}\n",
    "    \\frac{1}{K} \\sum_{k=1}^{K} \\mathbb{I}\\left\\{ j=j_i^{k*} \\right\\}  \\;\\forall j\\in\\left\\{1,2,\\dots,J\\right\\}\n",
    "\\end{align*}\n",
    "$$\n",
    "$$\n",
    "\\begin{align*}\n",
    "    \\frac{1}{K} \\sum_{k=1}^{K} \\tilde{u}^k_{ij=j_i^{k*}}\\left( F_{i}\\right)\n",
    "\\end{align*}\n",
    "$$\n",
    "And \n",
    "$$\n",
    "\\begin{align*}\n",
    "    \\frac{1}{K} \\sum_{k=1}^{K} u^k_{ij=j_i^{k*}} \n",
    "\\end{align*}\n",
    "$$\n",
    "For each graduate $i$."
   ]
  },
  {
   "cell_type": "code",
   "execution_count": 9,
   "metadata": {},
   "outputs": [],
   "source": [
    "# Write your answer here "
   ]
  },
  {
   "cell_type": "markdown",
   "metadata": {},
   "source": [
    "After a year of working in their career, the graduates learn $u^k_{ij}$ for their chosen job $j_i^{k*}$ perfectly. <br>\n",
    "The can switch to one of the two remaining careers, for which they have the same prior as before, but it will now include a switching cost of $c$ which is known.\n",
    "Their new priors can be written as: \n",
    "$$\n",
    "\\tilde{u}^{k,2}_{ij}\\left( F_{i}\\right) = \\begin{cases}\n",
    "            \\tilde{u}^k_{ij}\\left( F_{i}\\right)-c & \\text{if } j \\neq j_i^{k*} \\\\\n",
    "            u_{ij=j_i^{k*}} & \\text{if } j = j_i^{k*}\n",
    "        \\end{cases}\n",
    "$$"
   ]
  },
  {
   "cell_type": "markdown",
   "metadata": {},
   "source": [
    "We will set $c=1$."
   ]
  },
  {
   "cell_type": "markdown",
   "metadata": {},
   "source": [
    "Their realized utility will be: <br>\n",
    "$$\n",
    "u^{k,2}_{ij}= \\begin{cases}\n",
    "            u_{ij}^k -c & \\text{if } j \\neq j_i^{k*} \\\\\n",
    "            u_{ij=j_i^{k*}} & \\text{if } j = j_i^{k*}\n",
    "        \\end{cases}\n",
    "$$"
   ]
  },
  {
   "cell_type": "markdown",
   "metadata": {},
   "source": [
    "**Question 3:** Following the same approach as in question 2, find the new optimal career choice for each $i$, $k$. Then for each $i$, calculate the average subjective expected utility from their new optimal career choice, and the ex post realized utility of that career. Also, for each $i$, calculate the share of graduates that chooses to switch careers, conditional on which career they chose in the first year. <br>"
   ]
  },
  {
   "cell_type": "code",
   "execution_count": 10,
   "metadata": {},
   "outputs": [],
   "source": [
    "# write your answer here"
   ]
  },
  {
   "cell_type": "markdown",
   "metadata": {},
   "source": [
    "## 3. <a id='toc3_'></a>[Problem 3: Barycentric interpolation](#toc0_)"
   ]
  },
  {
   "cell_type": "markdown",
   "metadata": {},
   "source": [
    "**Problem:** We have a set of random points in the unit square,\n",
    "\n",
    "$$\n",
    "\\mathcal{X} = \\{(x_1,x_2)\\,|\\,x_1\\sim\\mathcal{U}(0,1),x_2\\sim\\mathcal{U}(0,1)\\}.\n",
    "$$\n",
    "\n",
    "For these points, we know the value of some function $f(x_1,x_2)$,\n",
    "\n",
    "$$\n",
    "\\mathcal{F} = \\{f(x_1,x_2) \\,|\\, (x_1,x_2) \\in \\mathcal{X}\\}.\n",
    "$$\n",
    "\n",
    "Now we want to approximate the value $f(y_1,y_2)$ for some  $y=(y_1,y_2)$, where $y_1\\sim\\mathcal{U}(0,1)$ and $y_2\\sim\\mathcal{U}(0,1)$.\n",
    "\n",
    "**Building block I**\n",
    "\n",
    "For an arbitrary triangle $ABC$ and a point $y$, define the so-called barycentric coordinates as:\n",
    "\n",
    "$$\n",
    "\\begin{align*}\n",
    "  r^{ABC}_1 &= \\frac{(B_2-C_2)(y_1-C_1) + (C_1-B_1)(y_2-C_2)}{(B_2-C_2)(A_1-C_1) + (C_1-B_1)(A_2-C_2)} \\\\\n",
    "  r^{ABC}_2 &= \\frac{(C_2-A_2)(y_1-C_1) + (A_1-C_1)(y_2-C_2)}{(B_2-C_2)(A_1-C_1) + (C_1-B_1)(A_2-C_2)} \\\\\n",
    "  r^{ABC}_3 &= 1 - r_1 - r_2.\n",
    "\\end{align*}\n",
    "$$\n",
    "\n",
    "If $r^{ABC}_1 \\in [0,1]$, $r^{ABC}_2 \\in [0,1]$, and $r^{ABC}_3 \\in [0,1]$, then the point is inside the triangle.\n",
    "\n",
    "We always have $y = r^{ABC}_1 A + r^{ABC}_2 B + r^{ABC}_3 C$.\n",
    "\n",
    "**Building block II**\n",
    "\n",
    "Define the following points:\n",
    "\n",
    "$$\n",
    "\\begin{align*}\n",
    "A&=\\arg\\min_{(x_{1},x_{2})\\in\\mathcal{X}}\\sqrt{\\left(x_{1}-y_{1}\\right)^{2}+\\left(x_{2}-y_{2}\\right)^{2}}\\text{ s.t. }x_{1}>y_{1}\\text{ and }x_{2}>y_{2}\\\\\n",
    "B&=\\arg\\min_{(x_{1},x_{2})\\in\\mathcal{X}}\\sqrt{\\left(x_{1}-y_{1}\\right)^{2}+\\left(x_{2}-y_{2}\\right)^{2}}\\text{ s.t. }x_{1}>y_{1}\\text{ and }x_{2}<y_{2}\\\\\n",
    "C&=\\arg\\min_{(x_{1},x_{2})\\in\\mathcal{X}}\\sqrt{\\left(x_{1}-y_{1}\\right)^{2}+\\left(x_{2}-y_{2}\\right)^{2}}\\text{ s.t. }x_{1}<y_{1}\\text{ and }x_{2}<y_{2}\\\\\n",
    "D&=\\arg\\min_{(x_{1},x_{2})\\in\\mathcal{X}}\\sqrt{\\left(x_{1}-y_{1}\\right)^{2}+\\left(x_{2}-y_{2}\\right)^{2}}\\text{ s.t. }x_{1}<y_{1}\\text{ and }x_{2}>y_{2}.\n",
    "\\end{align*}\n",
    "$$\n",
    "\n",
    "**Algorithm:**\n",
    "\n",
    "1. Compute $A$, $B$, $C$, and $D$. If not possible return `NaN`.\n",
    "1. If $y$ is inside the triangle $ABC$ return $r^{ABC}_1 f(A) + r^{ABC}_2 f(B) + r^{ABC}_3 f(C)$.\n",
    "1. If $y$ is inside the triangle $CDA$ return $r^{CDA}_1 f(C) + r^{CDA}_2 f(D) + r^{CDA}_3 f(A)$.\n",
    "1. Return `NaN`.\n",
    "\n"
   ]
  },
  {
   "cell_type": "markdown",
   "metadata": {},
   "source": [
    "**Sample:**"
   ]
  },
  {
   "cell_type": "code",
   "execution_count": 11,
   "metadata": {},
   "outputs": [],
   "source": [
    "rng = np.random.default_rng(2024)\n",
    "\n",
    "X = rng.uniform(size=(50,2))\n",
    "y = rng.uniform(size=(2,))\n"
   ]
  },
  {
   "cell_type": "markdown",
   "metadata": {},
   "source": [
    "**Questions 1:** Find $A$, $B$, $C$ and $D$. Illustrate these together with $X$, $y$ and the triangles $ABC$ and $CDA$."
   ]
  },
  {
   "cell_type": "code",
   "execution_count": 12,
   "metadata": {},
   "outputs": [],
   "source": [
    "# write your answer here"
   ]
  },
  {
   "cell_type": "markdown",
   "metadata": {},
   "source": [
    "**Question 2:** Compute the barycentric coordinates of the point $y$ with respect to the triangles $ABC$ and $CDA$. Which triangle is $y$ located inside?"
   ]
  },
  {
   "cell_type": "code",
   "execution_count": 13,
   "metadata": {},
   "outputs": [],
   "source": [
    "# write your answer here"
   ]
  },
  {
   "cell_type": "markdown",
   "metadata": {},
   "source": [
    "Now consider the function:\n",
    "$$\n",
    "f(x_1,x_2) = x_1 \\cdot x_2\n",
    "$$"
   ]
  },
  {
   "cell_type": "code",
   "execution_count": 14,
   "metadata": {},
   "outputs": [],
   "source": [
    "f = lambda x: x[0]*x[1]\n",
    "F = np.array([f(x) for x in X])"
   ]
  },
  {
   "cell_type": "markdown",
   "metadata": {},
   "source": [
    "**Question 3:** Compute the approximation of $f(y)$ using the full algorithm. Compare with the true value."
   ]
  },
  {
   "cell_type": "code",
   "execution_count": 15,
   "metadata": {},
   "outputs": [],
   "source": [
    "# write your answer here"
   ]
  },
  {
   "cell_type": "markdown",
   "metadata": {},
   "source": [
    "**Question 4:** Repeat question 3 for all points in the set $Y$."
   ]
  },
  {
   "cell_type": "code",
   "execution_count": 16,
   "metadata": {},
   "outputs": [],
   "source": [
    "Y = [(0.2,0.2),(0.8,0.2),(0.8,0.8),(0.8,0.2),(0.5,0.5)]"
   ]
  },
  {
   "cell_type": "code",
   "execution_count": 17,
   "metadata": {},
   "outputs": [],
   "source": [
    "# write your answer here"
   ]
  }
 ],
 "metadata": {
  "kernelspec": {
   "display_name": "base",
   "language": "python",
   "name": "python3"
  },
  "language_info": {
   "codemirror_mode": {
    "name": "ipython",
    "version": 3
   },
   "file_extension": ".py",
   "mimetype": "text/x-python",
   "name": "python",
   "nbconvert_exporter": "python",
   "pygments_lexer": "ipython3",
   "version": "3.11.7"
  }
 },
 "nbformat": 4,
 "nbformat_minor": 2
}
