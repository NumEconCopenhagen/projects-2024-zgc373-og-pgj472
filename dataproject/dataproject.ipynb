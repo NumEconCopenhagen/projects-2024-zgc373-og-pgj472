{
 "cells": [
  {
   "cell_type": "markdown",
   "metadata": {},
   "source": [
    "# The importance of diversification in a portfolio under the CAPM model"
   ]
  },
  {
   "attachments": {},
   "cell_type": "markdown",
   "metadata": {},
   "source": [
    "> **Note the following:** \n",
    "> 1. This is *not* meant to be an example of an actual **data analysis project**, just an example of how to structure such a project.\n",
    "> 1. Remember the general advice on structuring and commenting your code\n",
    "> 1. The `dataproject.py` file includes a function which can be used multiple times in this notebook."
   ]
  },
  {
   "cell_type": "markdown",
   "metadata": {},
   "source": [
    "Imports and set magics:"
   ]
  },
  {
   "cell_type": "code",
   "execution_count": 1,
   "metadata": {},
   "outputs": [],
   "source": [
    "#%pip install matplotlib-venn\n",
    "#%pip install yfinance\n",
    "import pandas as pd\n",
    "import numpy as np\n",
    "import matplotlib.pyplot as plt\n",
    "from IPython.display import display"
   ]
  },
  {
   "cell_type": "code",
   "execution_count": 2,
   "metadata": {},
   "outputs": [],
   "source": [
    "# autoreload modules when code is run\n",
    "%load_ext autoreload\n",
    "%autoreload 2\n",
    "\n",
    "# user written modules\n",
    "from dataproject import StockData\n"
   ]
  },
  {
   "cell_type": "markdown",
   "metadata": {},
   "source": [
    "New try using the PY-file way more than before."
   ]
  },
  {
   "cell_type": "code",
   "execution_count": 3,
   "metadata": {},
   "outputs": [
    {
     "name": "stderr",
     "output_type": "stream",
     "text": [
      "[*********************100%%**********************]  1 of 1 completed\n",
      "[*********************100%%**********************]  1 of 1 completed\n",
      "[*********************100%%**********************]  1 of 1 completed\n",
      "[*********************100%%**********************]  1 of 1 completed\n",
      "[*********************100%%**********************]  1 of 1 completed\n",
      "[*********************100%%**********************]  1 of 1 completed\n"
     ]
    },
    {
     "data": {
      "text/html": [
       "<div>\n",
       "<style scoped>\n",
       "    .dataframe tbody tr th:only-of-type {\n",
       "        vertical-align: middle;\n",
       "    }\n",
       "\n",
       "    .dataframe tbody tr th {\n",
       "        vertical-align: top;\n",
       "    }\n",
       "\n",
       "    .dataframe thead th {\n",
       "        text-align: right;\n",
       "    }\n",
       "</style>\n",
       "<table border=\"1\" class=\"dataframe\">\n",
       "  <thead>\n",
       "    <tr style=\"text-align: right;\">\n",
       "      <th></th>\n",
       "      <th>Open</th>\n",
       "      <th>High</th>\n",
       "      <th>Low</th>\n",
       "      <th>Close</th>\n",
       "      <th>Adj Close</th>\n",
       "      <th>Volume</th>\n",
       "      <th>Daily Return</th>\n",
       "    </tr>\n",
       "  </thead>\n",
       "  <tbody>\n",
       "    <tr>\n",
       "      <th>count</th>\n",
       "      <td>1824.000000</td>\n",
       "      <td>1824.000000</td>\n",
       "      <td>1824.000000</td>\n",
       "      <td>1824.000000</td>\n",
       "      <td>1824.000000</td>\n",
       "      <td>1.824000e+03</td>\n",
       "      <td>1823.000000</td>\n",
       "    </tr>\n",
       "    <tr>\n",
       "      <th>mean</th>\n",
       "      <td>102.807134</td>\n",
       "      <td>103.929729</td>\n",
       "      <td>101.754317</td>\n",
       "      <td>102.896632</td>\n",
       "      <td>101.144880</td>\n",
       "      <td>1.058799e+08</td>\n",
       "      <td>0.001185</td>\n",
       "    </tr>\n",
       "    <tr>\n",
       "      <th>std</th>\n",
       "      <td>54.805248</td>\n",
       "      <td>55.376861</td>\n",
       "      <td>54.256942</td>\n",
       "      <td>54.845197</td>\n",
       "      <td>55.262035</td>\n",
       "      <td>5.365632e+07</td>\n",
       "      <td>0.018777</td>\n",
       "    </tr>\n",
       "    <tr>\n",
       "      <th>min</th>\n",
       "      <td>28.950001</td>\n",
       "      <td>29.082500</td>\n",
       "      <td>28.690001</td>\n",
       "      <td>29.004999</td>\n",
       "      <td>26.959063</td>\n",
       "      <td>2.404830e+07</td>\n",
       "      <td>-0.128647</td>\n",
       "    </tr>\n",
       "    <tr>\n",
       "      <th>25%</th>\n",
       "      <td>46.929376</td>\n",
       "      <td>47.290626</td>\n",
       "      <td>46.503751</td>\n",
       "      <td>46.973749</td>\n",
       "      <td>44.791507</td>\n",
       "      <td>7.077085e+07</td>\n",
       "      <td>-0.007559</td>\n",
       "    </tr>\n",
       "    <tr>\n",
       "      <th>50%</th>\n",
       "      <td>110.451248</td>\n",
       "      <td>112.320000</td>\n",
       "      <td>108.813751</td>\n",
       "      <td>110.389999</td>\n",
       "      <td>108.149414</td>\n",
       "      <td>9.216420e+07</td>\n",
       "      <td>0.000893</td>\n",
       "    </tr>\n",
       "    <tr>\n",
       "      <th>75%</th>\n",
       "      <td>151.190002</td>\n",
       "      <td>153.287498</td>\n",
       "      <td>149.927498</td>\n",
       "      <td>151.339996</td>\n",
       "      <td>150.132576</td>\n",
       "      <td>1.261926e+08</td>\n",
       "      <td>0.010544</td>\n",
       "    </tr>\n",
       "    <tr>\n",
       "      <th>max</th>\n",
       "      <td>198.020004</td>\n",
       "      <td>199.619995</td>\n",
       "      <td>197.000000</td>\n",
       "      <td>198.110001</td>\n",
       "      <td>197.857529</td>\n",
       "      <td>4.479400e+08</td>\n",
       "      <td>0.119808</td>\n",
       "    </tr>\n",
       "  </tbody>\n",
       "</table>\n",
       "</div>"
      ],
      "text/plain": [
       "              Open         High          Low        Close    Adj Close  \\\n",
       "count  1824.000000  1824.000000  1824.000000  1824.000000  1824.000000   \n",
       "mean    102.807134   103.929729   101.754317   102.896632   101.144880   \n",
       "std      54.805248    55.376861    54.256942    54.845197    55.262035   \n",
       "min      28.950001    29.082500    28.690001    29.004999    26.959063   \n",
       "25%      46.929376    47.290626    46.503751    46.973749    44.791507   \n",
       "50%     110.451248   112.320000   108.813751   110.389999   108.149414   \n",
       "75%     151.190002   153.287498   149.927498   151.339996   150.132576   \n",
       "max     198.020004   199.619995   197.000000   198.110001   197.857529   \n",
       "\n",
       "             Volume  Daily Return  \n",
       "count  1.824000e+03   1823.000000  \n",
       "mean   1.058799e+08      0.001185  \n",
       "std    5.365632e+07      0.018777  \n",
       "min    2.404830e+07     -0.128647  \n",
       "25%    7.077085e+07     -0.007559  \n",
       "50%    9.216420e+07      0.000893  \n",
       "75%    1.261926e+08      0.010544  \n",
       "max    4.479400e+08      0.119808  "
      ]
     },
     "metadata": {},
     "output_type": "display_data"
    },
    {
     "data": {
      "text/html": [
       "<div>\n",
       "<style scoped>\n",
       "    .dataframe tbody tr th:only-of-type {\n",
       "        vertical-align: middle;\n",
       "    }\n",
       "\n",
       "    .dataframe tbody tr th {\n",
       "        vertical-align: top;\n",
       "    }\n",
       "\n",
       "    .dataframe thead th {\n",
       "        text-align: right;\n",
       "    }\n",
       "</style>\n",
       "<table border=\"1\" class=\"dataframe\">\n",
       "  <thead>\n",
       "    <tr style=\"text-align: right;\">\n",
       "      <th></th>\n",
       "      <th>Open</th>\n",
       "      <th>High</th>\n",
       "      <th>Low</th>\n",
       "      <th>Close</th>\n",
       "      <th>Adj Close</th>\n",
       "      <th>Volume</th>\n",
       "      <th>Daily Return</th>\n",
       "    </tr>\n",
       "  </thead>\n",
       "  <tbody>\n",
       "    <tr>\n",
       "      <th>count</th>\n",
       "      <td>1824.000000</td>\n",
       "      <td>1824.000000</td>\n",
       "      <td>1824.000000</td>\n",
       "      <td>1824.000000</td>\n",
       "      <td>1824.000000</td>\n",
       "      <td>1.824000e+03</td>\n",
       "      <td>1823.000000</td>\n",
       "    </tr>\n",
       "    <tr>\n",
       "      <th>mean</th>\n",
       "      <td>124.208224</td>\n",
       "      <td>125.420143</td>\n",
       "      <td>122.937248</td>\n",
       "      <td>124.182253</td>\n",
       "      <td>108.118283</td>\n",
       "      <td>8.634918e+06</td>\n",
       "      <td>0.000536</td>\n",
       "    </tr>\n",
       "    <tr>\n",
       "      <th>std</th>\n",
       "      <td>26.894823</td>\n",
       "      <td>27.082769</td>\n",
       "      <td>26.688267</td>\n",
       "      <td>26.912746</td>\n",
       "      <td>31.406659</td>\n",
       "      <td>4.630659e+06</td>\n",
       "      <td>0.019802</td>\n",
       "    </tr>\n",
       "    <tr>\n",
       "      <th>min</th>\n",
       "      <td>55.259998</td>\n",
       "      <td>58.490002</td>\n",
       "      <td>51.599998</td>\n",
       "      <td>54.220001</td>\n",
       "      <td>45.317299</td>\n",
       "      <td>1.640100e+06</td>\n",
       "      <td>-0.221248</td>\n",
       "    </tr>\n",
       "    <tr>\n",
       "      <th>25%</th>\n",
       "      <td>106.949997</td>\n",
       "      <td>107.762497</td>\n",
       "      <td>105.987499</td>\n",
       "      <td>106.847498</td>\n",
       "      <td>86.738306</td>\n",
       "      <td>5.806175e+06</td>\n",
       "      <td>-0.007709</td>\n",
       "    </tr>\n",
       "    <tr>\n",
       "      <th>50%</th>\n",
       "      <td>118.355000</td>\n",
       "      <td>119.255001</td>\n",
       "      <td>117.439999</td>\n",
       "      <td>118.274998</td>\n",
       "      <td>96.132313</td>\n",
       "      <td>7.521250e+06</td>\n",
       "      <td>0.000738</td>\n",
       "    </tr>\n",
       "    <tr>\n",
       "      <th>75%</th>\n",
       "      <td>148.097504</td>\n",
       "      <td>149.277496</td>\n",
       "      <td>145.804996</td>\n",
       "      <td>147.580006</td>\n",
       "      <td>143.261757</td>\n",
       "      <td>1.012775e+07</td>\n",
       "      <td>0.008751</td>\n",
       "    </tr>\n",
       "    <tr>\n",
       "      <th>max</th>\n",
       "      <td>187.119995</td>\n",
       "      <td>189.679993</td>\n",
       "      <td>186.179993</td>\n",
       "      <td>188.050003</td>\n",
       "      <td>178.740128</td>\n",
       "      <td>5.723100e+07</td>\n",
       "      <td>0.227407</td>\n",
       "    </tr>\n",
       "  </tbody>\n",
       "</table>\n",
       "</div>"
      ],
      "text/plain": [
       "              Open         High          Low        Close    Adj Close  \\\n",
       "count  1824.000000  1824.000000  1824.000000  1824.000000  1824.000000   \n",
       "mean    124.208224   125.420143   122.937248   124.182253   108.118283   \n",
       "std      26.894823    27.082769    26.688267    26.912746    31.406659   \n",
       "min      55.259998    58.490002    51.599998    54.220001    45.317299   \n",
       "25%     106.949997   107.762497   105.987499   106.847498    86.738306   \n",
       "50%     118.355000   119.255001   117.439999   118.274998    96.132313   \n",
       "75%     148.097504   149.277496   145.804996   147.580006   143.261757   \n",
       "max     187.119995   189.679993   186.179993   188.050003   178.740128   \n",
       "\n",
       "             Volume  Daily Return  \n",
       "count  1.824000e+03   1823.000000  \n",
       "mean   8.634918e+06      0.000536  \n",
       "std    4.630659e+06      0.019802  \n",
       "min    1.640100e+06     -0.221248  \n",
       "25%    5.806175e+06     -0.007709  \n",
       "50%    7.521250e+06      0.000738  \n",
       "75%    1.012775e+07      0.008751  \n",
       "max    5.723100e+07      0.227407  "
      ]
     },
     "metadata": {},
     "output_type": "display_data"
    },
    {
     "data": {
      "text/html": [
       "<div>\n",
       "<style scoped>\n",
       "    .dataframe tbody tr th:only-of-type {\n",
       "        vertical-align: middle;\n",
       "    }\n",
       "\n",
       "    .dataframe tbody tr th {\n",
       "        vertical-align: top;\n",
       "    }\n",
       "\n",
       "    .dataframe thead th {\n",
       "        text-align: right;\n",
       "    }\n",
       "</style>\n",
       "<table border=\"1\" class=\"dataframe\">\n",
       "  <thead>\n",
       "    <tr style=\"text-align: right;\">\n",
       "      <th></th>\n",
       "      <th>Open</th>\n",
       "      <th>High</th>\n",
       "      <th>Low</th>\n",
       "      <th>Close</th>\n",
       "      <th>Adj Close</th>\n",
       "      <th>Volume</th>\n",
       "      <th>Daily Return</th>\n",
       "    </tr>\n",
       "  </thead>\n",
       "  <tbody>\n",
       "    <tr>\n",
       "      <th>count</th>\n",
       "      <td>1824.000000</td>\n",
       "      <td>1824.000000</td>\n",
       "      <td>1824.000000</td>\n",
       "      <td>1824.000000</td>\n",
       "      <td>1824.000000</td>\n",
       "      <td>1.824000e+03</td>\n",
       "      <td>1823.000000</td>\n",
       "    </tr>\n",
       "    <tr>\n",
       "      <th>mean</th>\n",
       "      <td>52.584452</td>\n",
       "      <td>52.944232</td>\n",
       "      <td>52.204364</td>\n",
       "      <td>52.576365</td>\n",
       "      <td>47.317078</td>\n",
       "      <td>1.419623e+07</td>\n",
       "      <td>0.000396</td>\n",
       "    </tr>\n",
       "    <tr>\n",
       "      <th>std</th>\n",
       "      <td>6.843534</td>\n",
       "      <td>6.883937</td>\n",
       "      <td>6.794504</td>\n",
       "      <td>6.849499</td>\n",
       "      <td>8.971716</td>\n",
       "      <td>6.391772e+06</td>\n",
       "      <td>0.011990</td>\n",
       "    </tr>\n",
       "    <tr>\n",
       "      <th>min</th>\n",
       "      <td>38.759998</td>\n",
       "      <td>38.889999</td>\n",
       "      <td>36.270000</td>\n",
       "      <td>37.560001</td>\n",
       "      <td>32.094234</td>\n",
       "      <td>2.996300e+06</td>\n",
       "      <td>-0.096725</td>\n",
       "    </tr>\n",
       "    <tr>\n",
       "      <th>25%</th>\n",
       "      <td>46.107500</td>\n",
       "      <td>46.367499</td>\n",
       "      <td>45.860001</td>\n",
       "      <td>46.080002</td>\n",
       "      <td>38.771411</td>\n",
       "      <td>1.025770e+07</td>\n",
       "      <td>-0.004733</td>\n",
       "    </tr>\n",
       "    <tr>\n",
       "      <th>50%</th>\n",
       "      <td>53.020000</td>\n",
       "      <td>53.395000</td>\n",
       "      <td>52.565001</td>\n",
       "      <td>53.025000</td>\n",
       "      <td>46.784449</td>\n",
       "      <td>1.288415e+07</td>\n",
       "      <td>0.000693</td>\n",
       "    </tr>\n",
       "    <tr>\n",
       "      <th>75%</th>\n",
       "      <td>59.250000</td>\n",
       "      <td>59.650000</td>\n",
       "      <td>58.770000</td>\n",
       "      <td>59.237499</td>\n",
       "      <td>56.848198</td>\n",
       "      <td>1.606878e+07</td>\n",
       "      <td>0.005969</td>\n",
       "    </tr>\n",
       "    <tr>\n",
       "      <th>max</th>\n",
       "      <td>67.000000</td>\n",
       "      <td>67.199997</td>\n",
       "      <td>65.720001</td>\n",
       "      <td>66.209999</td>\n",
       "      <td>62.319382</td>\n",
       "      <td>6.784570e+07</td>\n",
       "      <td>0.064796</td>\n",
       "    </tr>\n",
       "  </tbody>\n",
       "</table>\n",
       "</div>"
      ],
      "text/plain": [
       "              Open         High          Low        Close    Adj Close  \\\n",
       "count  1824.000000  1824.000000  1824.000000  1824.000000  1824.000000   \n",
       "mean     52.584452    52.944232    52.204364    52.576365    47.317078   \n",
       "std       6.843534     6.883937     6.794504     6.849499     8.971716   \n",
       "min      38.759998    38.889999    36.270000    37.560001    32.094234   \n",
       "25%      46.107500    46.367499    45.860001    46.080002    38.771411   \n",
       "50%      53.020000    53.395000    52.565001    53.025000    46.784449   \n",
       "75%      59.250000    59.650000    58.770000    59.237499    56.848198   \n",
       "max      67.000000    67.199997    65.720001    66.209999    62.319382   \n",
       "\n",
       "             Volume  Daily Return  \n",
       "count  1.824000e+03   1823.000000  \n",
       "mean   1.419623e+07      0.000396  \n",
       "std    6.391772e+06      0.011990  \n",
       "min    2.996300e+06     -0.096725  \n",
       "25%    1.025770e+07     -0.004733  \n",
       "50%    1.288415e+07      0.000693  \n",
       "75%    1.606878e+07      0.005969  \n",
       "max    6.784570e+07      0.064796  "
      ]
     },
     "metadata": {},
     "output_type": "display_data"
    },
    {
     "data": {
      "text/html": [
       "<div>\n",
       "<style scoped>\n",
       "    .dataframe tbody tr th:only-of-type {\n",
       "        vertical-align: middle;\n",
       "    }\n",
       "\n",
       "    .dataframe tbody tr th {\n",
       "        vertical-align: top;\n",
       "    }\n",
       "\n",
       "    .dataframe thead th {\n",
       "        text-align: right;\n",
       "    }\n",
       "</style>\n",
       "<table border=\"1\" class=\"dataframe\">\n",
       "  <thead>\n",
       "    <tr style=\"text-align: right;\">\n",
       "      <th></th>\n",
       "      <th>Open</th>\n",
       "      <th>High</th>\n",
       "      <th>Low</th>\n",
       "      <th>Close</th>\n",
       "      <th>Adj Close</th>\n",
       "      <th>Volume</th>\n",
       "      <th>Daily Return</th>\n",
       "    </tr>\n",
       "  </thead>\n",
       "  <tbody>\n",
       "    <tr>\n",
       "      <th>count</th>\n",
       "      <td>1824.000000</td>\n",
       "      <td>1824.000000</td>\n",
       "      <td>1824.000000</td>\n",
       "      <td>1824.000000</td>\n",
       "      <td>1824.000000</td>\n",
       "      <td>1.824000e+03</td>\n",
       "      <td>1823.000000</td>\n",
       "    </tr>\n",
       "    <tr>\n",
       "      <th>mean</th>\n",
       "      <td>214.324002</td>\n",
       "      <td>215.907445</td>\n",
       "      <td>212.712824</td>\n",
       "      <td>214.339644</td>\n",
       "      <td>199.322879</td>\n",
       "      <td>3.287625e+06</td>\n",
       "      <td>0.000643</td>\n",
       "    </tr>\n",
       "    <tr>\n",
       "      <th>std</th>\n",
       "      <td>47.086060</td>\n",
       "      <td>47.306245</td>\n",
       "      <td>46.816290</td>\n",
       "      <td>47.067030</td>\n",
       "      <td>52.819203</td>\n",
       "      <td>1.536566e+06</td>\n",
       "      <td>0.013482</td>\n",
       "    </tr>\n",
       "    <tr>\n",
       "      <th>min</th>\n",
       "      <td>118.930000</td>\n",
       "      <td>119.739998</td>\n",
       "      <td>118.180000</td>\n",
       "      <td>119.480003</td>\n",
       "      <td>100.620811</td>\n",
       "      <td>9.632000e+05</td>\n",
       "      <td>-0.158754</td>\n",
       "    </tr>\n",
       "    <tr>\n",
       "      <th>25%</th>\n",
       "      <td>173.590004</td>\n",
       "      <td>174.532501</td>\n",
       "      <td>172.367496</td>\n",
       "      <td>173.502495</td>\n",
       "      <td>150.360783</td>\n",
       "      <td>2.369275e+06</td>\n",
       "      <td>-0.005084</td>\n",
       "    </tr>\n",
       "    <tr>\n",
       "      <th>50%</th>\n",
       "      <td>213.010002</td>\n",
       "      <td>214.699997</td>\n",
       "      <td>211.339996</td>\n",
       "      <td>212.849998</td>\n",
       "      <td>195.197563</td>\n",
       "      <td>2.936250e+06</td>\n",
       "      <td>0.000680</td>\n",
       "    </tr>\n",
       "    <tr>\n",
       "      <th>75%</th>\n",
       "      <td>253.207500</td>\n",
       "      <td>255.369999</td>\n",
       "      <td>251.105000</td>\n",
       "      <td>253.307499</td>\n",
       "      <td>243.216564</td>\n",
       "      <td>3.709975e+06</td>\n",
       "      <td>0.006543</td>\n",
       "    </tr>\n",
       "    <tr>\n",
       "      <th>max</th>\n",
       "      <td>300.950012</td>\n",
       "      <td>302.390015</td>\n",
       "      <td>299.309998</td>\n",
       "      <td>300.529999</td>\n",
       "      <td>298.829773</td>\n",
       "      <td>1.766210e+07</td>\n",
       "      <td>0.181255</td>\n",
       "    </tr>\n",
       "  </tbody>\n",
       "</table>\n",
       "</div>"
      ],
      "text/plain": [
       "              Open         High          Low        Close    Adj Close  \\\n",
       "count  1824.000000  1824.000000  1824.000000  1824.000000  1824.000000   \n",
       "mean    214.324002   215.907445   212.712824   214.339644   199.322879   \n",
       "std      47.086060    47.306245    46.816290    47.067030    52.819203   \n",
       "min     118.930000   119.739998   118.180000   119.480003   100.620811   \n",
       "25%     173.590004   174.532501   172.367496   173.502495   150.360783   \n",
       "50%     213.010002   214.699997   211.339996   212.849998   195.197563   \n",
       "75%     253.207500   255.369999   251.105000   253.307499   243.216564   \n",
       "max     300.950012   302.390015   299.309998   300.529999   298.829773   \n",
       "\n",
       "             Volume  Daily Return  \n",
       "count  1.824000e+03   1823.000000  \n",
       "mean   3.287625e+06      0.000643  \n",
       "std    1.536566e+06      0.013482  \n",
       "min    9.632000e+05     -0.158754  \n",
       "25%    2.369275e+06     -0.005084  \n",
       "50%    2.936250e+06      0.000680  \n",
       "75%    3.709975e+06      0.006543  \n",
       "max    1.766210e+07      0.181255  "
      ]
     },
     "metadata": {},
     "output_type": "display_data"
    },
    {
     "data": {
      "text/html": [
       "<div>\n",
       "<style scoped>\n",
       "    .dataframe tbody tr th:only-of-type {\n",
       "        vertical-align: middle;\n",
       "    }\n",
       "\n",
       "    .dataframe tbody tr th {\n",
       "        vertical-align: top;\n",
       "    }\n",
       "\n",
       "    .dataframe thead th {\n",
       "        text-align: right;\n",
       "    }\n",
       "</style>\n",
       "<table border=\"1\" class=\"dataframe\">\n",
       "  <thead>\n",
       "    <tr style=\"text-align: right;\">\n",
       "      <th></th>\n",
       "      <th>Open</th>\n",
       "      <th>High</th>\n",
       "      <th>Low</th>\n",
       "      <th>Close</th>\n",
       "      <th>Adj Close</th>\n",
       "      <th>Volume</th>\n",
       "      <th>Daily Return</th>\n",
       "    </tr>\n",
       "  </thead>\n",
       "  <tbody>\n",
       "    <tr>\n",
       "      <th>count</th>\n",
       "      <td>1824.000000</td>\n",
       "      <td>1824.000000</td>\n",
       "      <td>1824.000000</td>\n",
       "      <td>1824.000000</td>\n",
       "      <td>1824.000000</td>\n",
       "      <td>1.824000e+03</td>\n",
       "      <td>1823.000000</td>\n",
       "    </tr>\n",
       "    <tr>\n",
       "      <th>mean</th>\n",
       "      <td>31.253618</td>\n",
       "      <td>31.598169</td>\n",
       "      <td>30.907056</td>\n",
       "      <td>31.252812</td>\n",
       "      <td>28.703716</td>\n",
       "      <td>5.827184e+07</td>\n",
       "      <td>0.000574</td>\n",
       "    </tr>\n",
       "    <tr>\n",
       "      <th>std</th>\n",
       "      <td>6.209880</td>\n",
       "      <td>6.257163</td>\n",
       "      <td>6.154673</td>\n",
       "      <td>6.201696</td>\n",
       "      <td>6.404639</td>\n",
       "      <td>2.590219e+07</td>\n",
       "      <td>0.020358</td>\n",
       "    </tr>\n",
       "    <tr>\n",
       "      <th>min</th>\n",
       "      <td>19.260000</td>\n",
       "      <td>19.670000</td>\n",
       "      <td>17.950001</td>\n",
       "      <td>18.080000</td>\n",
       "      <td>16.361563</td>\n",
       "      <td>1.380540e+07</td>\n",
       "      <td>-0.153973</td>\n",
       "    </tr>\n",
       "    <tr>\n",
       "      <th>25%</th>\n",
       "      <td>27.090000</td>\n",
       "      <td>27.402500</td>\n",
       "      <td>26.737500</td>\n",
       "      <td>27.007500</td>\n",
       "      <td>24.238400</td>\n",
       "      <td>4.097392e+07</td>\n",
       "      <td>-0.009170</td>\n",
       "    </tr>\n",
       "    <tr>\n",
       "      <th>50%</th>\n",
       "      <td>29.990000</td>\n",
       "      <td>30.240000</td>\n",
       "      <td>29.660000</td>\n",
       "      <td>29.980000</td>\n",
       "      <td>27.200102</td>\n",
       "      <td>5.151200e+07</td>\n",
       "      <td>0.000352</td>\n",
       "    </tr>\n",
       "    <tr>\n",
       "      <th>75%</th>\n",
       "      <td>34.412499</td>\n",
       "      <td>34.812501</td>\n",
       "      <td>34.080000</td>\n",
       "      <td>34.470001</td>\n",
       "      <td>32.972403</td>\n",
       "      <td>6.808665e+07</td>\n",
       "      <td>0.010360</td>\n",
       "    </tr>\n",
       "    <tr>\n",
       "      <th>max</th>\n",
       "      <td>49.910000</td>\n",
       "      <td>50.110001</td>\n",
       "      <td>49.029999</td>\n",
       "      <td>49.380001</td>\n",
       "      <td>46.471878</td>\n",
       "      <td>2.595458e+08</td>\n",
       "      <td>0.177962</td>\n",
       "    </tr>\n",
       "  </tbody>\n",
       "</table>\n",
       "</div>"
      ],
      "text/plain": [
       "              Open         High          Low        Close    Adj Close  \\\n",
       "count  1824.000000  1824.000000  1824.000000  1824.000000  1824.000000   \n",
       "mean     31.253618    31.598169    30.907056    31.252812    28.703716   \n",
       "std       6.209880     6.257163     6.154673     6.201696     6.404639   \n",
       "min      19.260000    19.670000    17.950001    18.080000    16.361563   \n",
       "25%      27.090000    27.402500    26.737500    27.007500    24.238400   \n",
       "50%      29.990000    30.240000    29.660000    29.980000    27.200102   \n",
       "75%      34.412499    34.812501    34.080000    34.470001    32.972403   \n",
       "max      49.910000    50.110001    49.029999    49.380001    46.471878   \n",
       "\n",
       "             Volume  Daily Return  \n",
       "count  1.824000e+03   1823.000000  \n",
       "mean   5.827184e+07      0.000574  \n",
       "std    2.590219e+07      0.020358  \n",
       "min    1.380540e+07     -0.153973  \n",
       "25%    4.097392e+07     -0.009170  \n",
       "50%    5.151200e+07      0.000352  \n",
       "75%    6.808665e+07      0.010360  \n",
       "max    2.595458e+08      0.177962  "
      ]
     },
     "metadata": {},
     "output_type": "display_data"
    },
    {
     "data": {
      "text/html": [
       "<div>\n",
       "<style scoped>\n",
       "    .dataframe tbody tr th:only-of-type {\n",
       "        vertical-align: middle;\n",
       "    }\n",
       "\n",
       "    .dataframe tbody tr th {\n",
       "        vertical-align: top;\n",
       "    }\n",
       "\n",
       "    .dataframe thead th {\n",
       "        text-align: right;\n",
       "    }\n",
       "</style>\n",
       "<table border=\"1\" class=\"dataframe\">\n",
       "  <thead>\n",
       "    <tr style=\"text-align: right;\">\n",
       "      <th></th>\n",
       "      <th>Open</th>\n",
       "      <th>High</th>\n",
       "      <th>Low</th>\n",
       "      <th>Close</th>\n",
       "      <th>Adj Close</th>\n",
       "      <th>Volume</th>\n",
       "      <th>Daily Return</th>\n",
       "    </tr>\n",
       "  </thead>\n",
       "  <tbody>\n",
       "    <tr>\n",
       "      <th>count</th>\n",
       "      <td>1824.000000</td>\n",
       "      <td>1824.000000</td>\n",
       "      <td>1824.000000</td>\n",
       "      <td>1824.000000</td>\n",
       "      <td>1824.000000</td>\n",
       "      <td>1.824000e+03</td>\n",
       "      <td>1823.000000</td>\n",
       "    </tr>\n",
       "    <tr>\n",
       "      <th>mean</th>\n",
       "      <td>100.278355</td>\n",
       "      <td>101.313048</td>\n",
       "      <td>99.234095</td>\n",
       "      <td>100.279375</td>\n",
       "      <td>96.837206</td>\n",
       "      <td>7.571193e+06</td>\n",
       "      <td>0.000536</td>\n",
       "    </tr>\n",
       "    <tr>\n",
       "      <th>std</th>\n",
       "      <td>31.067600</td>\n",
       "      <td>31.354797</td>\n",
       "      <td>30.714940</td>\n",
       "      <td>31.012852</td>\n",
       "      <td>31.058225</td>\n",
       "      <td>4.199420e+06</td>\n",
       "      <td>0.019503</td>\n",
       "    </tr>\n",
       "    <tr>\n",
       "      <th>min</th>\n",
       "      <td>50.799999</td>\n",
       "      <td>51.070000</td>\n",
       "      <td>50.349998</td>\n",
       "      <td>50.830002</td>\n",
       "      <td>47.433586</td>\n",
       "      <td>1.821900e+06</td>\n",
       "      <td>-0.128081</td>\n",
       "    </tr>\n",
       "    <tr>\n",
       "      <th>25%</th>\n",
       "      <td>77.355000</td>\n",
       "      <td>78.009998</td>\n",
       "      <td>76.199997</td>\n",
       "      <td>77.155003</td>\n",
       "      <td>72.749031</td>\n",
       "      <td>5.251575e+06</td>\n",
       "      <td>-0.008544</td>\n",
       "    </tr>\n",
       "    <tr>\n",
       "      <th>50%</th>\n",
       "      <td>98.500000</td>\n",
       "      <td>99.545002</td>\n",
       "      <td>97.720001</td>\n",
       "      <td>98.615002</td>\n",
       "      <td>95.724354</td>\n",
       "      <td>6.578750e+06</td>\n",
       "      <td>0.000364</td>\n",
       "    </tr>\n",
       "    <tr>\n",
       "      <th>75%</th>\n",
       "      <td>122.610001</td>\n",
       "      <td>124.085001</td>\n",
       "      <td>120.985003</td>\n",
       "      <td>122.392500</td>\n",
       "      <td>120.247236</td>\n",
       "      <td>8.558225e+06</td>\n",
       "      <td>0.010320</td>\n",
       "    </tr>\n",
       "    <tr>\n",
       "      <th>max</th>\n",
       "      <td>176.350006</td>\n",
       "      <td>179.100006</td>\n",
       "      <td>175.500000</td>\n",
       "      <td>177.509995</td>\n",
       "      <td>172.454758</td>\n",
       "      <td>4.817610e+07</td>\n",
       "      <td>0.155314</td>\n",
       "    </tr>\n",
       "  </tbody>\n",
       "</table>\n",
       "</div>"
      ],
      "text/plain": [
       "              Open         High          Low        Close    Adj Close  \\\n",
       "count  1824.000000  1824.000000  1824.000000  1824.000000  1824.000000   \n",
       "mean    100.278355   101.313048    99.234095   100.279375    96.837206   \n",
       "std      31.067600    31.354797    30.714940    31.012852    31.058225   \n",
       "min      50.799999    51.070000    50.349998    50.830002    47.433586   \n",
       "25%      77.355000    78.009998    76.199997    77.155003    72.749031   \n",
       "50%      98.500000    99.545002    97.720001    98.615002    95.724354   \n",
       "75%     122.610001   124.085001   120.985003   122.392500   120.247236   \n",
       "max     176.350006   179.100006   175.500000   177.509995   172.454758   \n",
       "\n",
       "             Volume  Daily Return  \n",
       "count  1.824000e+03   1823.000000  \n",
       "mean   7.571193e+06      0.000536  \n",
       "std    4.199420e+06      0.019503  \n",
       "min    1.821900e+06     -0.128081  \n",
       "25%    5.251575e+06     -0.008544  \n",
       "50%    6.578750e+06      0.000364  \n",
       "75%    8.558225e+06      0.010320  \n",
       "max    4.817610e+07      0.155314  "
      ]
     },
     "metadata": {},
     "output_type": "display_data"
    },
    {
     "name": "stderr",
     "output_type": "stream",
     "text": [
      "[*********************100%%**********************]  1 of 1 completed\n",
      "[*********************100%%**********************]  1 of 1 completed\n",
      "[*********************100%%**********************]  1 of 1 completed\n",
      "[*********************100%%**********************]  1 of 1 completed\n",
      "[*********************100%%**********************]  1 of 1 completed\n",
      "[*********************100%%**********************]  1 of 1 completed\n"
     ]
    },
    {
     "data": {
      "image/png": "[encoded data removed]",
      "text/plain": [
       "<Figure size 1000x600 with 1 Axes>"
      ]
     },
     "metadata": {},
     "output_type": "display_data"
    }
   ],
   "source": [
    "SD = StockData(['AAPL', 'CVX', 'KO', 'MCD', 'BAC', 'NKE'], 2017, 2024)\n",
    "\n",
    "# Call the six_stocks_ method to calculate daily returns and get the DataFrame\n",
    "df = SD.six_stocks_()\n",
    "\n",
    "# Plot the DataFrame with explicit legend labels\n",
    "df.plot(figsize=(10, 6))\n",
    "plt.title('Daily Returns for Six Stocks')\n",
    "plt.xlabel('Date')\n",
    "plt.ylabel('Daily Return')\n",
    "\n",
    "# Set legend labels to ticker symbols\n",
    "plt.legend(['APPLE', 'Chevron corp', 'Coca cola', 'McD', 'Bank of America', 'Nike'])\n",
    "\n",
    "plt.grid(True)\n",
    "plt.show()\n"
   ]
  },
  {
   "cell_type": "code",
   "execution_count": 4,
   "metadata": {},
   "outputs": [
    {
     "data": {
      "text/html": [
       "<div>\n",
       "<style scoped>\n",
       "    .dataframe tbody tr th:only-of-type {\n",
       "        vertical-align: middle;\n",
       "    }\n",
       "\n",
       "    .dataframe tbody tr th {\n",
       "        vertical-align: top;\n",
       "    }\n",
       "\n",
       "    .dataframe thead th {\n",
       "        text-align: right;\n",
       "    }\n",
       "</style>\n",
       "<table border=\"1\" class=\"dataframe\">\n",
       "  <thead>\n",
       "    <tr style=\"text-align: right;\">\n",
       "      <th></th>\n",
       "      <th>Expected Return (%)</th>\n",
       "    </tr>\n",
       "    <tr>\n",
       "      <th>Ticker</th>\n",
       "      <th></th>\n",
       "    </tr>\n",
       "  </thead>\n",
       "  <tbody>\n",
       "    <tr>\n",
       "      <th>Apple Inc.</th>\n",
       "      <td>0.118518</td>\n",
       "    </tr>\n",
       "    <tr>\n",
       "      <th>Chevron Corporation</th>\n",
       "      <td>0.053565</td>\n",
       "    </tr>\n",
       "    <tr>\n",
       "      <th>The Coca-Cola Company</th>\n",
       "      <td>0.039587</td>\n",
       "    </tr>\n",
       "    <tr>\n",
       "      <th>McDonald's Corporation</th>\n",
       "      <td>0.064281</td>\n",
       "    </tr>\n",
       "    <tr>\n",
       "      <th>Bank of America Corporation</th>\n",
       "      <td>0.057442</td>\n",
       "    </tr>\n",
       "    <tr>\n",
       "      <th>Nike, Inc.</th>\n",
       "      <td>0.053610</td>\n",
       "    </tr>\n",
       "  </tbody>\n",
       "</table>\n",
       "</div>"
      ],
      "text/plain": [
       "                             Expected Return (%)\n",
       "Ticker                                          \n",
       "Apple Inc.                              0.118518\n",
       "Chevron Corporation                     0.053565\n",
       "The Coca-Cola Company                   0.039587\n",
       "McDonald's Corporation                  0.064281\n",
       "Bank of America Corporation             0.057442\n",
       "Nike, Inc.                              0.053610"
      ]
     },
     "metadata": {},
     "output_type": "display_data"
    }
   ],
   "source": [
    "# Call the expected_return_ method to get the filtered DataFrame\n",
    "expected_returns_df_filtered = SD.expected_return_()\n",
    "\n",
    "# Display the filtered DataFrame containing the expected returns with company names\n",
    "display(expected_returns_df_filtered)"
   ]
  },
  {
   "cell_type": "code",
   "execution_count": 5,
   "metadata": {},
   "outputs": [
    {
     "name": "stdout",
     "output_type": "stream",
     "text": [
      "Covariance Matrix for Two Stocks:\n"
     ]
    },
    {
     "data": {
      "text/html": [
       "<div>\n",
       "<style scoped>\n",
       "    .dataframe tbody tr th:only-of-type {\n",
       "        vertical-align: middle;\n",
       "    }\n",
       "\n",
       "    .dataframe tbody tr th {\n",
       "        vertical-align: top;\n",
       "    }\n",
       "\n",
       "    .dataframe thead th {\n",
       "        text-align: right;\n",
       "    }\n",
       "</style>\n",
       "<table border=\"1\" class=\"dataframe\">\n",
       "  <thead>\n",
       "    <tr style=\"text-align: right;\">\n",
       "      <th></th>\n",
       "      <th>AAPL</th>\n",
       "      <th>CVX</th>\n",
       "    </tr>\n",
       "  </thead>\n",
       "  <tbody>\n",
       "    <tr>\n",
       "      <th>AAPL</th>\n",
       "      <td>0.000353</td>\n",
       "      <td>0.000128</td>\n",
       "    </tr>\n",
       "    <tr>\n",
       "      <th>CVX</th>\n",
       "      <td>0.000128</td>\n",
       "      <td>0.000392</td>\n",
       "    </tr>\n",
       "  </tbody>\n",
       "</table>\n",
       "</div>"
      ],
      "text/plain": [
       "          AAPL       CVX\n",
       "AAPL  0.000353  0.000128\n",
       "CVX   0.000128  0.000392"
      ]
     },
     "metadata": {},
     "output_type": "display_data"
    },
    {
     "name": "stdout",
     "output_type": "stream",
     "text": [
      "Covariance Matrix for Four Stocks:\n"
     ]
    },
    {
     "data": {
      "text/html": [
       "<div>\n",
       "<style scoped>\n",
       "    .dataframe tbody tr th:only-of-type {\n",
       "        vertical-align: middle;\n",
       "    }\n",
       "\n",
       "    .dataframe tbody tr th {\n",
       "        vertical-align: top;\n",
       "    }\n",
       "\n",
       "    .dataframe thead th {\n",
       "        text-align: right;\n",
       "    }\n",
       "</style>\n",
       "<table border=\"1\" class=\"dataframe\">\n",
       "  <thead>\n",
       "    <tr style=\"text-align: right;\">\n",
       "      <th></th>\n",
       "      <th>AAPL</th>\n",
       "      <th>CVX</th>\n",
       "      <th>KO</th>\n",
       "      <th>MCD</th>\n",
       "    </tr>\n",
       "  </thead>\n",
       "  <tbody>\n",
       "    <tr>\n",
       "      <th>AAPL</th>\n",
       "      <td>0.000353</td>\n",
       "      <td>0.000128</td>\n",
       "      <td>0.000088</td>\n",
       "      <td>0.000110</td>\n",
       "    </tr>\n",
       "    <tr>\n",
       "      <th>CVX</th>\n",
       "      <td>0.000128</td>\n",
       "      <td>0.000392</td>\n",
       "      <td>0.000100</td>\n",
       "      <td>0.000119</td>\n",
       "    </tr>\n",
       "    <tr>\n",
       "      <th>KO</th>\n",
       "      <td>0.000088</td>\n",
       "      <td>0.000100</td>\n",
       "      <td>0.000144</td>\n",
       "      <td>0.000086</td>\n",
       "    </tr>\n",
       "    <tr>\n",
       "      <th>MCD</th>\n",
       "      <td>0.000110</td>\n",
       "      <td>0.000119</td>\n",
       "      <td>0.000086</td>\n",
       "      <td>0.000182</td>\n",
       "    </tr>\n",
       "  </tbody>\n",
       "</table>\n",
       "</div>"
      ],
      "text/plain": [
       "          AAPL       CVX        KO       MCD\n",
       "AAPL  0.000353  0.000128  0.000088  0.000110\n",
       "CVX   0.000128  0.000392  0.000100  0.000119\n",
       "KO    0.000088  0.000100  0.000144  0.000086\n",
       "MCD   0.000110  0.000119  0.000086  0.000182"
      ]
     },
     "metadata": {},
     "output_type": "display_data"
    },
    {
     "name": "stdout",
     "output_type": "stream",
     "text": [
      "Covariance Matrix for Six Stocks:\n"
     ]
    },
    {
     "data": {
      "text/html": [
       "<div>\n",
       "<style scoped>\n",
       "    .dataframe tbody tr th:only-of-type {\n",
       "        vertical-align: middle;\n",
       "    }\n",
       "\n",
       "    .dataframe tbody tr th {\n",
       "        vertical-align: top;\n",
       "    }\n",
       "\n",
       "    .dataframe thead th {\n",
       "        text-align: right;\n",
       "    }\n",
       "</style>\n",
       "<table border=\"1\" class=\"dataframe\">\n",
       "  <thead>\n",
       "    <tr style=\"text-align: right;\">\n",
       "      <th></th>\n",
       "      <th>AAPL</th>\n",
       "      <th>CVX</th>\n",
       "      <th>KO</th>\n",
       "      <th>MCD</th>\n",
       "      <th>BAC</th>\n",
       "      <th>NKE</th>\n",
       "    </tr>\n",
       "  </thead>\n",
       "  <tbody>\n",
       "    <tr>\n",
       "      <th>AAPL</th>\n",
       "      <td>0.000353</td>\n",
       "      <td>0.000128</td>\n",
       "      <td>0.000088</td>\n",
       "      <td>0.000110</td>\n",
       "      <td>0.000165</td>\n",
       "      <td>0.000178</td>\n",
       "    </tr>\n",
       "    <tr>\n",
       "      <th>CVX</th>\n",
       "      <td>0.000128</td>\n",
       "      <td>0.000392</td>\n",
       "      <td>0.000100</td>\n",
       "      <td>0.000119</td>\n",
       "      <td>0.000245</td>\n",
       "      <td>0.000142</td>\n",
       "    </tr>\n",
       "    <tr>\n",
       "      <th>KO</th>\n",
       "      <td>0.000088</td>\n",
       "      <td>0.000100</td>\n",
       "      <td>0.000144</td>\n",
       "      <td>0.000086</td>\n",
       "      <td>0.000111</td>\n",
       "      <td>0.000094</td>\n",
       "    </tr>\n",
       "    <tr>\n",
       "      <th>MCD</th>\n",
       "      <td>0.000110</td>\n",
       "      <td>0.000119</td>\n",
       "      <td>0.000086</td>\n",
       "      <td>0.000182</td>\n",
       "      <td>0.000126</td>\n",
       "      <td>0.000114</td>\n",
       "    </tr>\n",
       "    <tr>\n",
       "      <th>BAC</th>\n",
       "      <td>0.000165</td>\n",
       "      <td>0.000245</td>\n",
       "      <td>0.000111</td>\n",
       "      <td>0.000126</td>\n",
       "      <td>0.000414</td>\n",
       "      <td>0.000182</td>\n",
       "    </tr>\n",
       "    <tr>\n",
       "      <th>NKE</th>\n",
       "      <td>0.000178</td>\n",
       "      <td>0.000142</td>\n",
       "      <td>0.000094</td>\n",
       "      <td>0.000114</td>\n",
       "      <td>0.000182</td>\n",
       "      <td>0.000380</td>\n",
       "    </tr>\n",
       "  </tbody>\n",
       "</table>\n",
       "</div>"
      ],
      "text/plain": [
       "          AAPL       CVX        KO       MCD       BAC       NKE\n",
       "AAPL  0.000353  0.000128  0.000088  0.000110  0.000165  0.000178\n",
       "CVX   0.000128  0.000392  0.000100  0.000119  0.000245  0.000142\n",
       "KO    0.000088  0.000100  0.000144  0.000086  0.000111  0.000094\n",
       "MCD   0.000110  0.000119  0.000086  0.000182  0.000126  0.000114\n",
       "BAC   0.000165  0.000245  0.000111  0.000126  0.000414  0.000182\n",
       "NKE   0.000178  0.000142  0.000094  0.000114  0.000182  0.000380"
      ]
     },
     "metadata": {},
     "output_type": "display_data"
    }
   ],
   "source": [
    "print(\"Covariance Matrix for Two Stocks:\")\n",
    "display(SD.calculate_covariance(\"two\"))\n",
    "\n",
    "print(\"Covariance Matrix for Four Stocks:\")\n",
    "display(SD.calculate_covariance(\"four\"))\n",
    "\n",
    "print(\"Covariance Matrix for Six Stocks:\")\n",
    "display(SD.calculate_covariance(\"six\"))"
   ]
  },
  {
   "cell_type": "markdown",
   "metadata": {},
   "source": [
    "Next step will be to find the invers of the covariance-matrices above."
   ]
  },
  {
   "cell_type": "code",
   "execution_count": 6,
   "metadata": {},
   "outputs": [
    {
     "name": "stdout",
     "output_type": "stream",
     "text": [
      "Invers Covariance Matrix for Two Stocks:\n"
     ]
    },
    {
     "data": {
      "text/html": [
       "<div>\n",
       "<style scoped>\n",
       "    .dataframe tbody tr th:only-of-type {\n",
       "        vertical-align: middle;\n",
       "    }\n",
       "\n",
       "    .dataframe tbody tr th {\n",
       "        vertical-align: top;\n",
       "    }\n",
       "\n",
       "    .dataframe thead th {\n",
       "        text-align: right;\n",
       "    }\n",
       "</style>\n",
       "<table border=\"1\" class=\"dataframe\">\n",
       "  <thead>\n",
       "    <tr style=\"text-align: right;\">\n",
       "      <th></th>\n",
       "      <th>AAPL</th>\n",
       "      <th>CVX</th>\n",
       "    </tr>\n",
       "  </thead>\n",
       "  <tbody>\n",
       "    <tr>\n",
       "      <th>AAPL</th>\n",
       "      <td>3216.206619</td>\n",
       "      <td>-1048.116597</td>\n",
       "    </tr>\n",
       "    <tr>\n",
       "      <th>CVX</th>\n",
       "      <td>-1048.116597</td>\n",
       "      <td>2891.838385</td>\n",
       "    </tr>\n",
       "  </tbody>\n",
       "</table>\n",
       "</div>"
      ],
      "text/plain": [
       "             AAPL          CVX\n",
       "AAPL  3216.206619 -1048.116597\n",
       "CVX  -1048.116597  2891.838385"
      ]
     },
     "metadata": {},
     "output_type": "display_data"
    },
    {
     "name": "stdout",
     "output_type": "stream",
     "text": [
      "Invers Covariance Matrix for Four Stocks:\n"
     ]
    },
    {
     "data": {
      "text/html": [
       "<div>\n",
       "<style scoped>\n",
       "    .dataframe tbody tr th:only-of-type {\n",
       "        vertical-align: middle;\n",
       "    }\n",
       "\n",
       "    .dataframe tbody tr th {\n",
       "        vertical-align: top;\n",
       "    }\n",
       "\n",
       "    .dataframe thead th {\n",
       "        text-align: right;\n",
       "    }\n",
       "</style>\n",
       "<table border=\"1\" class=\"dataframe\">\n",
       "  <thead>\n",
       "    <tr style=\"text-align: right;\">\n",
       "      <th></th>\n",
       "      <th>AAPL</th>\n",
       "      <th>CVX</th>\n",
       "      <th>KO</th>\n",
       "      <th>MCD</th>\n",
       "    </tr>\n",
       "  </thead>\n",
       "  <tbody>\n",
       "    <tr>\n",
       "      <th>AAPL</th>\n",
       "      <td>3733.959147</td>\n",
       "      <td>-511.852422</td>\n",
       "      <td>-1076.396608</td>\n",
       "      <td>-1421.420993</td>\n",
       "    </tr>\n",
       "    <tr>\n",
       "      <th>CVX</th>\n",
       "      <td>-511.852422</td>\n",
       "      <td>3450.155431</td>\n",
       "      <td>-1269.858817</td>\n",
       "      <td>-1352.277529</td>\n",
       "    </tr>\n",
       "    <tr>\n",
       "      <th>KO</th>\n",
       "      <td>-1076.396608</td>\n",
       "      <td>-1269.858817</td>\n",
       "      <td>10579.177012</td>\n",
       "      <td>-3501.796546</td>\n",
       "    </tr>\n",
       "    <tr>\n",
       "      <th>MCD</th>\n",
       "      <td>-1421.420993</td>\n",
       "      <td>-1352.277529</td>\n",
       "      <td>-3501.796546</td>\n",
       "      <td>8900.490429</td>\n",
       "    </tr>\n",
       "  </tbody>\n",
       "</table>\n",
       "</div>"
      ],
      "text/plain": [
       "             AAPL          CVX            KO          MCD\n",
       "AAPL  3733.959147  -511.852422  -1076.396608 -1421.420993\n",
       "CVX   -511.852422  3450.155431  -1269.858817 -1352.277529\n",
       "KO   -1076.396608 -1269.858817  10579.177012 -3501.796546\n",
       "MCD  -1421.420993 -1352.277529  -3501.796546  8900.490429"
      ]
     },
     "metadata": {},
     "output_type": "display_data"
    },
    {
     "name": "stdout",
     "output_type": "stream",
     "text": [
      "Invers Covariance Matrix for Six Stocks:\n"
     ]
    },
    {
     "data": {
      "text/html": [
       "<div>\n",
       "<style scoped>\n",
       "    .dataframe tbody tr th:only-of-type {\n",
       "        vertical-align: middle;\n",
       "    }\n",
       "\n",
       "    .dataframe tbody tr th {\n",
       "        vertical-align: top;\n",
       "    }\n",
       "\n",
       "    .dataframe thead th {\n",
       "        text-align: right;\n",
       "    }\n",
       "</style>\n",
       "<table border=\"1\" class=\"dataframe\">\n",
       "  <thead>\n",
       "    <tr style=\"text-align: right;\">\n",
       "      <th></th>\n",
       "      <th>AAPL</th>\n",
       "      <th>CVX</th>\n",
       "      <th>KO</th>\n",
       "      <th>MCD</th>\n",
       "      <th>BAC</th>\n",
       "      <th>NKE</th>\n",
       "    </tr>\n",
       "  </thead>\n",
       "  <tbody>\n",
       "    <tr>\n",
       "      <th>AAPL</th>\n",
       "      <td>4243.352630</td>\n",
       "      <td>-76.137061</td>\n",
       "      <td>-659.395378</td>\n",
       "      <td>-1027.002511</td>\n",
       "      <td>-639.334495</td>\n",
       "      <td>-1178.268819</td>\n",
       "    </tr>\n",
       "    <tr>\n",
       "      <th>CVX</th>\n",
       "      <td>-76.137061</td>\n",
       "      <td>4359.368526</td>\n",
       "      <td>-750.355731</td>\n",
       "      <td>-979.726771</td>\n",
       "      <td>-1975.073382</td>\n",
       "      <td>-168.514377</td>\n",
       "    </tr>\n",
       "    <tr>\n",
       "      <th>KO</th>\n",
       "      <td>-659.395378</td>\n",
       "      <td>-750.355731</td>\n",
       "      <td>10969.953426</td>\n",
       "      <td>-3168.240326</td>\n",
       "      <td>-956.790632</td>\n",
       "      <td>-709.847784</td>\n",
       "    </tr>\n",
       "    <tr>\n",
       "      <th>MCD</th>\n",
       "      <td>-1027.002511</td>\n",
       "      <td>-979.726771</td>\n",
       "      <td>-3168.240326</td>\n",
       "      <td>9208.191724</td>\n",
       "      <td>-588.680996</td>\n",
       "      <td>-857.285773</td>\n",
       "    </tr>\n",
       "    <tr>\n",
       "      <th>BAC</th>\n",
       "      <td>-639.334495</td>\n",
       "      <td>-1975.073382</td>\n",
       "      <td>-956.790632</td>\n",
       "      <td>-588.680996</td>\n",
       "      <td>4604.314858</td>\n",
       "      <td>-755.462148</td>\n",
       "    </tr>\n",
       "    <tr>\n",
       "      <th>NKE</th>\n",
       "      <td>-1178.268819</td>\n",
       "      <td>-168.514377</td>\n",
       "      <td>-709.847784</td>\n",
       "      <td>-857.285773</td>\n",
       "      <td>-755.462148</td>\n",
       "      <td>4038.482116</td>\n",
       "    </tr>\n",
       "  </tbody>\n",
       "</table>\n",
       "</div>"
      ],
      "text/plain": [
       "             AAPL          CVX            KO          MCD          BAC  \\\n",
       "AAPL  4243.352630   -76.137061   -659.395378 -1027.002511  -639.334495   \n",
       "CVX    -76.137061  4359.368526   -750.355731  -979.726771 -1975.073382   \n",
       "KO    -659.395378  -750.355731  10969.953426 -3168.240326  -956.790632   \n",
       "MCD  -1027.002511  -979.726771  -3168.240326  9208.191724  -588.680996   \n",
       "BAC   -639.334495 -1975.073382   -956.790632  -588.680996  4604.314858   \n",
       "NKE  -1178.268819  -168.514377   -709.847784  -857.285773  -755.462148   \n",
       "\n",
       "              NKE  \n",
       "AAPL -1178.268819  \n",
       "CVX   -168.514377  \n",
       "KO    -709.847784  \n",
       "MCD   -857.285773  \n",
       "BAC   -755.462148  \n",
       "NKE   4038.482116  "
      ]
     },
     "metadata": {},
     "output_type": "display_data"
    }
   ],
   "source": [
    "print(\"Invers Covariance Matrix for Two Stocks:\")\n",
    "display(SD.calculate_invers_covariance(\"two\"))\n",
    "\n",
    "print(\"Invers Covariance Matrix for Four Stocks:\")\n",
    "display(SD.calculate_invers_covariance(\"four\"))\n",
    "\n",
    "print(\"Invers Covariance Matrix for Six Stocks:\")\n",
    "display(SD.calculate_invers_covariance(\"six\"))"
   ]
  },
  {
   "cell_type": "code",
   "execution_count": 7,
   "metadata": {},
   "outputs": [
    {
     "data": {
      "text/plain": [
       "array([[1.],\n",
       "       [1.]])"
      ]
     },
     "metadata": {},
     "output_type": "display_data"
    },
    {
     "data": {
      "text/plain": [
       "array([[1.],\n",
       "       [1.],\n",
       "       [1.],\n",
       "       [1.]])"
      ]
     },
     "metadata": {},
     "output_type": "display_data"
    },
    {
     "data": {
      "text/plain": [
       "array([[1.],\n",
       "       [1.],\n",
       "       [1.],\n",
       "       [1.],\n",
       "       [1.],\n",
       "       [1.]])"
      ]
     },
     "metadata": {},
     "output_type": "display_data"
    }
   ],
   "source": [
    "display(SD.one_vector(\"two\"))\n",
    "display(SD.one_vector(\"four\"))\n",
    "display(SD.one_vector(\"six\"))"
   ]
  },
  {
   "cell_type": "code",
   "execution_count": 8,
   "metadata": {},
   "outputs": [
    {
     "data": {
      "text/plain": [
       "array([[2168.09002142],\n",
       "       [1843.72178719]])"
      ]
     },
     "metadata": {},
     "output_type": "display_data"
    },
    {
     "data": {
      "text/plain": [
       "array([[ 724.289124  ],\n",
       "       [ 316.16666238],\n",
       "       [4731.1250402 ],\n",
       "       [2624.99535993]])"
      ]
     },
     "metadata": {},
     "output_type": "display_data"
    },
    {
     "data": {
      "text/plain": [
       "array([[ 663.21436684],\n",
       "       [ 409.56120579],\n",
       "       [4725.32357672],\n",
       "       [2587.25534824],\n",
       "       [-311.02679267],\n",
       "       [ 369.10321591]])"
      ]
     },
     "metadata": {},
     "output_type": "display_data"
    }
   ],
   "source": [
    "display(SD.calculate_z_vector(\"two\"))\n",
    "display(SD.calculate_z_vector(\"four\"))\n",
    "display(SD.calculate_z_vector(\"six\"))"
   ]
  },
  {
   "cell_type": "code",
   "execution_count": 9,
   "metadata": {},
   "outputs": [
    {
     "data": {
      "text/plain": [
       "array([[0.54042665],\n",
       "       [0.45957335]])"
      ]
     },
     "metadata": {},
     "output_type": "display_data"
    },
    {
     "data": {
      "text/plain": [
       "array([[0.08626006],\n",
       "       [0.03765424],\n",
       "       [0.56345884],\n",
       "       [0.31262687]])"
      ]
     },
     "metadata": {},
     "output_type": "display_data"
    },
    {
     "data": {
      "text/plain": [
       "array([[ 0.07854797],\n",
       "       [ 0.04850649],\n",
       "       [ 0.55964496],\n",
       "       [ 0.30642228],\n",
       "       [-0.03683654],\n",
       "       [ 0.04371484]])"
      ]
     },
     "metadata": {},
     "output_type": "display_data"
    }
   ],
   "source": [
    "display(SD.normalize_z_vector(\"two\"))\n",
    "display(SD.normalize_z_vector(\"four\"))\n",
    "display(SD.normalize_z_vector(\"six\"))"
   ]
  },
  {
   "cell_type": "code",
   "execution_count": 10,
   "metadata": {},
   "outputs": [
    {
     "data": {
      "text/plain": [
       "array([[1.],\n",
       "       [1.]])"
      ]
     },
     "metadata": {},
     "output_type": "display_data"
    },
    {
     "data": {
      "text/plain": [
       "array([[1.],\n",
       "       [1.],\n",
       "       [1.],\n",
       "       [1.]])"
      ]
     },
     "metadata": {},
     "output_type": "display_data"
    },
    {
     "data": {
      "text/plain": [
       "array([[1.],\n",
       "       [1.],\n",
       "       [1.],\n",
       "       [1.],\n",
       "       [1.],\n",
       "       [1.]])"
      ]
     },
     "metadata": {},
     "output_type": "display_data"
    }
   ],
   "source": [
    "display(SD.check_results(\"two\"))\n",
    "display(SD.check_results(\"four\"))\n",
    "display(SD.check_results(\"six\"))"
   ]
  },
  {
   "cell_type": "code",
   "execution_count": 11,
   "metadata": {},
   "outputs": [
    {
     "ename": "UnboundLocalError",
     "evalue": "cannot access local variable 'covariance_matrix' where it is not associated with a value",
     "output_type": "error",
     "traceback": [
      "\u001b[1;31m---------------------------------------------------------------------------\u001b[0m",
      "\u001b[1;31mUnboundLocalError\u001b[0m                         Traceback (most recent call last)",
      "Cell \u001b[1;32mIn[11], line 2\u001b[0m\n\u001b[0;32m      1\u001b[0m \u001b[38;5;66;03m# Calculate the portfolio expected returns for the two stocks\u001b[39;00m\n\u001b[1;32m----> 2\u001b[0m portfolio_expected_returns_two \u001b[38;5;241m=\u001b[39m SD\u001b[38;5;241m.\u001b[39mcalculate_portfolio_expected_returns(\u001b[38;5;241m2\u001b[39m)\n\u001b[0;32m      4\u001b[0m \u001b[38;5;66;03m# Calculate the portfolio expected returns for the four stocks\u001b[39;00m\n\u001b[0;32m      5\u001b[0m portfolio_expected_returns_four \u001b[38;5;241m=\u001b[39m SD\u001b[38;5;241m.\u001b[39mcalculate_portfolio_expected_returns(\u001b[38;5;241m4\u001b[39m)\n",
      "File \u001b[1;32mc:\\Users\\mnord\\OneDrive\\Kandidat\\1 semester\\Introduction to programming\\projects-2024-zgc373-og-pgj472\\dataproject\\dataproject.py:214\u001b[0m, in \u001b[0;36mStockData.calculate_portfolio_expected_returns\u001b[1;34m(self, number)\u001b[0m\n\u001b[0;32m    212\u001b[0m \u001b[38;5;28;01mdef\u001b[39;00m \u001b[38;5;21mcalculate_portfolio_expected_returns\u001b[39m(\u001b[38;5;28mself\u001b[39m, number):\n\u001b[0;32m    213\u001b[0m     \u001b[38;5;66;03m# Get the normalized z-vector\u001b[39;00m\n\u001b[1;32m--> 214\u001b[0m     normalized_z_vector \u001b[38;5;241m=\u001b[39m \u001b[38;5;28mself\u001b[39m\u001b[38;5;241m.\u001b[39mcalculate_z_vector(number)\n\u001b[0;32m    216\u001b[0m     \u001b[38;5;66;03m# Get the expected returns for the specified number of stocks\u001b[39;00m\n\u001b[0;32m    217\u001b[0m     expected_returns \u001b[38;5;241m=\u001b[39m \u001b[38;5;28mself\u001b[39m\u001b[38;5;241m.\u001b[39mexpected_returns_df_filtered\u001b[38;5;241m.\u001b[39mloc[\u001b[38;5;28mself\u001b[39m\u001b[38;5;241m.\u001b[39mstock_symbols[:number]]\u001b[38;5;241m.\u001b[39mvalues\n",
      "File \u001b[1;32mc:\\Users\\mnord\\OneDrive\\Kandidat\\1 semester\\Introduction to programming\\projects-2024-zgc373-og-pgj472\\dataproject\\dataproject.py:178\u001b[0m, in \u001b[0;36mStockData.calculate_z_vector\u001b[1;34m(self, number)\u001b[0m\n\u001b[0;32m    176\u001b[0m \u001b[38;5;28;01mdef\u001b[39;00m \u001b[38;5;21mcalculate_z_vector\u001b[39m(\u001b[38;5;28mself\u001b[39m, number):\n\u001b[0;32m    177\u001b[0m     \u001b[38;5;66;03m# Get the inverse covariance matrix\u001b[39;00m\n\u001b[1;32m--> 178\u001b[0m     invers_covariance_matrix \u001b[38;5;241m=\u001b[39m \u001b[38;5;28mself\u001b[39m\u001b[38;5;241m.\u001b[39mcalculate_invers_covariance(number)\n\u001b[0;32m    180\u001b[0m     \u001b[38;5;66;03m# Get the 1-vector\u001b[39;00m\n\u001b[0;32m    181\u001b[0m     one_vector \u001b[38;5;241m=\u001b[39m \u001b[38;5;28mself\u001b[39m\u001b[38;5;241m.\u001b[39mone_vector(number)\n",
      "File \u001b[1;32mc:\\Users\\mnord\\OneDrive\\Kandidat\\1 semester\\Introduction to programming\\projects-2024-zgc373-og-pgj472\\dataproject\\dataproject.py:153\u001b[0m, in \u001b[0;36mStockData.calculate_invers_covariance\u001b[1;34m(self, number)\u001b[0m\n\u001b[0;32m    150\u001b[0m     covariance_matrix \u001b[38;5;241m=\u001b[39m \u001b[38;5;28mself\u001b[39m\u001b[38;5;241m.\u001b[39mcalculate_covariance(\u001b[38;5;124m\"\u001b[39m\u001b[38;5;124msix\u001b[39m\u001b[38;5;124m\"\u001b[39m)\n\u001b[0;32m    152\u001b[0m \u001b[38;5;66;03m# Calculate inverse covariance matrix\u001b[39;00m\n\u001b[1;32m--> 153\u001b[0m invers_covariance_matrix \u001b[38;5;241m=\u001b[39m np\u001b[38;5;241m.\u001b[39mlinalg\u001b[38;5;241m.\u001b[39minv(covariance_matrix)\n\u001b[0;32m    155\u001b[0m \u001b[38;5;66;03m# Convert the inverse covariance matrix into a DataFrame with the stock names as the column and row names\u001b[39;00m\n\u001b[0;32m    156\u001b[0m invers_covariance_matrix \u001b[38;5;241m=\u001b[39m pd\u001b[38;5;241m.\u001b[39mDataFrame(invers_covariance_matrix, columns\u001b[38;5;241m=\u001b[39mstocks, index\u001b[38;5;241m=\u001b[39mstocks)\n",
      "\u001b[1;31mUnboundLocalError\u001b[0m: cannot access local variable 'covariance_matrix' where it is not associated with a value"
     ]
    }
   ],
   "source": []
  },
  {
   "cell_type": "code",
   "execution_count": null,
   "metadata": {},
   "outputs": [
    {
     "ename": "NameError",
     "evalue": "name 'danske' is not defined",
     "output_type": "error",
     "traceback": [
      "\u001b[1;31m---------------------------------------------------------------------------\u001b[0m",
      "\u001b[1;31mNameError\u001b[0m                                 Traceback (most recent call last)",
      "Cell \u001b[1;32mIn[11], line 8\u001b[0m\n\u001b[0;32m      3\u001b[0m \u001b[38;5;28;01mimport\u001b[39;00m \u001b[38;5;21;01mmatplotlib\u001b[39;00m\u001b[38;5;21;01m.\u001b[39;00m\u001b[38;5;21;01mdates\u001b[39;00m \u001b[38;5;28;01mas\u001b[39;00m \u001b[38;5;21;01mmdates\u001b[39;00m\n\u001b[0;32m      5\u001b[0m \u001b[38;5;66;03m# Assuming you have already loaded danske DataFrame\u001b[39;00m\n\u001b[0;32m      6\u001b[0m \n\u001b[0;32m      7\u001b[0m \u001b[38;5;66;03m# Convert 'Date' column to datetime\u001b[39;00m\n\u001b[1;32m----> 8\u001b[0m danske[\u001b[38;5;124m'\u001b[39m\u001b[38;5;124mDate\u001b[39m\u001b[38;5;124m'\u001b[39m] \u001b[38;5;241m=\u001b[39m pd\u001b[38;5;241m.\u001b[39mto_datetime(danske[\u001b[38;5;124m'\u001b[39m\u001b[38;5;124mDate\u001b[39m\u001b[38;5;124m'\u001b[39m])\n\u001b[0;32m     10\u001b[0m plt\u001b[38;5;241m.\u001b[39mfigure(figsize\u001b[38;5;241m=\u001b[39m(\u001b[38;5;241m10\u001b[39m, \u001b[38;5;241m6\u001b[39m))\n\u001b[0;32m     11\u001b[0m plt\u001b[38;5;241m.\u001b[39mplot(danske[\u001b[38;5;124m'\u001b[39m\u001b[38;5;124mDate\u001b[39m\u001b[38;5;124m'\u001b[39m], danske[\u001b[38;5;124m'\u001b[39m\u001b[38;5;124mClose\u001b[39m\u001b[38;5;124m'\u001b[39m], label\u001b[38;5;241m=\u001b[39m\u001b[38;5;124m'\u001b[39m\u001b[38;5;124mDanske Bank\u001b[39m\u001b[38;5;124m'\u001b[39m)\n",
      "\u001b[1;31mNameError\u001b[0m: name 'danske' is not defined"
     ]
    }
   ],
   "source": [
    "import pandas as pd\n",
    "import matplotlib.pyplot as plt\n",
    "import matplotlib.dates as mdates\n",
    "\n",
    "# Assuming you have already loaded danske DataFrame\n",
    "\n",
    "# Convert 'Date' column to datetime\n",
    "danske['Date'] = pd.to_datetime(danske['Date'])\n",
    "\n",
    "plt.figure(figsize=(10, 6))\n",
    "plt.plot(danske['Date'], danske['Close'], label='Danske Bank')\n",
    "plt.title('Stock Close Prices')\n",
    "plt.xlabel('Date')\n",
    "plt.ylabel('Close Price')\n",
    "\n",
    "# Format x-axis ticks to show only years\n",
    "plt.gca().xaxis.set_major_formatter(mdates.DateFormatter('%Y'))\n",
    "plt.gca().xaxis.set_major_locator(mdates.YearLocator())\n",
    "\n",
    "plt.legend()\n",
    "plt.grid(True)\n",
    "plt.tight_layout()\n",
    "plt.show()"
   ]
  },
  {
   "cell_type": "markdown",
   "metadata": {},
   "source": [
    "# Read and clean data"
   ]
  },
  {
   "cell_type": "markdown",
   "metadata": {},
   "source": [
    "Import your data, either through an API or manually, and load it. "
   ]
  },
  {
   "cell_type": "markdown",
   "metadata": {},
   "source": [
    "## Explore each data set"
   ]
  },
  {
   "cell_type": "markdown",
   "metadata": {},
   "source": [
    "In order to be able to **explore the raw data**, you may provide **static** and **interactive plots** to show important developments "
   ]
  },
  {
   "cell_type": "markdown",
   "metadata": {},
   "source": [
    "**Interactive plot** :"
   ]
  },
  {
   "cell_type": "code",
   "execution_count": null,
   "metadata": {},
   "outputs": [
    {
     "ename": "NameError",
     "evalue": "name 'widgets' is not defined",
     "output_type": "error",
     "traceback": [
      "\u001b[1;31m---------------------------------------------------------------------------\u001b[0m",
      "\u001b[1;31mNameError\u001b[0m                                 Traceback (most recent call last)",
      "Cell \u001b[1;32mIn[17], line 5\u001b[0m\n\u001b[0;32m      1\u001b[0m \u001b[38;5;28;01mdef\u001b[39;00m \u001b[38;5;21mplot_func\u001b[39m():\n\u001b[0;32m      2\u001b[0m     \u001b[38;5;66;03m# Function that operates on data set\u001b[39;00m\n\u001b[0;32m      3\u001b[0m     \u001b[38;5;28;01mpass\u001b[39;00m\n\u001b[1;32m----> 5\u001b[0m widgets\u001b[38;5;241m.\u001b[39minteract(plot_func, \n\u001b[0;32m      6\u001b[0m     \u001b[38;5;66;03m# Let the widget interact with data through plot_func()    \u001b[39;00m\n\u001b[0;32m      7\u001b[0m )\n",
      "\u001b[1;31mNameError\u001b[0m: name 'widgets' is not defined"
     ]
    }
   ],
   "source": [
    "def plot_func():\n",
    "    # Function that operates on data set\n",
    "    pass\n",
    "\n",
    "widgets.interact(plot_func, \n",
    "    # Let the widget interact with data through plot_func()    \n",
    "); \n"
   ]
  },
  {
   "cell_type": "markdown",
   "metadata": {},
   "source": [
    "Explain what you see when moving elements of the interactive plot around. "
   ]
  },
  {
   "cell_type": "markdown",
   "metadata": {},
   "source": [
    "# Merge data sets"
   ]
  },
  {
   "cell_type": "markdown",
   "metadata": {},
   "source": [
    "Now you create combinations of your loaded data sets. Remember the illustration of a (inner) **merge**:"
   ]
  },
  {
   "cell_type": "code",
   "execution_count": null,
   "metadata": {},
   "outputs": [
    {
     "data": {
      "image/png": "[encoded data removed]",
      "text/plain": [
       "<Figure size 1500x700 with 1 Axes>"
      ]
     },
     "metadata": {},
     "output_type": "display_data"
    }
   ],
   "source": [
    "plt.figure(figsize=(15,7))\n",
    "v = venn2(subsets = (4, 4, 10), set_labels = ('Data X', 'Data Y'))\n",
    "v.get_label_by_id('100').set_text('dropped')\n",
    "v.get_label_by_id('010').set_text('dropped' )\n",
    "v.get_label_by_id('110').set_text('included')\n",
    "plt.show()"
   ]
  },
  {
   "cell_type": "markdown",
   "metadata": {},
   "source": [
    "Here we are dropping elements from both data set X and data set Y. A left join would keep all observations in data X intact and subset only from Y. \n",
    "\n",
    "Make sure that your resulting data sets have the correct number of rows and columns. That is, be clear about which observations are thrown away. \n",
    "\n",
    "**Note:** Don't make Venn diagrams in your own data project. It is just for exposition. "
   ]
  },
  {
   "cell_type": "markdown",
   "metadata": {},
   "source": [
    "# Analysis"
   ]
  },
  {
   "cell_type": "markdown",
   "metadata": {},
   "source": [
    "To get a quick overview of the data, we show some **summary statistics** on a meaningful aggregation. "
   ]
  },
  {
   "cell_type": "markdown",
   "metadata": {},
   "source": [
    "MAKE FURTHER ANALYSIS. EXPLAIN THE CODE BRIEFLY AND SUMMARIZE THE RESULTS."
   ]
  },
  {
   "cell_type": "markdown",
   "metadata": {},
   "source": [
    "# Conclusion"
   ]
  },
  {
   "cell_type": "markdown",
   "metadata": {},
   "source": [
    "ADD CONCISE CONLUSION."
   ]
  }
 ],
 "metadata": {
  "kernelspec": {
   "display_name": "base",
   "language": "python",
   "name": "python3"
  },
  "language_info": {
   "codemirror_mode": {
    "name": "ipython",
    "version": 3
   },
   "file_extension": ".py",
   "mimetype": "text/x-python",
   "name": "python",
   "nbconvert_exporter": "python",
   "pygments_lexer": "ipython3",
   "version": "3.11.7"
  },
  "toc-autonumbering": true,
  "vscode": {
   "interpreter": {
    "hash": "47ef90cdf3004d3f859f1fb202523c65c07ba7c22eefd261b181f4744e2d0403"
   }
  }
 },
 "nbformat": 4,
 "nbformat_minor": 4
}
