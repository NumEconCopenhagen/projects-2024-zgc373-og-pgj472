{
 "cells": [
  {
   "cell_type": "markdown",
   "metadata": {},
   "source": [
    "# \"Free-lunch\" of Diversification"
   ]
  },
  {
   "cell_type": "markdown",
   "metadata": {},
   "source": [
    "**Table of contents**<a id='toc0_'></a>    \n",
    "- 1. [Imports and model class](#toc1_)\n",
    "- 2. [Import and presentation of data](#toc2_)    \n",
    "- 3. [Calculation of portfolio weights](#toc3_)\n",
    "- 4. [Calculating expected daily return and risk associated](#toc4_)\n",
    "- 5. [Plotting efficient frontier](#toc5_)\n",
    "- 6. [Conclusion](#toc6_)\n",
    "\n",
    "<!-- vscode-jupyter-toc-config\n",
    "\tnumbering=true\n",
    "\tanchor=true\n",
    "\tflat=false\n",
    "\tminLevel=2\n",
    "\tmaxLevel=6\n",
    "\t/vscode-jupyter-toc-config -->\n",
    "<!-- THIS CELL WILL BE REPLACED ON TOC UPDATE. DO NOT WRITE YOUR TEXT IN THIS CELL -->"
   ]
  },
  {
   "cell_type": "markdown",
   "metadata": {},
   "source": [
    "## 1. <a id='toc1_'></a>[Imports and model class](#toc1_)"
   ]
  },
  {
   "cell_type": "code",
   "execution_count": 1,
   "metadata": {},
   "outputs": [],
   "source": [
    "#Note the instillations below:\n",
    "#%pip install matplotlib-venn\n",
    "#%pip install yfinance\n",
    "import pandas as pd\n",
    "import numpy as np\n",
    "import matplotlib.pyplot as plt\n",
    "from IPython.display import display"
   ]
  },
  {
   "cell_type": "code",
   "execution_count": 2,
   "metadata": {},
   "outputs": [],
   "source": [
    "# autoreload modules when code is run\n",
    "%load_ext autoreload\n",
    "%autoreload 2\n",
    "\n",
    "# We import the StockData class from the dataproject module\n",
    "from dataproject import StockData"
   ]
  },
  {
   "cell_type": "markdown",
   "metadata": {},
   "source": [
    "## 2. <a id='toc2_'></a>[Import and presentation of data](#toc2_)"
   ]
  },
  {
   "cell_type": "markdown",
   "metadata": {},
   "source": [
    "We want to begin with examining the expected daily returns. Therefore, we need to begin by calculating them. We utilize the adjusted closing price for each day in our calculations. We present the results in both table and figure formats to identify any unexpected outcomes and to gain an understanding of the volatility of the daily returns throughout the 2017-2024 time period."
   ]
  },
  {
   "cell_type": "code",
   "execution_count": 3,
   "metadata": {},
   "outputs": [
    {
     "name": "stderr",
     "output_type": "stream",
     "text": [
      "[*********************100%%**********************]  1 of 1 completed\n",
      "[*********************100%%**********************]  1 of 1 completed\n",
      "[*********************100%%**********************]  1 of 1 completed\n",
      "[*********************100%%**********************]  1 of 1 completed\n",
      "[*********************100%%**********************]  1 of 1 completed\n",
      "[*********************100%%**********************]  1 of 1 completed\n"
     ]
    },
    {
     "data": {
      "text/html": [
       "<div>\n",
       "<style scoped>\n",
       "    .dataframe tbody tr th:only-of-type {\n",
       "        vertical-align: middle;\n",
       "    }\n",
       "\n",
       "    .dataframe tbody tr th {\n",
       "        vertical-align: top;\n",
       "    }\n",
       "\n",
       "    .dataframe thead th {\n",
       "        text-align: right;\n",
       "    }\n",
       "</style>\n",
       "<table border=\"1\" class=\"dataframe\">\n",
       "  <thead>\n",
       "    <tr style=\"text-align: right;\">\n",
       "      <th></th>\n",
       "      <th>Open</th>\n",
       "      <th>High</th>\n",
       "      <th>Low</th>\n",
       "      <th>Close</th>\n",
       "      <th>Adj Close</th>\n",
       "      <th>Volume</th>\n",
       "      <th>Daily Return</th>\n",
       "    </tr>\n",
       "  </thead>\n",
       "  <tbody>\n",
       "    <tr>\n",
       "      <th>count</th>\n",
       "      <td>1824.000000</td>\n",
       "      <td>1824.000000</td>\n",
       "      <td>1824.000000</td>\n",
       "      <td>1824.000000</td>\n",
       "      <td>1824.000000</td>\n",
       "      <td>1.824000e+03</td>\n",
       "      <td>1823.000000</td>\n",
       "    </tr>\n",
       "    <tr>\n",
       "      <th>mean</th>\n",
       "      <td>102.807134</td>\n",
       "      <td>103.929729</td>\n",
       "      <td>101.754317</td>\n",
       "      <td>102.896632</td>\n",
       "      <td>101.007877</td>\n",
       "      <td>1.058799e+08</td>\n",
       "      <td>0.001185</td>\n",
       "    </tr>\n",
       "    <tr>\n",
       "      <th>std</th>\n",
       "      <td>54.805248</td>\n",
       "      <td>55.376861</td>\n",
       "      <td>54.256942</td>\n",
       "      <td>54.845197</td>\n",
       "      <td>55.187181</td>\n",
       "      <td>5.365632e+07</td>\n",
       "      <td>0.018777</td>\n",
       "    </tr>\n",
       "    <tr>\n",
       "      <th>min</th>\n",
       "      <td>28.950001</td>\n",
       "      <td>29.082500</td>\n",
       "      <td>28.690001</td>\n",
       "      <td>29.004999</td>\n",
       "      <td>26.922539</td>\n",
       "      <td>2.404830e+07</td>\n",
       "      <td>-0.128647</td>\n",
       "    </tr>\n",
       "    <tr>\n",
       "      <th>25%</th>\n",
       "      <td>46.929376</td>\n",
       "      <td>47.290626</td>\n",
       "      <td>46.503751</td>\n",
       "      <td>46.973749</td>\n",
       "      <td>44.730829</td>\n",
       "      <td>7.077085e+07</td>\n",
       "      <td>-0.007559</td>\n",
       "    </tr>\n",
       "    <tr>\n",
       "      <th>50%</th>\n",
       "      <td>110.451248</td>\n",
       "      <td>112.320000</td>\n",
       "      <td>108.813751</td>\n",
       "      <td>110.389999</td>\n",
       "      <td>108.002930</td>\n",
       "      <td>9.216420e+07</td>\n",
       "      <td>0.000893</td>\n",
       "    </tr>\n",
       "    <tr>\n",
       "      <th>75%</th>\n",
       "      <td>151.190002</td>\n",
       "      <td>153.287498</td>\n",
       "      <td>149.927498</td>\n",
       "      <td>151.339996</td>\n",
       "      <td>149.929218</td>\n",
       "      <td>1.261926e+08</td>\n",
       "      <td>0.010544</td>\n",
       "    </tr>\n",
       "    <tr>\n",
       "      <th>max</th>\n",
       "      <td>198.020004</td>\n",
       "      <td>199.619995</td>\n",
       "      <td>197.000000</td>\n",
       "      <td>198.110001</td>\n",
       "      <td>197.589523</td>\n",
       "      <td>4.479400e+08</td>\n",
       "      <td>0.119808</td>\n",
       "    </tr>\n",
       "  </tbody>\n",
       "</table>\n",
       "</div>"
      ],
      "text/plain": [
       "              Open         High          Low        Close    Adj Close  \\\n",
       "count  1824.000000  1824.000000  1824.000000  1824.000000  1824.000000   \n",
       "mean    102.807134   103.929729   101.754317   102.896632   101.007877   \n",
       "std      54.805248    55.376861    54.256942    54.845197    55.187181   \n",
       "min      28.950001    29.082500    28.690001    29.004999    26.922539   \n",
       "25%      46.929376    47.290626    46.503751    46.973749    44.730829   \n",
       "50%     110.451248   112.320000   108.813751   110.389999   108.002930   \n",
       "75%     151.190002   153.287498   149.927498   151.339996   149.929218   \n",
       "max     198.020004   199.619995   197.000000   198.110001   197.589523   \n",
       "\n",
       "             Volume  Daily Return  \n",
       "count  1.824000e+03   1823.000000  \n",
       "mean   1.058799e+08      0.001185  \n",
       "std    5.365632e+07      0.018777  \n",
       "min    2.404830e+07     -0.128647  \n",
       "25%    7.077085e+07     -0.007559  \n",
       "50%    9.216420e+07      0.000893  \n",
       "75%    1.261926e+08      0.010544  \n",
       "max    4.479400e+08      0.119808  "
      ]
     },
     "metadata": {},
     "output_type": "display_data"
    },
    {
     "data": {
      "text/html": [
       "<div>\n",
       "<style scoped>\n",
       "    .dataframe tbody tr th:only-of-type {\n",
       "        vertical-align: middle;\n",
       "    }\n",
       "\n",
       "    .dataframe tbody tr th {\n",
       "        vertical-align: top;\n",
       "    }\n",
       "\n",
       "    .dataframe thead th {\n",
       "        text-align: right;\n",
       "    }\n",
       "</style>\n",
       "<table border=\"1\" class=\"dataframe\">\n",
       "  <thead>\n",
       "    <tr style=\"text-align: right;\">\n",
       "      <th></th>\n",
       "      <th>Open</th>\n",
       "      <th>High</th>\n",
       "      <th>Low</th>\n",
       "      <th>Close</th>\n",
       "      <th>Adj Close</th>\n",
       "      <th>Volume</th>\n",
       "      <th>Daily Return</th>\n",
       "    </tr>\n",
       "  </thead>\n",
       "  <tbody>\n",
       "    <tr>\n",
       "      <th>count</th>\n",
       "      <td>1824.000000</td>\n",
       "      <td>1824.000000</td>\n",
       "      <td>1824.000000</td>\n",
       "      <td>1824.000000</td>\n",
       "      <td>1824.000000</td>\n",
       "      <td>1.824000e+03</td>\n",
       "      <td>1823.000000</td>\n",
       "    </tr>\n",
       "    <tr>\n",
       "      <th>mean</th>\n",
       "      <td>124.208224</td>\n",
       "      <td>125.420143</td>\n",
       "      <td>122.937248</td>\n",
       "      <td>124.182253</td>\n",
       "      <td>107.037430</td>\n",
       "      <td>8.634918e+06</td>\n",
       "      <td>0.000536</td>\n",
       "    </tr>\n",
       "    <tr>\n",
       "      <th>std</th>\n",
       "      <td>26.894823</td>\n",
       "      <td>27.082769</td>\n",
       "      <td>26.688267</td>\n",
       "      <td>26.912746</td>\n",
       "      <td>31.092689</td>\n",
       "      <td>4.630659e+06</td>\n",
       "      <td>0.019802</td>\n",
       "    </tr>\n",
       "    <tr>\n",
       "      <th>min</th>\n",
       "      <td>55.259998</td>\n",
       "      <td>58.490002</td>\n",
       "      <td>51.599998</td>\n",
       "      <td>54.220001</td>\n",
       "      <td>44.864269</td>\n",
       "      <td>1.640100e+06</td>\n",
       "      <td>-0.221248</td>\n",
       "    </tr>\n",
       "    <tr>\n",
       "      <th>25%</th>\n",
       "      <td>106.949997</td>\n",
       "      <td>107.762497</td>\n",
       "      <td>105.987499</td>\n",
       "      <td>106.847498</td>\n",
       "      <td>85.871191</td>\n",
       "      <td>5.806175e+06</td>\n",
       "      <td>-0.007709</td>\n",
       "    </tr>\n",
       "    <tr>\n",
       "      <th>50%</th>\n",
       "      <td>118.355000</td>\n",
       "      <td>119.255001</td>\n",
       "      <td>117.439999</td>\n",
       "      <td>118.274998</td>\n",
       "      <td>95.171280</td>\n",
       "      <td>7.521250e+06</td>\n",
       "      <td>0.000738</td>\n",
       "    </tr>\n",
       "    <tr>\n",
       "      <th>75%</th>\n",
       "      <td>148.097504</td>\n",
       "      <td>149.277496</td>\n",
       "      <td>145.804996</td>\n",
       "      <td>147.580006</td>\n",
       "      <td>141.829571</td>\n",
       "      <td>1.012775e+07</td>\n",
       "      <td>0.008751</td>\n",
       "    </tr>\n",
       "    <tr>\n",
       "      <th>max</th>\n",
       "      <td>187.119995</td>\n",
       "      <td>189.679993</td>\n",
       "      <td>186.179993</td>\n",
       "      <td>188.050003</td>\n",
       "      <td>176.953278</td>\n",
       "      <td>5.723100e+07</td>\n",
       "      <td>0.227407</td>\n",
       "    </tr>\n",
       "  </tbody>\n",
       "</table>\n",
       "</div>"
      ],
      "text/plain": [
       "              Open         High          Low        Close    Adj Close  \\\n",
       "count  1824.000000  1824.000000  1824.000000  1824.000000  1824.000000   \n",
       "mean    124.208224   125.420143   122.937248   124.182253   107.037430   \n",
       "std      26.894823    27.082769    26.688267    26.912746    31.092689   \n",
       "min      55.259998    58.490002    51.599998    54.220001    44.864269   \n",
       "25%     106.949997   107.762497   105.987499   106.847498    85.871191   \n",
       "50%     118.355000   119.255001   117.439999   118.274998    95.171280   \n",
       "75%     148.097504   149.277496   145.804996   147.580006   141.829571   \n",
       "max     187.119995   189.679993   186.179993   188.050003   176.953278   \n",
       "\n",
       "             Volume  Daily Return  \n",
       "count  1.824000e+03   1823.000000  \n",
       "mean   8.634918e+06      0.000536  \n",
       "std    4.630659e+06      0.019802  \n",
       "min    1.640100e+06     -0.221248  \n",
       "25%    5.806175e+06     -0.007709  \n",
       "50%    7.521250e+06      0.000738  \n",
       "75%    1.012775e+07      0.008751  \n",
       "max    5.723100e+07      0.227407  "
      ]
     },
     "metadata": {},
     "output_type": "display_data"
    },
    {
     "data": {
      "text/html": [
       "<div>\n",
       "<style scoped>\n",
       "    .dataframe tbody tr th:only-of-type {\n",
       "        vertical-align: middle;\n",
       "    }\n",
       "\n",
       "    .dataframe tbody tr th {\n",
       "        vertical-align: top;\n",
       "    }\n",
       "\n",
       "    .dataframe thead th {\n",
       "        text-align: right;\n",
       "    }\n",
       "</style>\n",
       "<table border=\"1\" class=\"dataframe\">\n",
       "  <thead>\n",
       "    <tr style=\"text-align: right;\">\n",
       "      <th></th>\n",
       "      <th>Open</th>\n",
       "      <th>High</th>\n",
       "      <th>Low</th>\n",
       "      <th>Close</th>\n",
       "      <th>Adj Close</th>\n",
       "      <th>Volume</th>\n",
       "      <th>Daily Return</th>\n",
       "    </tr>\n",
       "  </thead>\n",
       "  <tbody>\n",
       "    <tr>\n",
       "      <th>count</th>\n",
       "      <td>1824.000000</td>\n",
       "      <td>1824.000000</td>\n",
       "      <td>1824.000000</td>\n",
       "      <td>1824.000000</td>\n",
       "      <td>1824.000000</td>\n",
       "      <td>1.824000e+03</td>\n",
       "      <td>1823.000000</td>\n",
       "    </tr>\n",
       "    <tr>\n",
       "      <th>mean</th>\n",
       "      <td>52.584452</td>\n",
       "      <td>52.944232</td>\n",
       "      <td>52.204364</td>\n",
       "      <td>52.576365</td>\n",
       "      <td>46.952754</td>\n",
       "      <td>1.419623e+07</td>\n",
       "      <td>0.000396</td>\n",
       "    </tr>\n",
       "    <tr>\n",
       "      <th>std</th>\n",
       "      <td>6.843534</td>\n",
       "      <td>6.883937</td>\n",
       "      <td>6.794504</td>\n",
       "      <td>6.849499</td>\n",
       "      <td>8.902637</td>\n",
       "      <td>6.391772e+06</td>\n",
       "      <td>0.011990</td>\n",
       "    </tr>\n",
       "    <tr>\n",
       "      <th>min</th>\n",
       "      <td>38.759998</td>\n",
       "      <td>38.889999</td>\n",
       "      <td>36.270000</td>\n",
       "      <td>37.560001</td>\n",
       "      <td>31.847120</td>\n",
       "      <td>2.996300e+06</td>\n",
       "      <td>-0.096725</td>\n",
       "    </tr>\n",
       "    <tr>\n",
       "      <th>25%</th>\n",
       "      <td>46.107500</td>\n",
       "      <td>46.367499</td>\n",
       "      <td>45.860001</td>\n",
       "      <td>46.080002</td>\n",
       "      <td>38.472887</td>\n",
       "      <td>1.025770e+07</td>\n",
       "      <td>-0.004733</td>\n",
       "    </tr>\n",
       "    <tr>\n",
       "      <th>50%</th>\n",
       "      <td>53.020000</td>\n",
       "      <td>53.395000</td>\n",
       "      <td>52.565001</td>\n",
       "      <td>53.025000</td>\n",
       "      <td>46.424225</td>\n",
       "      <td>1.288415e+07</td>\n",
       "      <td>0.000693</td>\n",
       "    </tr>\n",
       "    <tr>\n",
       "      <th>75%</th>\n",
       "      <td>59.250000</td>\n",
       "      <td>59.650000</td>\n",
       "      <td>58.770000</td>\n",
       "      <td>59.237499</td>\n",
       "      <td>56.410488</td>\n",
       "      <td>1.606878e+07</td>\n",
       "      <td>0.005969</td>\n",
       "    </tr>\n",
       "    <tr>\n",
       "      <th>max</th>\n",
       "      <td>67.000000</td>\n",
       "      <td>67.199997</td>\n",
       "      <td>65.720001</td>\n",
       "      <td>66.209999</td>\n",
       "      <td>61.839542</td>\n",
       "      <td>6.784570e+07</td>\n",
       "      <td>0.064796</td>\n",
       "    </tr>\n",
       "  </tbody>\n",
       "</table>\n",
       "</div>"
      ],
      "text/plain": [
       "              Open         High          Low        Close    Adj Close  \\\n",
       "count  1824.000000  1824.000000  1824.000000  1824.000000  1824.000000   \n",
       "mean     52.584452    52.944232    52.204364    52.576365    46.952754   \n",
       "std       6.843534     6.883937     6.794504     6.849499     8.902637   \n",
       "min      38.759998    38.889999    36.270000    37.560001    31.847120   \n",
       "25%      46.107500    46.367499    45.860001    46.080002    38.472887   \n",
       "50%      53.020000    53.395000    52.565001    53.025000    46.424225   \n",
       "75%      59.250000    59.650000    58.770000    59.237499    56.410488   \n",
       "max      67.000000    67.199997    65.720001    66.209999    61.839542   \n",
       "\n",
       "             Volume  Daily Return  \n",
       "count  1.824000e+03   1823.000000  \n",
       "mean   1.419623e+07      0.000396  \n",
       "std    6.391772e+06      0.011990  \n",
       "min    2.996300e+06     -0.096725  \n",
       "25%    1.025770e+07     -0.004733  \n",
       "50%    1.288415e+07      0.000693  \n",
       "75%    1.606878e+07      0.005969  \n",
       "max    6.784570e+07      0.064796  "
      ]
     },
     "metadata": {},
     "output_type": "display_data"
    },
    {
     "data": {
      "text/html": [
       "<div>\n",
       "<style scoped>\n",
       "    .dataframe tbody tr th:only-of-type {\n",
       "        vertical-align: middle;\n",
       "    }\n",
       "\n",
       "    .dataframe tbody tr th {\n",
       "        vertical-align: top;\n",
       "    }\n",
       "\n",
       "    .dataframe thead th {\n",
       "        text-align: right;\n",
       "    }\n",
       "</style>\n",
       "<table border=\"1\" class=\"dataframe\">\n",
       "  <thead>\n",
       "    <tr style=\"text-align: right;\">\n",
       "      <th></th>\n",
       "      <th>Open</th>\n",
       "      <th>High</th>\n",
       "      <th>Low</th>\n",
       "      <th>Close</th>\n",
       "      <th>Adj Close</th>\n",
       "      <th>Volume</th>\n",
       "      <th>Daily Return</th>\n",
       "    </tr>\n",
       "  </thead>\n",
       "  <tbody>\n",
       "    <tr>\n",
       "      <th>count</th>\n",
       "      <td>1824.000000</td>\n",
       "      <td>1824.000000</td>\n",
       "      <td>1824.000000</td>\n",
       "      <td>1824.000000</td>\n",
       "      <td>1824.000000</td>\n",
       "      <td>1.824000e+03</td>\n",
       "      <td>1823.000000</td>\n",
       "    </tr>\n",
       "    <tr>\n",
       "      <th>mean</th>\n",
       "      <td>149.169995</td>\n",
       "      <td>150.257588</td>\n",
       "      <td>148.043805</td>\n",
       "      <td>149.182242</td>\n",
       "      <td>134.852308</td>\n",
       "      <td>7.726653e+06</td>\n",
       "      <td>0.000336</td>\n",
       "    </tr>\n",
       "    <tr>\n",
       "      <th>std</th>\n",
       "      <td>17.068344</td>\n",
       "      <td>17.169888</td>\n",
       "      <td>16.975243</td>\n",
       "      <td>17.077461</td>\n",
       "      <td>21.776262</td>\n",
       "      <td>6.861142e+06</td>\n",
       "      <td>0.011975</td>\n",
       "    </tr>\n",
       "    <tr>\n",
       "      <th>min</th>\n",
       "      <td>111.930000</td>\n",
       "      <td>112.800003</td>\n",
       "      <td>109.160004</td>\n",
       "      <td>111.139999</td>\n",
       "      <td>91.193703</td>\n",
       "      <td>2.114900e+06</td>\n",
       "      <td>-0.100379</td>\n",
       "    </tr>\n",
       "    <tr>\n",
       "      <th>25%</th>\n",
       "      <td>134.005005</td>\n",
       "      <td>134.935001</td>\n",
       "      <td>132.727501</td>\n",
       "      <td>133.937496</td>\n",
       "      <td>115.008242</td>\n",
       "      <td>5.449450e+06</td>\n",
       "      <td>-0.005004</td>\n",
       "    </tr>\n",
       "    <tr>\n",
       "      <th>50%</th>\n",
       "      <td>148.455002</td>\n",
       "      <td>149.465004</td>\n",
       "      <td>147.059998</td>\n",
       "      <td>148.284996</td>\n",
       "      <td>132.826370</td>\n",
       "      <td>6.558650e+06</td>\n",
       "      <td>0.000283</td>\n",
       "    </tr>\n",
       "    <tr>\n",
       "      <th>75%</th>\n",
       "      <td>163.702499</td>\n",
       "      <td>164.842499</td>\n",
       "      <td>162.482498</td>\n",
       "      <td>163.612499</td>\n",
       "      <td>155.397545</td>\n",
       "      <td>8.211125e+06</td>\n",
       "      <td>0.006020</td>\n",
       "    </tr>\n",
       "    <tr>\n",
       "      <th>max</th>\n",
       "      <td>185.100006</td>\n",
       "      <td>186.690002</td>\n",
       "      <td>184.179993</td>\n",
       "      <td>186.009995</td>\n",
       "      <td>174.296173</td>\n",
       "      <td>1.513195e+08</td>\n",
       "      <td>0.079977</td>\n",
       "    </tr>\n",
       "  </tbody>\n",
       "</table>\n",
       "</div>"
      ],
      "text/plain": [
       "              Open         High          Low        Close    Adj Close  \\\n",
       "count  1824.000000  1824.000000  1824.000000  1824.000000  1824.000000   \n",
       "mean    149.169995   150.257588   148.043805   149.182242   134.852308   \n",
       "std      17.068344    17.169888    16.975243    17.077461    21.776262   \n",
       "min     111.930000   112.800003   109.160004   111.139999    91.193703   \n",
       "25%     134.005005   134.935001   132.727501   133.937496   115.008242   \n",
       "50%     148.455002   149.465004   147.059998   148.284996   132.826370   \n",
       "75%     163.702499   164.842499   162.482498   163.612499   155.397545   \n",
       "max     185.100006   186.690002   184.179993   186.009995   174.296173   \n",
       "\n",
       "             Volume  Daily Return  \n",
       "count  1.824000e+03   1823.000000  \n",
       "mean   7.726653e+06      0.000336  \n",
       "std    6.861142e+06      0.011975  \n",
       "min    2.114900e+06     -0.100379  \n",
       "25%    5.449450e+06     -0.005004  \n",
       "50%    6.558650e+06      0.000283  \n",
       "75%    8.211125e+06      0.006020  \n",
       "max    1.513195e+08      0.079977  "
      ]
     },
     "metadata": {},
     "output_type": "display_data"
    },
    {
     "data": {
      "text/html": [
       "<div>\n",
       "<style scoped>\n",
       "    .dataframe tbody tr th:only-of-type {\n",
       "        vertical-align: middle;\n",
       "    }\n",
       "\n",
       "    .dataframe tbody tr th {\n",
       "        vertical-align: top;\n",
       "    }\n",
       "\n",
       "    .dataframe thead th {\n",
       "        text-align: right;\n",
       "    }\n",
       "</style>\n",
       "<table border=\"1\" class=\"dataframe\">\n",
       "  <thead>\n",
       "    <tr style=\"text-align: right;\">\n",
       "      <th></th>\n",
       "      <th>Open</th>\n",
       "      <th>High</th>\n",
       "      <th>Low</th>\n",
       "      <th>Close</th>\n",
       "      <th>Adj Close</th>\n",
       "      <th>Volume</th>\n",
       "      <th>Daily Return</th>\n",
       "    </tr>\n",
       "  </thead>\n",
       "  <tbody>\n",
       "    <tr>\n",
       "      <th>count</th>\n",
       "      <td>1824.000000</td>\n",
       "      <td>1824.000000</td>\n",
       "      <td>1824.000000</td>\n",
       "      <td>1824.000000</td>\n",
       "      <td>1824.000000</td>\n",
       "      <td>1.824000e+03</td>\n",
       "      <td>1823.000000</td>\n",
       "    </tr>\n",
       "    <tr>\n",
       "      <th>mean</th>\n",
       "      <td>31.253618</td>\n",
       "      <td>31.598169</td>\n",
       "      <td>30.907056</td>\n",
       "      <td>31.252812</td>\n",
       "      <td>28.530192</td>\n",
       "      <td>5.827184e+07</td>\n",
       "      <td>0.000574</td>\n",
       "    </tr>\n",
       "    <tr>\n",
       "      <th>std</th>\n",
       "      <td>6.209880</td>\n",
       "      <td>6.257163</td>\n",
       "      <td>6.154673</td>\n",
       "      <td>6.201696</td>\n",
       "      <td>6.365921</td>\n",
       "      <td>2.590219e+07</td>\n",
       "      <td>0.020358</td>\n",
       "    </tr>\n",
       "    <tr>\n",
       "      <th>min</th>\n",
       "      <td>19.260000</td>\n",
       "      <td>19.670000</td>\n",
       "      <td>17.950001</td>\n",
       "      <td>18.080000</td>\n",
       "      <td>16.262651</td>\n",
       "      <td>1.380540e+07</td>\n",
       "      <td>-0.153974</td>\n",
       "    </tr>\n",
       "    <tr>\n",
       "      <th>25%</th>\n",
       "      <td>27.090000</td>\n",
       "      <td>27.402500</td>\n",
       "      <td>26.737500</td>\n",
       "      <td>27.007500</td>\n",
       "      <td>24.091871</td>\n",
       "      <td>4.097392e+07</td>\n",
       "      <td>-0.009170</td>\n",
       "    </tr>\n",
       "    <tr>\n",
       "      <th>50%</th>\n",
       "      <td>29.990000</td>\n",
       "      <td>30.240000</td>\n",
       "      <td>29.660000</td>\n",
       "      <td>29.980000</td>\n",
       "      <td>27.035672</td>\n",
       "      <td>5.151200e+07</td>\n",
       "      <td>0.000352</td>\n",
       "    </tr>\n",
       "    <tr>\n",
       "      <th>75%</th>\n",
       "      <td>34.412499</td>\n",
       "      <td>34.812501</td>\n",
       "      <td>34.080000</td>\n",
       "      <td>34.470001</td>\n",
       "      <td>32.773074</td>\n",
       "      <td>6.808665e+07</td>\n",
       "      <td>0.010360</td>\n",
       "    </tr>\n",
       "    <tr>\n",
       "      <th>max</th>\n",
       "      <td>49.910000</td>\n",
       "      <td>50.110001</td>\n",
       "      <td>49.029999</td>\n",
       "      <td>49.380001</td>\n",
       "      <td>46.190933</td>\n",
       "      <td>2.595458e+08</td>\n",
       "      <td>0.177962</td>\n",
       "    </tr>\n",
       "  </tbody>\n",
       "</table>\n",
       "</div>"
      ],
      "text/plain": [
       "              Open         High          Low        Close    Adj Close  \\\n",
       "count  1824.000000  1824.000000  1824.000000  1824.000000  1824.000000   \n",
       "mean     31.253618    31.598169    30.907056    31.252812    28.530192   \n",
       "std       6.209880     6.257163     6.154673     6.201696     6.365921   \n",
       "min      19.260000    19.670000    17.950001    18.080000    16.262651   \n",
       "25%      27.090000    27.402500    26.737500    27.007500    24.091871   \n",
       "50%      29.990000    30.240000    29.660000    29.980000    27.035672   \n",
       "75%      34.412499    34.812501    34.080000    34.470001    32.773074   \n",
       "max      49.910000    50.110001    49.029999    49.380001    46.190933   \n",
       "\n",
       "             Volume  Daily Return  \n",
       "count  1.824000e+03   1823.000000  \n",
       "mean   5.827184e+07      0.000574  \n",
       "std    2.590219e+07      0.020358  \n",
       "min    1.380540e+07     -0.153974  \n",
       "25%    4.097392e+07     -0.009170  \n",
       "50%    5.151200e+07      0.000352  \n",
       "75%    6.808665e+07      0.010360  \n",
       "max    2.595458e+08      0.177962  "
      ]
     },
     "metadata": {},
     "output_type": "display_data"
    },
    {
     "data": {
      "text/html": [
       "<div>\n",
       "<style scoped>\n",
       "    .dataframe tbody tr th:only-of-type {\n",
       "        vertical-align: middle;\n",
       "    }\n",
       "\n",
       "    .dataframe tbody tr th {\n",
       "        vertical-align: top;\n",
       "    }\n",
       "\n",
       "    .dataframe thead th {\n",
       "        text-align: right;\n",
       "    }\n",
       "</style>\n",
       "<table border=\"1\" class=\"dataframe\">\n",
       "  <thead>\n",
       "    <tr style=\"text-align: right;\">\n",
       "      <th></th>\n",
       "      <th>Open</th>\n",
       "      <th>High</th>\n",
       "      <th>Low</th>\n",
       "      <th>Close</th>\n",
       "      <th>Adj Close</th>\n",
       "      <th>Volume</th>\n",
       "      <th>Daily Return</th>\n",
       "    </tr>\n",
       "  </thead>\n",
       "  <tbody>\n",
       "    <tr>\n",
       "      <th>count</th>\n",
       "      <td>1824.000000</td>\n",
       "      <td>1824.000000</td>\n",
       "      <td>1824.000000</td>\n",
       "      <td>1824.000000</td>\n",
       "      <td>1824.000000</td>\n",
       "      <td>1.824000e+03</td>\n",
       "      <td>1823.000000</td>\n",
       "    </tr>\n",
       "    <tr>\n",
       "      <th>mean</th>\n",
       "      <td>100.278355</td>\n",
       "      <td>101.313048</td>\n",
       "      <td>99.234095</td>\n",
       "      <td>100.279375</td>\n",
       "      <td>96.460252</td>\n",
       "      <td>7.571193e+06</td>\n",
       "      <td>0.000536</td>\n",
       "    </tr>\n",
       "    <tr>\n",
       "      <th>std</th>\n",
       "      <td>31.067600</td>\n",
       "      <td>31.354797</td>\n",
       "      <td>30.714940</td>\n",
       "      <td>31.012852</td>\n",
       "      <td>30.937326</td>\n",
       "      <td>4.199420e+06</td>\n",
       "      <td>0.019503</td>\n",
       "    </tr>\n",
       "    <tr>\n",
       "      <th>min</th>\n",
       "      <td>50.799999</td>\n",
       "      <td>51.070000</td>\n",
       "      <td>50.349998</td>\n",
       "      <td>50.830002</td>\n",
       "      <td>47.248940</td>\n",
       "      <td>1.821900e+06</td>\n",
       "      <td>-0.128081</td>\n",
       "    </tr>\n",
       "    <tr>\n",
       "      <th>25%</th>\n",
       "      <td>77.355000</td>\n",
       "      <td>78.009998</td>\n",
       "      <td>76.199997</td>\n",
       "      <td>77.155003</td>\n",
       "      <td>72.465858</td>\n",
       "      <td>5.251575e+06</td>\n",
       "      <td>-0.008544</td>\n",
       "    </tr>\n",
       "    <tr>\n",
       "      <th>50%</th>\n",
       "      <td>98.500000</td>\n",
       "      <td>99.545002</td>\n",
       "      <td>97.720001</td>\n",
       "      <td>98.615002</td>\n",
       "      <td>95.351742</td>\n",
       "      <td>6.578750e+06</td>\n",
       "      <td>0.000364</td>\n",
       "    </tr>\n",
       "    <tr>\n",
       "      <th>75%</th>\n",
       "      <td>122.610001</td>\n",
       "      <td>124.085001</td>\n",
       "      <td>120.985003</td>\n",
       "      <td>122.392500</td>\n",
       "      <td>119.779140</td>\n",
       "      <td>8.558225e+06</td>\n",
       "      <td>0.010320</td>\n",
       "    </tr>\n",
       "    <tr>\n",
       "      <th>max</th>\n",
       "      <td>176.350006</td>\n",
       "      <td>179.100006</td>\n",
       "      <td>175.500000</td>\n",
       "      <td>177.509995</td>\n",
       "      <td>171.783463</td>\n",
       "      <td>4.817610e+07</td>\n",
       "      <td>0.155314</td>\n",
       "    </tr>\n",
       "  </tbody>\n",
       "</table>\n",
       "</div>"
      ],
      "text/plain": [
       "              Open         High          Low        Close    Adj Close  \\\n",
       "count  1824.000000  1824.000000  1824.000000  1824.000000  1824.000000   \n",
       "mean    100.278355   101.313048    99.234095   100.279375    96.460252   \n",
       "std      31.067600    31.354797    30.714940    31.012852    30.937326   \n",
       "min      50.799999    51.070000    50.349998    50.830002    47.248940   \n",
       "25%      77.355000    78.009998    76.199997    77.155003    72.465858   \n",
       "50%      98.500000    99.545002    97.720001    98.615002    95.351742   \n",
       "75%     122.610001   124.085001   120.985003   122.392500   119.779140   \n",
       "max     176.350006   179.100006   175.500000   177.509995   171.783463   \n",
       "\n",
       "             Volume  Daily Return  \n",
       "count  1.824000e+03   1823.000000  \n",
       "mean   7.571193e+06      0.000536  \n",
       "std    4.199420e+06      0.019503  \n",
       "min    1.821900e+06     -0.128081  \n",
       "25%    5.251575e+06     -0.008544  \n",
       "50%    6.578750e+06      0.000364  \n",
       "75%    8.558225e+06      0.010320  \n",
       "max    4.817610e+07      0.155314  "
      ]
     },
     "metadata": {},
     "output_type": "display_data"
    },
    {
     "name": "stderr",
     "output_type": "stream",
     "text": [
      "[*********************100%%**********************]  1 of 1 completed\n",
      "[*********************100%%**********************]  1 of 1 completed\n",
      "[*********************100%%**********************]  1 of 1 completed\n",
      "[*********************100%%**********************]  1 of 1 completed\n",
      "[*********************100%%**********************]  1 of 1 completed\n",
      "[*********************100%%**********************]  1 of 1 completed\n"
     ]
    },
    {
     "data": {
      "image/png": "[encoded data removed]",
      "text/plain": [
       "<Figure size 1000x600 with 1 Axes>"
      ]
     },
     "metadata": {},
     "output_type": "display_data"
    }
   ],
   "source": [
    "# We create an instance of the StockData class\n",
    "SD = StockData(['AAPL', 'CVX', 'KO', 'JNJ', 'BAC', 'NKE'], 2017, 2024)\n",
    "\n",
    "# We are calling this method to calculate daily returns and get the DataFrame\n",
    "df = SD.six_stocks_()\n",
    "\n",
    "# We will plot the DataFrame\n",
    "df.plot(figsize=(10, 6))\n",
    "plt.title('Daily Returns for Six Stocks')\n",
    "plt.xlabel('Date')\n",
    "plt.ylabel('Daily Return')\n",
    "plt.legend(['APPLE', 'Chevron corp', 'Coca cola', 'Johnson & Johnson', 'Bank of America', 'Nike'])\n",
    "plt.grid(True)\n",
    "plt.show()"
   ]
  },
  {
   "cell_type": "markdown",
   "metadata": {},
   "source": [
    "## 3. <a id='toc3_'></a>[Calculation of portfolio weights](#toc3_)"
   ]
  },
  {
   "cell_type": "markdown",
   "metadata": {},
   "source": [
    "We start by having to solve the minimum variance problem, which is a fundamental concept in portfolio optimization, aiming to find the portfolio with the lowest possible level of risk for a given expected return or the highest expected return for a given level of risk.\n",
    "Therefore we start by finding the expected returns for each stock in the portfolio. These expected returns represent the average returns that investors anticipate earning from holding each stock over the chosen time period.\n",
    "\n",
    "Additionally, we calculate the covariance matrix. The covariance measures the degree to which the returns of two stocks move together. A positive covariance indicates that the returns move in the same direction, while a negative covariance indicates they move in opposite directions. The covariance matrix gives us the first sign of whether or not we have benefits from diversifying our portfolio by adding or removing stocks from the portfolio.\n"
   ]
  },
  {
   "cell_type": "code",
   "execution_count": 4,
   "metadata": {},
   "outputs": [
    {
     "data": {
      "text/html": [
       "<div>\n",
       "<style scoped>\n",
       "    .dataframe tbody tr th:only-of-type {\n",
       "        vertical-align: middle;\n",
       "    }\n",
       "\n",
       "    .dataframe tbody tr th {\n",
       "        vertical-align: top;\n",
       "    }\n",
       "\n",
       "    .dataframe thead th {\n",
       "        text-align: right;\n",
       "    }\n",
       "</style>\n",
       "<table border=\"1\" class=\"dataframe\">\n",
       "  <thead>\n",
       "    <tr style=\"text-align: right;\">\n",
       "      <th></th>\n",
       "      <th>Expected Return (%)</th>\n",
       "    </tr>\n",
       "    <tr>\n",
       "      <th>Ticker</th>\n",
       "      <th></th>\n",
       "    </tr>\n",
       "  </thead>\n",
       "  <tbody>\n",
       "    <tr>\n",
       "      <th>Apple Inc.</th>\n",
       "      <td>0.118518</td>\n",
       "    </tr>\n",
       "    <tr>\n",
       "      <th>Chevron Corporation</th>\n",
       "      <td>0.053565</td>\n",
       "    </tr>\n",
       "    <tr>\n",
       "      <th>The Coca-Cola Company</th>\n",
       "      <td>0.039587</td>\n",
       "    </tr>\n",
       "    <tr>\n",
       "      <th>Johnson &amp; Johnson</th>\n",
       "      <td>0.033614</td>\n",
       "    </tr>\n",
       "    <tr>\n",
       "      <th>Bank of America Corporation</th>\n",
       "      <td>0.057442</td>\n",
       "    </tr>\n",
       "    <tr>\n",
       "      <th>Nike, Inc.</th>\n",
       "      <td>0.053610</td>\n",
       "    </tr>\n",
       "  </tbody>\n",
       "</table>\n",
       "</div>"
      ],
      "text/plain": [
       "                             Expected Return (%)\n",
       "Ticker                                          \n",
       "Apple Inc.                              0.118518\n",
       "Chevron Corporation                     0.053565\n",
       "The Coca-Cola Company                   0.039587\n",
       "Johnson & Johnson                       0.033614\n",
       "Bank of America Corporation             0.057442\n",
       "Nike, Inc.                              0.053610"
      ]
     },
     "metadata": {},
     "output_type": "display_data"
    }
   ],
   "source": [
    "# We will set the display precision to 6 decimal points\n",
    "pd.set_option('display.float_format', '{:.6f}'.format)\n",
    "\n",
    "# We will call the method to get the filtered DataFrame\n",
    "expected_returns_df_filtered = SD.expected_return_()\n",
    "\n",
    "# We are displaying the filtered DataFrame containing the expected returns with company names\n",
    "display(expected_returns_df_filtered)\n"
   ]
  },
  {
   "cell_type": "markdown",
   "metadata": {},
   "source": [
    "From the table above we can see that Apple Inc. is the asset in our portfolio that gives us the highest expected daily return of 0,119%, and that the pharmaceutical company Johnson & Johnson gives us the lowest of 0,034%."
   ]
  },
  {
   "cell_type": "code",
   "execution_count": 5,
   "metadata": {},
   "outputs": [
    {
     "name": "stdout",
     "output_type": "stream",
     "text": [
      "Covariance Matrix for Two Stocks:\n"
     ]
    },
    {
     "data": {
      "text/html": [
       "<div>\n",
       "<style scoped>\n",
       "    .dataframe tbody tr th:only-of-type {\n",
       "        vertical-align: middle;\n",
       "    }\n",
       "\n",
       "    .dataframe tbody tr th {\n",
       "        vertical-align: top;\n",
       "    }\n",
       "\n",
       "    .dataframe thead th {\n",
       "        text-align: right;\n",
       "    }\n",
       "</style>\n",
       "<table border=\"1\" class=\"dataframe\">\n",
       "  <thead>\n",
       "    <tr style=\"text-align: right;\">\n",
       "      <th></th>\n",
       "      <th>AAPL</th>\n",
       "      <th>CVX</th>\n",
       "    </tr>\n",
       "  </thead>\n",
       "  <tbody>\n",
       "    <tr>\n",
       "      <th>AAPL</th>\n",
       "      <td>0.000353</td>\n",
       "      <td>0.000128</td>\n",
       "    </tr>\n",
       "    <tr>\n",
       "      <th>CVX</th>\n",
       "      <td>0.000128</td>\n",
       "      <td>0.000392</td>\n",
       "    </tr>\n",
       "  </tbody>\n",
       "</table>\n",
       "</div>"
      ],
      "text/plain": [
       "         AAPL      CVX\n",
       "AAPL 0.000353 0.000128\n",
       "CVX  0.000128 0.000392"
      ]
     },
     "metadata": {},
     "output_type": "display_data"
    },
    {
     "name": "stdout",
     "output_type": "stream",
     "text": [
      "Covariance Matrix for Four Stocks:\n"
     ]
    },
    {
     "data": {
      "text/html": [
       "<div>\n",
       "<style scoped>\n",
       "    .dataframe tbody tr th:only-of-type {\n",
       "        vertical-align: middle;\n",
       "    }\n",
       "\n",
       "    .dataframe tbody tr th {\n",
       "        vertical-align: top;\n",
       "    }\n",
       "\n",
       "    .dataframe thead th {\n",
       "        text-align: right;\n",
       "    }\n",
       "</style>\n",
       "<table border=\"1\" class=\"dataframe\">\n",
       "  <thead>\n",
       "    <tr style=\"text-align: right;\">\n",
       "      <th></th>\n",
       "      <th>AAPL</th>\n",
       "      <th>CVX</th>\n",
       "      <th>KO</th>\n",
       "      <th>JNJ</th>\n",
       "    </tr>\n",
       "  </thead>\n",
       "  <tbody>\n",
       "    <tr>\n",
       "      <th>AAPL</th>\n",
       "      <td>0.000353</td>\n",
       "      <td>0.000128</td>\n",
       "      <td>0.000088</td>\n",
       "      <td>0.000083</td>\n",
       "    </tr>\n",
       "    <tr>\n",
       "      <th>CVX</th>\n",
       "      <td>0.000128</td>\n",
       "      <td>0.000392</td>\n",
       "      <td>0.000100</td>\n",
       "      <td>0.000085</td>\n",
       "    </tr>\n",
       "    <tr>\n",
       "      <th>KO</th>\n",
       "      <td>0.000088</td>\n",
       "      <td>0.000100</td>\n",
       "      <td>0.000144</td>\n",
       "      <td>0.000075</td>\n",
       "    </tr>\n",
       "    <tr>\n",
       "      <th>JNJ</th>\n",
       "      <td>0.000083</td>\n",
       "      <td>0.000085</td>\n",
       "      <td>0.000075</td>\n",
       "      <td>0.000143</td>\n",
       "    </tr>\n",
       "  </tbody>\n",
       "</table>\n",
       "</div>"
      ],
      "text/plain": [
       "         AAPL      CVX       KO      JNJ\n",
       "AAPL 0.000353 0.000128 0.000088 0.000083\n",
       "CVX  0.000128 0.000392 0.000100 0.000085\n",
       "KO   0.000088 0.000100 0.000144 0.000075\n",
       "JNJ  0.000083 0.000085 0.000075 0.000143"
      ]
     },
     "metadata": {},
     "output_type": "display_data"
    },
    {
     "name": "stdout",
     "output_type": "stream",
     "text": [
      "Covariance Matrix for Six Stocks:\n"
     ]
    },
    {
     "data": {
      "text/html": [
       "<div>\n",
       "<style scoped>\n",
       "    .dataframe tbody tr th:only-of-type {\n",
       "        vertical-align: middle;\n",
       "    }\n",
       "\n",
       "    .dataframe tbody tr th {\n",
       "        vertical-align: top;\n",
       "    }\n",
       "\n",
       "    .dataframe thead th {\n",
       "        text-align: right;\n",
       "    }\n",
       "</style>\n",
       "<table border=\"1\" class=\"dataframe\">\n",
       "  <thead>\n",
       "    <tr style=\"text-align: right;\">\n",
       "      <th></th>\n",
       "      <th>AAPL</th>\n",
       "      <th>CVX</th>\n",
       "      <th>KO</th>\n",
       "      <th>JNJ</th>\n",
       "      <th>BAC</th>\n",
       "      <th>NKE</th>\n",
       "    </tr>\n",
       "  </thead>\n",
       "  <tbody>\n",
       "    <tr>\n",
       "      <th>AAPL</th>\n",
       "      <td>0.000353</td>\n",
       "      <td>0.000128</td>\n",
       "      <td>0.000088</td>\n",
       "      <td>0.000083</td>\n",
       "      <td>0.000165</td>\n",
       "      <td>0.000178</td>\n",
       "    </tr>\n",
       "    <tr>\n",
       "      <th>CVX</th>\n",
       "      <td>0.000128</td>\n",
       "      <td>0.000392</td>\n",
       "      <td>0.000100</td>\n",
       "      <td>0.000085</td>\n",
       "      <td>0.000245</td>\n",
       "      <td>0.000142</td>\n",
       "    </tr>\n",
       "    <tr>\n",
       "      <th>KO</th>\n",
       "      <td>0.000088</td>\n",
       "      <td>0.000100</td>\n",
       "      <td>0.000144</td>\n",
       "      <td>0.000075</td>\n",
       "      <td>0.000111</td>\n",
       "      <td>0.000094</td>\n",
       "    </tr>\n",
       "    <tr>\n",
       "      <th>JNJ</th>\n",
       "      <td>0.000083</td>\n",
       "      <td>0.000085</td>\n",
       "      <td>0.000075</td>\n",
       "      <td>0.000143</td>\n",
       "      <td>0.000091</td>\n",
       "      <td>0.000076</td>\n",
       "    </tr>\n",
       "    <tr>\n",
       "      <th>BAC</th>\n",
       "      <td>0.000165</td>\n",
       "      <td>0.000245</td>\n",
       "      <td>0.000111</td>\n",
       "      <td>0.000091</td>\n",
       "      <td>0.000414</td>\n",
       "      <td>0.000182</td>\n",
       "    </tr>\n",
       "    <tr>\n",
       "      <th>NKE</th>\n",
       "      <td>0.000178</td>\n",
       "      <td>0.000142</td>\n",
       "      <td>0.000094</td>\n",
       "      <td>0.000076</td>\n",
       "      <td>0.000182</td>\n",
       "      <td>0.000380</td>\n",
       "    </tr>\n",
       "  </tbody>\n",
       "</table>\n",
       "</div>"
      ],
      "text/plain": [
       "         AAPL      CVX       KO      JNJ      BAC      NKE\n",
       "AAPL 0.000353 0.000128 0.000088 0.000083 0.000165 0.000178\n",
       "CVX  0.000128 0.000392 0.000100 0.000085 0.000245 0.000142\n",
       "KO   0.000088 0.000100 0.000144 0.000075 0.000111 0.000094\n",
       "JNJ  0.000083 0.000085 0.000075 0.000143 0.000091 0.000076\n",
       "BAC  0.000165 0.000245 0.000111 0.000091 0.000414 0.000182\n",
       "NKE  0.000178 0.000142 0.000094 0.000076 0.000182 0.000380"
      ]
     },
     "metadata": {},
     "output_type": "display_data"
    }
   ],
   "source": [
    "#Next we display the covariance matrix for each portfolio\n",
    "print(\"Covariance Matrix for Two Stocks:\")\n",
    "display(SD.calculate_covariance(\"two\"))\n",
    "\n",
    "print(\"Covariance Matrix for Four Stocks:\")\n",
    "display(SD.calculate_covariance(\"four\"))\n",
    "\n",
    "print(\"Covariance Matrix for Six Stocks:\")\n",
    "display(SD.calculate_covariance(\"six\"))\n"
   ]
  },
  {
   "cell_type": "markdown",
   "metadata": {},
   "source": [
    "For the covariance matrix for the two stocks portfolio we see a covariance between Apple and Chevron Corporation of 0.000128, which means that there is a positive covariance between the returns of the two assets. It tells us that the two stocks tend to move in the same direction but we notice its a very small number. Hence there is some level of correlation (but very weak) between the two stocks and their expected return, meaning that if Apple's return is above its average then Chevron Corporation's is also likely to be above its average and vice versa. \n",
    "\n",
    "In portfolio management the interpretation would be that a low covariance indicates that the assets are less likely to move in tandem, potentially providing greater diversification benefits and reducing overall portfolio risk.\n"
   ]
  },
  {
   "cell_type": "markdown",
   "metadata": {},
   "source": [
    "Next, we need to find the inverse matrices of the covariance matrices found above. We create a 1-vector and a z-vector to be able to solve the minimum variance problem. We are seeking the portfolio weights with the smallest possible variance for each of the three portfolios we are working with. \n"
   ]
  },
  {
   "cell_type": "code",
   "execution_count": 6,
   "metadata": {},
   "outputs": [
    {
     "name": "stdout",
     "output_type": "stream",
     "text": [
      "Invers Covariance Matrix for Two Stocks:\n",
      "Number: two\n"
     ]
    },
    {
     "data": {
      "text/html": [
       "<div>\n",
       "<style scoped>\n",
       "    .dataframe tbody tr th:only-of-type {\n",
       "        vertical-align: middle;\n",
       "    }\n",
       "\n",
       "    .dataframe tbody tr th {\n",
       "        vertical-align: top;\n",
       "    }\n",
       "\n",
       "    .dataframe thead th {\n",
       "        text-align: right;\n",
       "    }\n",
       "</style>\n",
       "<table border=\"1\" class=\"dataframe\">\n",
       "  <thead>\n",
       "    <tr style=\"text-align: right;\">\n",
       "      <th></th>\n",
       "      <th>AAPL</th>\n",
       "      <th>CVX</th>\n",
       "    </tr>\n",
       "  </thead>\n",
       "  <tbody>\n",
       "    <tr>\n",
       "      <th>AAPL</th>\n",
       "      <td>3216.207573</td>\n",
       "      <td>-1048.117169</td>\n",
       "    </tr>\n",
       "    <tr>\n",
       "      <th>CVX</th>\n",
       "      <td>-1048.117169</td>\n",
       "      <td>2891.838315</td>\n",
       "    </tr>\n",
       "  </tbody>\n",
       "</table>\n",
       "</div>"
      ],
      "text/plain": [
       "             AAPL          CVX\n",
       "AAPL  3216.207573 -1048.117169\n",
       "CVX  -1048.117169  2891.838315"
      ]
     },
     "metadata": {},
     "output_type": "display_data"
    },
    {
     "name": "stdout",
     "output_type": "stream",
     "text": [
      "Invers Covariance Matrix for Four Stocks:\n",
      "Number: four\n"
     ]
    },
    {
     "data": {
      "text/html": [
       "<div>\n",
       "<style scoped>\n",
       "    .dataframe tbody tr th:only-of-type {\n",
       "        vertical-align: middle;\n",
       "    }\n",
       "\n",
       "    .dataframe tbody tr th {\n",
       "        vertical-align: top;\n",
       "    }\n",
       "\n",
       "    .dataframe thead th {\n",
       "        text-align: right;\n",
       "    }\n",
       "</style>\n",
       "<table border=\"1\" class=\"dataframe\">\n",
       "  <thead>\n",
       "    <tr style=\"text-align: right;\">\n",
       "      <th></th>\n",
       "      <th>AAPL</th>\n",
       "      <th>CVX</th>\n",
       "      <th>KO</th>\n",
       "      <th>JNJ</th>\n",
       "    </tr>\n",
       "  </thead>\n",
       "  <tbody>\n",
       "    <tr>\n",
       "      <th>AAPL</th>\n",
       "      <td>3623.039157</td>\n",
       "      <td>-642.830618</td>\n",
       "      <td>-1192.111520</td>\n",
       "      <td>-1092.024190</td>\n",
       "    </tr>\n",
       "    <tr>\n",
       "      <th>CVX</th>\n",
       "      <td>-642.830618</td>\n",
       "      <td>3306.914706</td>\n",
       "      <td>-1477.184606</td>\n",
       "      <td>-799.472991</td>\n",
       "    </tr>\n",
       "    <tr>\n",
       "      <th>KO</th>\n",
       "      <td>-1192.111520</td>\n",
       "      <td>-1477.184606</td>\n",
       "      <td>10896.143206</td>\n",
       "      <td>-4172.509012</td>\n",
       "    </tr>\n",
       "    <tr>\n",
       "      <th>JNJ</th>\n",
       "      <td>-1092.024190</td>\n",
       "      <td>-799.472991</td>\n",
       "      <td>-4172.509012</td>\n",
       "      <td>10273.167598</td>\n",
       "    </tr>\n",
       "  </tbody>\n",
       "</table>\n",
       "</div>"
      ],
      "text/plain": [
       "             AAPL          CVX           KO          JNJ\n",
       "AAPL  3623.039157  -642.830618 -1192.111520 -1092.024190\n",
       "CVX   -642.830618  3306.914706 -1477.184606  -799.472991\n",
       "KO   -1192.111520 -1477.184606 10896.143206 -4172.509012\n",
       "JNJ  -1092.024190  -799.472991 -4172.509012 10273.167598"
      ]
     },
     "metadata": {},
     "output_type": "display_data"
    },
    {
     "name": "stdout",
     "output_type": "stream",
     "text": [
      "Invers Covariance Matrix for Six Stocks:\n",
      "Number: six\n"
     ]
    },
    {
     "data": {
      "text/html": [
       "<div>\n",
       "<style scoped>\n",
       "    .dataframe tbody tr th:only-of-type {\n",
       "        vertical-align: middle;\n",
       "    }\n",
       "\n",
       "    .dataframe tbody tr th {\n",
       "        vertical-align: top;\n",
       "    }\n",
       "\n",
       "    .dataframe thead th {\n",
       "        text-align: right;\n",
       "    }\n",
       "</style>\n",
       "<table border=\"1\" class=\"dataframe\">\n",
       "  <thead>\n",
       "    <tr style=\"text-align: right;\">\n",
       "      <th></th>\n",
       "      <th>AAPL</th>\n",
       "      <th>CVX</th>\n",
       "      <th>KO</th>\n",
       "      <th>JNJ</th>\n",
       "      <th>BAC</th>\n",
       "      <th>NKE</th>\n",
       "    </tr>\n",
       "  </thead>\n",
       "  <tbody>\n",
       "    <tr>\n",
       "      <th>AAPL</th>\n",
       "      <td>4213.464153</td>\n",
       "      <td>-131.449501</td>\n",
       "      <td>-649.709999</td>\n",
       "      <td>-934.831901</td>\n",
       "      <td>-672.539986</td>\n",
       "      <td>-1253.164805</td>\n",
       "    </tr>\n",
       "    <tr>\n",
       "      <th>CVX</th>\n",
       "      <td>-131.449501</td>\n",
       "      <td>4289.519439</td>\n",
       "      <td>-856.032198</td>\n",
       "      <td>-595.875194</td>\n",
       "      <td>-2017.020724</td>\n",
       "      <td>-246.523250</td>\n",
       "    </tr>\n",
       "    <tr>\n",
       "      <th>KO</th>\n",
       "      <td>-649.709999</td>\n",
       "      <td>-856.032198</td>\n",
       "      <td>11436.880844</td>\n",
       "      <td>-4009.184641</td>\n",
       "      <td>-1020.176738</td>\n",
       "      <td>-915.957391</td>\n",
       "    </tr>\n",
       "    <tr>\n",
       "      <th>JNJ</th>\n",
       "      <td>-934.831901</td>\n",
       "      <td>-595.875194</td>\n",
       "      <td>-4009.184641</td>\n",
       "      <td>10323.447688</td>\n",
       "      <td>-358.340124</td>\n",
       "      <td>-228.795173</td>\n",
       "    </tr>\n",
       "    <tr>\n",
       "      <th>BAC</th>\n",
       "      <td>-672.539986</td>\n",
       "      <td>-2017.020724</td>\n",
       "      <td>-1020.176738</td>\n",
       "      <td>-358.340124</td>\n",
       "      <td>4579.114405</td>\n",
       "      <td>-802.324077</td>\n",
       "    </tr>\n",
       "    <tr>\n",
       "      <th>NKE</th>\n",
       "      <td>-1253.164805</td>\n",
       "      <td>-246.523250</td>\n",
       "      <td>-915.957391</td>\n",
       "      <td>-228.795173</td>\n",
       "      <td>-802.324077</td>\n",
       "      <td>3963.737407</td>\n",
       "    </tr>\n",
       "  </tbody>\n",
       "</table>\n",
       "</div>"
      ],
      "text/plain": [
       "             AAPL          CVX           KO          JNJ          BAC  \\\n",
       "AAPL  4213.464153  -131.449501  -649.709999  -934.831901  -672.539986   \n",
       "CVX   -131.449501  4289.519439  -856.032198  -595.875194 -2017.020724   \n",
       "KO    -649.709999  -856.032198 11436.880844 -4009.184641 -1020.176738   \n",
       "JNJ   -934.831901  -595.875194 -4009.184641 10323.447688  -358.340124   \n",
       "BAC   -672.539986 -2017.020724 -1020.176738  -358.340124  4579.114405   \n",
       "NKE  -1253.164805  -246.523250  -915.957391  -228.795173  -802.324077   \n",
       "\n",
       "              NKE  \n",
       "AAPL -1253.164805  \n",
       "CVX   -246.523250  \n",
       "KO    -915.957391  \n",
       "JNJ   -228.795173  \n",
       "BAC   -802.324077  \n",
       "NKE   3963.737407  "
      ]
     },
     "metadata": {},
     "output_type": "display_data"
    }
   ],
   "source": [
    "# This code displays the inverse covariance matrix for each portfolio\n",
    "print(\"Invers Covariance Matrix for Two Stocks:\")\n",
    "display(SD.calculate_invers_covariance(\"two\"))\n",
    "\n",
    "print(\"Invers Covariance Matrix for Four Stocks:\")\n",
    "display(SD.calculate_invers_covariance(\"four\"))\n",
    "\n",
    "print(\"Invers Covariance Matrix for Six Stocks:\")\n",
    "display(SD.calculate_invers_covariance(\"six\"))\n"
   ]
  },
  {
   "cell_type": "code",
   "execution_count": 7,
   "metadata": {},
   "outputs": [
    {
     "data": {
      "text/plain": [
       "array([[1.],\n",
       "       [1.]])"
      ]
     },
     "metadata": {},
     "output_type": "display_data"
    },
    {
     "data": {
      "text/plain": [
       "array([[1.],\n",
       "       [1.],\n",
       "       [1.],\n",
       "       [1.]])"
      ]
     },
     "metadata": {},
     "output_type": "display_data"
    },
    {
     "data": {
      "text/plain": [
       "array([[1.],\n",
       "       [1.],\n",
       "       [1.],\n",
       "       [1.],\n",
       "       [1.],\n",
       "       [1.]])"
      ]
     },
     "metadata": {},
     "output_type": "display_data"
    }
   ],
   "source": [
    "# This code displays the one-vector belonging to each portfolio\n",
    "display(SD.one_vector(\"two\"))\n",
    "display(SD.one_vector(\"four\"))\n",
    "display(SD.one_vector(\"six\"))"
   ]
  },
  {
   "cell_type": "code",
   "execution_count": 8,
   "metadata": {},
   "outputs": [
    {
     "name": "stdout",
     "output_type": "stream",
     "text": [
      "Number: two\n"
     ]
    },
    {
     "data": {
      "text/plain": [
       "array([[2168.09040462],\n",
       "       [1843.72114662]])"
      ]
     },
     "metadata": {},
     "output_type": "display_data"
    },
    {
     "name": "stdout",
     "output_type": "stream",
     "text": [
      "Number: four\n"
     ]
    },
    {
     "data": {
      "text/plain": [
       "array([[ 696.07282823],\n",
       "       [ 387.42649071],\n",
       "       [4054.33806728],\n",
       "       [4209.16140469]])"
      ]
     },
     "metadata": {},
     "output_type": "display_data"
    },
    {
     "name": "stdout",
     "output_type": "stream",
     "text": [
      "Number: six\n"
     ]
    },
    {
     "data": {
      "text/plain": [
       "array([[ 571.76796143],\n",
       "       [ 442.61857368],\n",
       "       [3985.81987819],\n",
       "       [4196.42065512],\n",
       "       [-291.28724362],\n",
       "       [ 516.97271172]])"
      ]
     },
     "metadata": {},
     "output_type": "display_data"
    }
   ],
   "source": [
    "# This code displays the z-vector belonging to each portfolio\n",
    "display(SD.calculate_z_vector(\"two\"))\n",
    "display(SD.calculate_z_vector(\"four\"))\n",
    "display(SD.calculate_z_vector(\"six\"))"
   ]
  },
  {
   "cell_type": "code",
   "execution_count": 9,
   "metadata": {},
   "outputs": [
    {
     "name": "stdout",
     "output_type": "stream",
     "text": [
      "Number: two\n",
      "Number: four\n",
      "Number: six\n"
     ]
    },
    {
     "data": {
      "text/html": [
       "<div>\n",
       "<style scoped>\n",
       "    .dataframe tbody tr th:only-of-type {\n",
       "        vertical-align: middle;\n",
       "    }\n",
       "\n",
       "    .dataframe tbody tr th {\n",
       "        vertical-align: top;\n",
       "    }\n",
       "\n",
       "    .dataframe thead th {\n",
       "        text-align: right;\n",
       "    }\n",
       "</style>\n",
       "<table border=\"1\" class=\"dataframe\">\n",
       "  <thead>\n",
       "    <tr style=\"text-align: right;\">\n",
       "      <th></th>\n",
       "      <th>Weights of each stock</th>\n",
       "    </tr>\n",
       "  </thead>\n",
       "  <tbody>\n",
       "    <tr>\n",
       "      <th>AAPL</th>\n",
       "      <td>0.540</td>\n",
       "    </tr>\n",
       "    <tr>\n",
       "      <th>CVX</th>\n",
       "      <td>0.460</td>\n",
       "    </tr>\n",
       "  </tbody>\n",
       "</table>\n",
       "</div>"
      ],
      "text/plain": [
       "      Weights of each stock\n",
       "AAPL                  0.540\n",
       "CVX                   0.460"
      ]
     },
     "metadata": {},
     "output_type": "display_data"
    },
    {
     "data": {
      "text/html": [
       "<div>\n",
       "<style scoped>\n",
       "    .dataframe tbody tr th:only-of-type {\n",
       "        vertical-align: middle;\n",
       "    }\n",
       "\n",
       "    .dataframe tbody tr th {\n",
       "        vertical-align: top;\n",
       "    }\n",
       "\n",
       "    .dataframe thead th {\n",
       "        text-align: right;\n",
       "    }\n",
       "</style>\n",
       "<table border=\"1\" class=\"dataframe\">\n",
       "  <thead>\n",
       "    <tr style=\"text-align: right;\">\n",
       "      <th></th>\n",
       "      <th>Weights of each stock</th>\n",
       "    </tr>\n",
       "  </thead>\n",
       "  <tbody>\n",
       "    <tr>\n",
       "      <th>AAPL</th>\n",
       "      <td>0.074</td>\n",
       "    </tr>\n",
       "    <tr>\n",
       "      <th>CVX</th>\n",
       "      <td>0.041</td>\n",
       "    </tr>\n",
       "    <tr>\n",
       "      <th>KO</th>\n",
       "      <td>0.434</td>\n",
       "    </tr>\n",
       "    <tr>\n",
       "      <th>JNJ</th>\n",
       "      <td>0.450</td>\n",
       "    </tr>\n",
       "  </tbody>\n",
       "</table>\n",
       "</div>"
      ],
      "text/plain": [
       "      Weights of each stock\n",
       "AAPL                  0.074\n",
       "CVX                   0.041\n",
       "KO                    0.434\n",
       "JNJ                   0.450"
      ]
     },
     "metadata": {},
     "output_type": "display_data"
    },
    {
     "data": {
      "text/html": [
       "<div>\n",
       "<style scoped>\n",
       "    .dataframe tbody tr th:only-of-type {\n",
       "        vertical-align: middle;\n",
       "    }\n",
       "\n",
       "    .dataframe tbody tr th {\n",
       "        vertical-align: top;\n",
       "    }\n",
       "\n",
       "    .dataframe thead th {\n",
       "        text-align: right;\n",
       "    }\n",
       "</style>\n",
       "<table border=\"1\" class=\"dataframe\">\n",
       "  <thead>\n",
       "    <tr style=\"text-align: right;\">\n",
       "      <th></th>\n",
       "      <th>Weights of each stock</th>\n",
       "    </tr>\n",
       "  </thead>\n",
       "  <tbody>\n",
       "    <tr>\n",
       "      <th>AAPL</th>\n",
       "      <td>0.061</td>\n",
       "    </tr>\n",
       "    <tr>\n",
       "      <th>CVX</th>\n",
       "      <td>0.047</td>\n",
       "    </tr>\n",
       "    <tr>\n",
       "      <th>KO</th>\n",
       "      <td>0.423</td>\n",
       "    </tr>\n",
       "    <tr>\n",
       "      <th>JNJ</th>\n",
       "      <td>0.445</td>\n",
       "    </tr>\n",
       "    <tr>\n",
       "      <th>BAC</th>\n",
       "      <td>-0.031</td>\n",
       "    </tr>\n",
       "    <tr>\n",
       "      <th>NKE</th>\n",
       "      <td>0.055</td>\n",
       "    </tr>\n",
       "  </tbody>\n",
       "</table>\n",
       "</div>"
      ],
      "text/plain": [
       "      Weights of each stock\n",
       "AAPL                  0.061\n",
       "CVX                   0.047\n",
       "KO                    0.423\n",
       "JNJ                   0.445\n",
       "BAC                  -0.031\n",
       "NKE                   0.055"
      ]
     },
     "metadata": {},
     "output_type": "display_data"
    }
   ],
   "source": [
    "# We again set the display to 3 decimal points\n",
    "pd.set_option('display.float_format', '{:.3f}'.format)\n",
    "\n",
    "# We get the weights\n",
    "weights_two = SD.normalize_z_vector(\"two\")\n",
    "weights_four = SD.normalize_z_vector(\"four\")\n",
    "weights_six = SD.normalize_z_vector(\"six\")\n",
    "\n",
    "# We create DataFrames with the weights and the stock names as the index\n",
    "df_two = pd.DataFrame(weights_two, index=SD.tickers[:2], columns=[\"Weights of each stock\"])\n",
    "df_four = pd.DataFrame(weights_four, index=SD.tickers[:4], columns=[\"Weights of each stock\"])\n",
    "df_six = pd.DataFrame(weights_six, index=SD.tickers[:6], columns=[\"Weights of each stock\"])\n",
    "\n",
    "# We will display the DataFrames\n",
    "display(df_two)\n",
    "display(df_four)\n",
    "display(df_six)\n",
    "\n",
    "SD.create_pert(expected_returns_df_filtered, df_two, df_four, df_six)\n"
   ]
  },
  {
   "cell_type": "code",
   "execution_count": 10,
   "metadata": {},
   "outputs": [
    {
     "name": "stdout",
     "output_type": "stream",
     "text": [
      "Number: two\n"
     ]
    },
    {
     "data": {
      "text/plain": [
       "array([[1.],\n",
       "       [1.]])"
      ]
     },
     "metadata": {},
     "output_type": "display_data"
    },
    {
     "name": "stdout",
     "output_type": "stream",
     "text": [
      "Number: four\n"
     ]
    },
    {
     "data": {
      "text/plain": [
       "array([[1.],\n",
       "       [1.],\n",
       "       [1.],\n",
       "       [1.]])"
      ]
     },
     "metadata": {},
     "output_type": "display_data"
    },
    {
     "name": "stdout",
     "output_type": "stream",
     "text": [
      "Number: six\n"
     ]
    },
    {
     "data": {
      "text/plain": [
       "array([[1.],\n",
       "       [1.],\n",
       "       [1.],\n",
       "       [1.],\n",
       "       [1.],\n",
       "       [1.]])"
      ]
     },
     "metadata": {},
     "output_type": "display_data"
    }
   ],
   "source": [
    "# This is the code where we check our results, to see if the calculations are correct\n",
    "display(SD.check_results(\"two\"))\n",
    "display(SD.check_results(\"four\"))\n",
    "display(SD.check_results(\"six\"))"
   ]
  },
  {
   "cell_type": "markdown",
   "metadata": {},
   "source": [
    "Above we have found the portfolio weights for respectively the two stock, four stock and six stock portfolio and further checked if they sum to one.\n",
    "For example, for the two stock portfolio, it should consist of 54% Apple stocks and 46% Chevron Corporation stocks to get the smallest possible variance for a portfolio consisting of only these two stocks. \n",
    "Interestingly, we observe for the six-stock portfolio a negative weight assigned to Bank of America (-0.031). This negative weight suggests that the optimal portfolio allocation involves short-selling Bank of America stock. \n"
   ]
  },
  {
   "cell_type": "markdown",
   "metadata": {},
   "source": [
    "## 4. <a id='toc4_'></a>[Calculating expected daily return and risk associated](#toc4_)"
   ]
  },
  {
   "cell_type": "markdown",
   "metadata": {},
   "source": [
    "Now that we have determined the portfolio weights that minimize the portfolio variance, we are interested in estimating the expected daily return associated with these portfolio weights for each of the three portfolios. \n",
    "Additionally, we seek to assess the level of risk inherent in the portfolios represented by these weights. To accomplish this, we calculate the standard deviation of the variance, which serves as a measure of volatility. \n"
   ]
  },
  {
   "cell_type": "code",
   "execution_count": 11,
   "metadata": {},
   "outputs": [
    {
     "name": "stdout",
     "output_type": "stream",
     "text": [
      "Expected return for two stock portfolio:\n"
     ]
    },
    {
     "data": {
      "text/plain": [
       "0.08866720840702493"
      ]
     },
     "metadata": {},
     "output_type": "display_data"
    },
    {
     "name": "stdout",
     "output_type": "stream",
     "text": [
      "Expected return for four stock portfolio:\n"
     ]
    },
    {
     "data": {
      "text/plain": [
       "0.04335467045249994"
      ]
     },
     "metadata": {},
     "output_type": "display_data"
    },
    {
     "name": "stdout",
     "output_type": "stream",
     "text": [
      "Expected return for six stock portfolio:\n"
     ]
    },
    {
     "data": {
      "text/plain": [
       "0.04259064856287928"
      ]
     },
     "metadata": {},
     "output_type": "display_data"
    }
   ],
   "source": [
    "# This code displays the expected return for each portfolio\n",
    "print(\"Expected return for two stock portfolio:\")\n",
    "display(SD.portfolio_expected_return_two)\n",
    "print(\"Expected return for four stock portfolio:\")\n",
    "display(SD.portfolio_expected_return_four)\n",
    "print(\"Expected return for six stock portfolio:\")\n",
    "display(SD.portfolio_expected_return_six)\n"
   ]
  },
  {
   "cell_type": "code",
   "execution_count": 12,
   "metadata": {},
   "outputs": [
    {
     "name": "stdout",
     "output_type": "stream",
     "text": [
      "Portfolio variance for two stock portfolio: 0.00024926395151640235\n",
      "Portfolio variance for four stock portfolio: 0.00010698621261968494\n",
      "Portfolio variance for six stock portfolio: 0.00010613105817951636\n"
     ]
    }
   ],
   "source": [
    "# We need to call an instance of the StockData class to calculate the portfolio variances\n",
    "SD.calculate_portfolio_variances()\n",
    "\n",
    "# We print the portfolio variances\n",
    "print(\"Portfolio variance for two stock portfolio:\", SD.portfolio_variance_two)\n",
    "print(\"Portfolio variance for four stock portfolio:\", SD.portfolio_variance_four)\n",
    "print(\"Portfolio variance for six stock portfolio:\", SD.portfolio_variance_six)"
   ]
  },
  {
   "cell_type": "code",
   "execution_count": 13,
   "metadata": {},
   "outputs": [
    {
     "name": "stdout",
     "output_type": "stream",
     "text": [
      "Portfolio standard deviation for two stock portfolio: 0.015788095246621815\n",
      "Portfolio standard deviation for four stock portfolio: 0.01034341397313696\n",
      "Portfolio standard deviation for six stock portfolio: 0.010301992922707545\n"
     ]
    }
   ],
   "source": [
    "# We need to call an instance of the StockData class to calculate the portfolio standard deviations\n",
    "SD.calculate_portfolio_std_devs()\n",
    "\n",
    "# We print the portfolio standard deviations\n",
    "print(\"Portfolio standard deviation for two stock portfolio:\", SD.portfolio_std_dev_two)\n",
    "print(\"Portfolio standard deviation for four stock portfolio:\", SD.portfolio_std_dev_four)\n",
    "print(\"Portfolio standard deviation for six stock portfolio:\", SD.portfolio_std_dev_six)"
   ]
  },
  {
   "cell_type": "markdown",
   "metadata": {},
   "source": [
    "Our results show that diversification leads to a decrease in expected daily return, which is not fully in accordance with Harry Markowitz's theory. Notably, the two-stock portfolio outperforms the four and six-stock portfolios in terms of expected daily return. On the other hand our results are in accordance with Markowitz in regards to diversification (inclusion of more assets) reduces your risk, because the standard deviation for the four stock and six stock portfolio both are lower than for the two stock portfolio."
   ]
  },
  {
   "cell_type": "markdown",
   "metadata": {},
   "source": [
    "## 5. <a id='toc5_'></a>[Plotting efficient frontier](#toc5_)"
   ]
  },
  {
   "cell_type": "markdown",
   "metadata": {},
   "source": [
    "Finally, we want to plot the efficient frontier for each of the three portfolios showing the portfolio with the optimal portfolio weights (red dot) and the different levels of volatility and expected return if you chose different portfolio weights than the ones we found to be the optimal ones solving the minimum variance problem. "
   ]
  },
  {
   "cell_type": "code",
   "execution_count": 14,
   "metadata": {},
   "outputs": [
    {
     "data": {
      "image/png": "[encoded data removed]",
      "text/plain": [
       "<Figure size 640x480 with 1 Axes>"
      ]
     },
     "metadata": {},
     "output_type": "display_data"
    }
   ],
   "source": [
    "SD.plot_two_stock()"
   ]
  },
  {
   "cell_type": "code",
   "execution_count": 15,
   "metadata": {},
   "outputs": [
    {
     "data": {
      "image/png": "[encoded data removed]",
      "text/plain": [
       "<Figure size 640x480 with 1 Axes>"
      ]
     },
     "metadata": {},
     "output_type": "display_data"
    }
   ],
   "source": [
    "SD.plot_four_stock()"
   ]
  },
  {
   "cell_type": "code",
   "execution_count": 16,
   "metadata": {},
   "outputs": [
    {
     "data": {
      "image/png": "[encoded data removed]",
      "text/plain": [
       "<Figure size 640x480 with 1 Axes>"
      ]
     },
     "metadata": {},
     "output_type": "display_data"
    }
   ],
   "source": [
    "SD.plot_six_stock()"
   ]
  },
  {
   "cell_type": "markdown",
   "metadata": {},
   "source": [
    "## 6. <a id='toc6_'></a>[Conclusion](#toc6_)"
   ]
  },
  {
   "cell_type": "markdown",
   "metadata": {},
   "source": [
    "After reviewing our findings, it appears that Harry Markowitz theory holds in terms of risk reduction. However, our project's results indicate a decline in the expected return when comparing a two-stock portfolio to a six-stock portfolio. Nonetheless, we believe that if we were to include even more stocks, say 30, the outcomes would further support his theory. We anticipate that the expected daily returns would converge towards or even exceed those of the two-stock portfolio while concurrently mitigating risk."
   ]
  }
 ],
 "metadata": {
  "kernelspec": {
   "display_name": "base",
   "language": "python",
   "name": "python3"
  },
  "language_info": {
   "codemirror_mode": {
    "name": "ipython",
    "version": 3
   },
   "file_extension": ".py",
   "mimetype": "text/x-python",
   "name": "python",
   "nbconvert_exporter": "python",
   "pygments_lexer": "ipython3",
   "version": "3.11.7"
  }
 },
 "nbformat": 4,
 "nbformat_minor": 2
}
