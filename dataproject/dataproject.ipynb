{
 "cells": [
  {
   "cell_type": "markdown",
   "metadata": {},
   "source": [
    "# The importance of diversification in a portfolio under the CAPM model"
   ]
  },
  {
   "attachments": {},
   "cell_type": "markdown",
   "metadata": {},
   "source": [
    "> **Note the following:** \n",
    "> 1. This is *not* meant to be an example of an actual **data analysis project**, just an example of how to structure such a project.\n",
    "> 1. Remember the general advice on structuring and commenting your code\n",
    "> 1. The `dataproject.py` file includes a function which can be used multiple times in this notebook."
   ]
  },
  {
   "cell_type": "markdown",
   "metadata": {},
   "source": [
    "Imports and set magics:"
   ]
  },
  {
   "cell_type": "code",
   "execution_count": 80,
   "metadata": {},
   "outputs": [
    {
     "name": "stdout",
     "output_type": "stream",
     "text": [
      "Requirement already satisfied: matplotlib-venn in c:\\users\\simon\\anaconda3\\lib\\site-packages (0.11.10)\n",
      "Requirement already satisfied: matplotlib in c:\\users\\simon\\anaconda3\\lib\\site-packages (from matplotlib-venn) (3.8.0)\n",
      "Requirement already satisfied: numpy in c:\\users\\simon\\anaconda3\\lib\\site-packages (from matplotlib-venn) (1.26.3)\n",
      "Requirement already satisfied: scipy in c:\\users\\simon\\anaconda3\\lib\\site-packages (from matplotlib-venn) (1.11.4)\n",
      "Requirement already satisfied: contourpy>=1.0.1 in c:\\users\\simon\\anaconda3\\lib\\site-packages (from matplotlib->matplotlib-venn) (1.2.0)\n",
      "Requirement already satisfied: cycler>=0.10 in c:\\users\\simon\\anaconda3\\lib\\site-packages (from matplotlib->matplotlib-venn) (0.11.0)\n",
      "Requirement already satisfied: fonttools>=4.22.0 in c:\\users\\simon\\anaconda3\\lib\\site-packages (from matplotlib->matplotlib-venn) (4.25.0)\n",
      "Requirement already satisfied: kiwisolver>=1.0.1 in c:\\users\\simon\\anaconda3\\lib\\site-packages (from matplotlib->matplotlib-venn) (1.4.4)\n",
      "Requirement already satisfied: packaging>=20.0 in c:\\users\\simon\\anaconda3\\lib\\site-packages (from matplotlib->matplotlib-venn) (23.1)\n",
      "Requirement already satisfied: pillow>=6.2.0 in c:\\users\\simon\\anaconda3\\lib\\site-packages (from matplotlib->matplotlib-venn) (10.0.1)\n",
      "Requirement already satisfied: pyparsing>=2.3.1 in c:\\users\\simon\\anaconda3\\lib\\site-packages (from matplotlib->matplotlib-venn) (3.0.9)\n",
      "Requirement already satisfied: python-dateutil>=2.7 in c:\\users\\simon\\anaconda3\\lib\\site-packages (from matplotlib->matplotlib-venn) (2.8.2)\n",
      "Requirement already satisfied: six>=1.5 in c:\\users\\simon\\anaconda3\\lib\\site-packages (from python-dateutil>=2.7->matplotlib->matplotlib-venn) (1.16.0)\n",
      "Note: you may need to restart the kernel to use updated packages.\n"
     ]
    }
   ],
   "source": [
    "%pip install matplotlib-venn"
   ]
  },
  {
   "cell_type": "code",
   "execution_count": 81,
   "metadata": {},
   "outputs": [
    {
     "name": "stdout",
     "output_type": "stream",
     "text": [
      "The autoreload extension is already loaded. To reload it, use:\n",
      "  %reload_ext autoreload\n"
     ]
    }
   ],
   "source": [
    "import pandas as pd\n",
    "import numpy as np\n",
    "import matplotlib.pyplot as plt\n",
    "import ipywidgets as widgets\n",
    "from matplotlib_venn import venn2\n",
    "\n",
    "# autoreload modules when code is run\n",
    "%load_ext autoreload\n",
    "%autoreload 2\n",
    "\n",
    "# user written modules\n",
    "import dataproject\n"
   ]
  },
  {
   "cell_type": "markdown",
   "metadata": {},
   "source": [
    "We want to merge our different data into one. "
   ]
  },
  {
   "cell_type": "code",
   "execution_count": 82,
   "metadata": {},
   "outputs": [],
   "source": [
    "danske = pd.read_csv('DANSKE.CO.csv')\n",
    "maersk = pd.read_csv('MAERSK-B.CO.csv')\n",
    "novo = pd.read_csv('NOVO-B.CO.csv')\n",
    "iss = pd.read_csv('ISS.CO.csv')\n",
    "c25 = pd.read_csv('OMXC25.csv')"
   ]
  },
  {
   "cell_type": "code",
   "execution_count": 113,
   "metadata": {},
   "outputs": [],
   "source": [
    "#Merge af \"Close\", altså closing price for hver aktie og c25 index:\n",
    "\n",
    "# Read CSV files with only 'Date' and 'Close' columns\n",
    "danske_df = pd.read_csv('DANSKE.CO.csv', usecols=['Date', 'Close'])\n",
    "maersk_df = pd.read_csv('MAERSK-B.CO.csv', usecols=['Date', 'Close'])\n",
    "novo_df = pd.read_csv('NOVO-B.CO.csv', usecols=['Date', 'Close'])\n",
    "iss_df = pd.read_csv('ISS.CO.csv', usecols=['Date', 'Close'])\n",
    "c25_df = pd.read_csv('OMXC25.csv', usecols=['Date', 'Close'])\n",
    "\n",
    "# Convert 'Date' column to datetime format\n",
    "danske_df['Date'] = pd.to_datetime(danske_df['Date'])\n",
    "maersk_df['Date'] = pd.to_datetime(maersk_df['Date'])\n",
    "novo_df['Date'] = pd.to_datetime(novo_df['Date'])\n",
    "iss_df['Date'] = pd.to_datetime(iss_df['Date'])\n",
    "c25_df['Date'] = pd.to_datetime(c25_df['Date'])\n",
    "\n",
    "# Merge DataFrames\n",
    "merged_df = pd.merge(danske_df, maersk_df, on='Date', suffixes=('_Danske', '_Maersk'))\n",
    "merged_df = pd.merge(merged_df, novo_df, on='Date', suffixes=('_Merged', '_Novo'))\n",
    "merged_df = pd.merge(merged_df, iss_df, on='Date', suffixes=('_Merged', '_ISS'))\n",
    "merged_df = pd.merge(merged_df, c25_df, on='Date', suffixes=('_Merged', '_C25'))\n",
    "\n",
    "# Save Merged DataFrame\n",
    "merged_df.to_csv('merged_stock_prices.csv', index=False)"
   ]
  },
  {
   "cell_type": "code",
   "execution_count": 111,
   "metadata": {},
   "outputs": [
    {
     "name": "stderr",
     "output_type": "stream",
     "text": [
      "C:\\Users\\simon\\AppData\\Local\\Temp\\ipykernel_29068\\2061247967.py:24: UserWarning: Boolean Series key will be reindexed to match DataFrame index.\n",
      "  c25_df_filtered = c25_df[(iss_df['Date'] >= start_date) & (c25_df['Date'] <= end_date)]\n"
     ]
    }
   ],
   "source": [
    "#Forsøg på merge af \"Close\", altså closing price for hver aktie og c25 index i tidsintervallet 01-01-2017 til 04-04-2024\n",
    "\n",
    "danske_df = pd.read_csv('DANSKE.CO.csv', usecols=['Date', 'Close'])\n",
    "maersk_df = pd.read_csv('MAERSK-B.CO.csv', usecols=['Date', 'Close'])\n",
    "novo_df = pd.read_csv('NOVO-B.CO.csv', usecols=['Date', 'Close'])\n",
    "iss_df = pd.read_csv('ISS.CO.csv', usecols=['Date', 'Close'])\n",
    "c25_df = pd.read_csv('OMXC25.csv', usecols=['Date', 'Close'])\n",
    "\n",
    "# Convert 'Date' column to datetime format\n",
    "danske_df['Date'] = pd.to_datetime(danske_df['Date'])\n",
    "maersk_df['Date'] = pd.to_datetime(maersk_df['Date'])\n",
    "novo_df['Date'] = pd.to_datetime(novo_df['Date'])\n",
    "iss_df['Date'] = pd.to_datetime(iss_df['Date'])\n",
    "c25_df['Date'] = pd.to_datetime(c25_df['Date'])\n",
    "\n",
    "# Filter rows based on date range\n",
    "start_date = pd.Timestamp('2017-01-01')\n",
    "end_date = pd.Timestamp('2024-04-04')\n",
    "\n",
    "danske_df_filtered = danske_df[(danske_df['Date'] >= start_date) & (danske_df['Date'] <= end_date)]\n",
    "maersk_df_filtered = maersk_df[(maersk_df['Date'] >= start_date) & (maersk_df['Date'] <= end_date)]\n",
    "novo_df_filtered = novo_df[(novo_df['Date'] >= start_date) & (novo_df['Date'] <= end_date)]\n",
    "iss_df_filtered = iss_df[(iss_df['Date'] >= start_date) & (iss_df['Date'] <= end_date)]\n",
    "c25_df_filtered = c25_df[(iss_df['Date'] >= start_date) & (c25_df['Date'] <= end_date)]\n",
    "\n",
    "# Merge DataFrames\n",
    "merged_df = pd.merge(danske_df_filtered, maersk_df_filtered, on='Date', suffixes=('_Danske', '_Maersk'))\n",
    "merged_df = pd.merge(merged_df, novo_df_filtered, on='Date', suffixes=('_Novo','_Merged'))\n",
    "merged_df = pd.merge(merged_df, iss_df_filtered, on='Date', suffixes=('_Merged', '_ISS'))\n",
    "merged_df = pd.merge(merged_df, c25_df_filtered, on='Date', suffixes=('_C25', '_Merged'))\n",
    "\n",
    "# Save Merged DataFrame\n",
    "merged_df.to_csv('merged_stock_price.csv', index=False)"
   ]
  },
  {
   "cell_type": "code",
   "execution_count": 83,
   "metadata": {},
   "outputs": [
    {
     "name": "stdout",
     "output_type": "stream",
     "text": [
      "Danske Bank Data:\n",
      "         Date        Open        High         Low       Close  Adj Close  \\\n",
      "0  2010-01-04  113.357704  113.357704  111.969650  111.969650  79.192848   \n",
      "1  2010-01-05  115.671120  115.671120  115.671120  115.671120  81.810791   \n",
      "2  2010-01-06  115.393517  117.706932  115.208443  117.059174  82.792519   \n",
      "3  2010-01-07  120.760651  120.760651  120.760651  120.760651  85.410454   \n",
      "4  2010-01-08  122.148705  125.109886  120.390503  122.611389  86.719429   \n",
      "\n",
      "    Volume  \n",
      "0  1167663  \n",
      "1  2579165  \n",
      "2  1194446  \n",
      "3  3984546  \n",
      "4   748730  \n",
      "Maersk Data:\n",
      "         Date         Open         High          Low        Close  \\\n",
      "0  2010-01-04  6398.973145  6612.854492  6398.973145  6612.854492   \n",
      "1  2010-01-05  6664.745117  6664.745117  6664.745117  6664.745117   \n",
      "2  2010-01-06  6712.819336  6782.562988  6712.819336  6730.255371   \n",
      "3  2010-01-07  6725.024414  7000.511719  6712.819336  6972.614258   \n",
      "4  2010-01-08  7131.280762  7131.280762  7131.280762  7131.280762   \n",
      "\n",
      "     Adj Close  Volume  \n",
      "0  3215.284668   55190  \n",
      "1  3240.515137   58236  \n",
      "2  3272.367920   36958  \n",
      "3  3390.207031   11516  \n",
      "4  3467.353027   98738  \n",
      "Novo Nordisk Data:\n",
      "         Date       Open       High        Low      Close  Adj Close   Volume\n",
      "0  2010-01-04  33.799999  33.799999  33.799999  33.799999  25.413744  7367520\n",
      "1  2010-01-05  33.387798  33.387798  33.387798  33.387798  25.103819  8335990\n",
      "2  2010-01-06  33.750000  33.750000  33.750000  33.750000  25.376148  9373030\n",
      "3  2010-01-07  33.700001  33.810001  33.549999  33.560001  25.233295   468890\n",
      "4  2010-01-08  33.680000  34.080002  33.299999  34.000000  25.564119   589890\n",
      "ISS Data:\n",
      "         Date        Open        High         Low       Close   Adj Close  \\\n",
      "0  2015-01-02  178.500000  179.199997  175.300003  175.300003  145.984497   \n",
      "1  2015-01-05  175.699997  177.199997  174.800003  176.899994  147.316956   \n",
      "2  2015-01-06  175.199997  178.000000  175.100006  177.800003  148.066437   \n",
      "3  2015-01-07  178.199997  179.000000  175.000000  175.600006  146.234344   \n",
      "4  2015-01-08  175.500000  177.000000  174.899994  175.500000  146.151077   \n",
      "\n",
      "   Volume  \n",
      "0  263361  \n",
      "1  176460  \n",
      "2  270407  \n",
      "3  234613  \n",
      "4  213943  \n",
      "OMXC25 Data:\n",
      "         Date         Open         High          Low        Close  \\\n",
      "0  2016-12-20   999.760010  1005.789978   999.190002  1002.299988   \n",
      "1  2016-12-21  1002.320007  1005.440002  1000.179993  1002.969971   \n",
      "2  2016-12-22  1002.890015  1007.460022  1000.510010  1005.729980   \n",
      "3  2016-12-23  1005.669983  1009.599976  1003.780029  1007.369995   \n",
      "4  2016-12-27  1007.609985  1011.750000  1007.599976  1011.750000   \n",
      "\n",
      "     Adj Close  Volume  \n",
      "0  1002.299988     0.0  \n",
      "1  1002.969971     0.0  \n",
      "2  1005.729980     0.0  \n",
      "3  1007.369995     0.0  \n",
      "4  1011.750000     0.0  \n"
     ]
    }
   ],
   "source": [
    "#Testing to see if data has been loaded correctly, so we ask for the first five rows in each dataset:\n",
    "\n",
    "print(\"Danske Bank Data:\")\n",
    "print(danske.head())\n",
    "\n",
    "print(\"Maersk Data:\")\n",
    "print(maersk.head())\n",
    "\n",
    "print(\"Novo Nordisk Data:\")\n",
    "print(novo.head())\n",
    "\n",
    "print(\"ISS Data:\")\n",
    "print(iss.head())\n",
    "\n",
    "print(\"OMXC25 Data:\")\n",
    "print(c25.head())"
   ]
  },
  {
   "cell_type": "code",
   "execution_count": 84,
   "metadata": {},
   "outputs": [
    {
     "data": {
      "image/png": "[encoded data removed]",
      "text/plain": [
       "<Figure size 1000x600 with 1 Axes>"
      ]
     },
     "metadata": {},
     "output_type": "display_data"
    }
   ],
   "source": [
    "import pandas as pd\n",
    "import matplotlib.pyplot as plt\n",
    "import matplotlib.dates as mdates\n",
    "\n",
    "# Assuming you have already loaded danske DataFrame\n",
    "\n",
    "# Convert 'Date' column to datetime\n",
    "danske['Date'] = pd.to_datetime(danske['Date'])\n",
    "\n",
    "plt.figure(figsize=(10, 6))\n",
    "plt.plot(danske['Date'], danske['Close'], label='Danske Bank')\n",
    "plt.title('Stock Close Prices')\n",
    "plt.xlabel('Date')\n",
    "plt.ylabel('Close Price')\n",
    "\n",
    "# Format x-axis ticks to show only years\n",
    "plt.gca().xaxis.set_major_formatter(mdates.DateFormatter('%Y'))\n",
    "plt.gca().xaxis.set_major_locator(mdates.YearLocator())\n",
    "\n",
    "plt.legend()\n",
    "plt.grid(True)\n",
    "plt.tight_layout()\n",
    "plt.show()"
   ]
  },
  {
   "cell_type": "code",
   "execution_count": 88,
   "metadata": {},
   "outputs": [
    {
     "name": "stdout",
     "output_type": "stream",
     "text": [
      "            Date  C25_Daily_Return  Maersk_Daily_Return  ISS_Daily_Return  \\\n",
      "1749  2023-12-04          0.003153             0.008576          0.023200   \n",
      "1750  2023-12-05          0.002510            -0.012755          0.014855   \n",
      "1751  2023-12-06          0.001705             0.026701         -0.004623   \n",
      "1752  2023-12-07         -0.007343             0.020973         -0.013545   \n",
      "1753  2023-12-08          0.003401            -0.015612         -0.013731   \n",
      "...          ...               ...                  ...               ...   \n",
      "1828  2024-03-28          0.000000            -0.005128         -0.033290   \n",
      "1829  2024-04-01          0.000000             0.014605          0.028623   \n",
      "1830  2024-04-02         -0.010065            -0.018628          0.025652   \n",
      "1831  2024-04-03          0.005546             0.010354         -0.010598   \n",
      "1832  2024-04-04         -0.001401            -0.017079          0.136247   \n",
      "\n",
      "      Danske_Daily_Return  Novo_Daily_Return  \n",
      "1749             0.009646          -0.001544  \n",
      "1750            -0.010464          -0.010054  \n",
      "1751             0.002759           0.012500  \n",
      "1752             0.009629          -0.008488  \n",
      "1753            -0.013170          -0.003502  \n",
      "...                   ...                ...  \n",
      "1828             0.000000           0.036661  \n",
      "1829             0.024793          -0.000376  \n",
      "1830             0.016129          -0.015431  \n",
      "1831            -0.006349           0.011850  \n",
      "1832             0.000799           0.067624  \n",
      "\n",
      "[84 rows x 6 columns]\n"
     ]
    },
    {
     "name": "stderr",
     "output_type": "stream",
     "text": [
      "C:\\Users\\simon\\AppData\\Local\\Temp\\ipykernel_29068\\1868449858.py:9: FutureWarning: The default fill_method='pad' in Series.pct_change is deprecated and will be removed in a future version. Either fill in any non-leading NA values prior to calling pct_change or specify 'fill_method=None' to not fill NA values.\n",
      "  c25_daily_return = c25_filtered['Close'].pct_change()\n"
     ]
    }
   ],
   "source": [
    "#In this code we want calculate and create a table with every daily return for each stock and the c25 index.\n",
    " \n",
    "# Filter each DataFrame to include only the desired date range\n",
    "c25_filtered = c25[(c25['Date'] >= '2017-01-01') & (c25['Date'] <= '2024-04-04')]\n",
    "maersk_filtered = maersk[(maersk['Date'] >= '2017-01-01') & (maersk['Date'] <= '2024-04-04')]\n",
    "iss_filtered = iss[(iss['Date'] >= '2017-01-01') & (iss['Date'] <= '2024-04-04')]\n",
    "danske_filtered = danske[(danske['Date'] >= '2017-01-01') & (danske['Date'] <= '2024-04-04')]\n",
    "novo_filtered = novo[(novo['Date'] >= '2017-01-01') & (novo['Date'] <= '2024-04-04')]\n",
    "\n",
    "# Calculate the daily returns for each stock\n",
    "c25_daily_return = c25_filtered['Close'].pct_change()\n",
    "maersk_daily_return = maersk_filtered['Close'].pct_change()\n",
    "iss_daily_return = iss_filtered['Close'].pct_change()\n",
    "danske_daily_return = danske_filtered['Close'].pct_change()\n",
    "novo_daily_return = novo_filtered['Close'].pct_change()\n",
    "\n",
    "# Create a new DataFrame with daily returns for all stocks\n",
    "daily_returns = pd.DataFrame({\n",
    "    'Date': c25_filtered['Date'],  # Using the date column from any filtered DataFrame\n",
    "    'C25_Daily_Return': c25_daily_return,\n",
    "    'Maersk_Daily_Return': maersk_daily_return,\n",
    "    'ISS_Daily_Return': iss_daily_return,\n",
    "    'Danske_Daily_Return': danske_daily_return,\n",
    "    'Novo_Daily_Return': novo_daily_return\n",
    "})\n",
    "\n",
    "# Exclude rows with NaN values in any column\n",
    "daily_returns = daily_returns.dropna()\n",
    "\n",
    "# Print the resulting DataFrame\n",
    "print(daily_returns)"
   ]
  },
  {
   "cell_type": "code",
   "execution_count": 89,
   "metadata": {},
   "outputs": [
    {
     "name": "stdout",
     "output_type": "stream",
     "text": [
      "Covariance Matrix between Maersk and Novo:\n",
      "                     Maersk_Daily_Return  Novo_Daily_Return\n",
      "Maersk_Daily_Return             0.000308           0.000045\n",
      "Novo_Daily_Return               0.000045           0.000269\n"
     ]
    }
   ],
   "source": [
    "#Covariance mellem to aktier\n",
    "\n",
    "# Select only the columns for Maersk and Novo daily returns\n",
    "maersk_novo_returns = daily_returns[['Maersk_Daily_Return', 'Novo_Daily_Return']]\n",
    "\n",
    "# Drop any rows with NaN values\n",
    "maersk_novo_returns = maersk_novo_returns.dropna()\n",
    "\n",
    "# Calculate the covariance matrix\n",
    "cov_matrix = maersk_novo_returns.cov()\n",
    "\n",
    "# Print the covariance matrix\n",
    "print(\"Covariance Matrix between Maersk and Novo:\")\n",
    "print(cov_matrix)"
   ]
  },
  {
   "cell_type": "code",
   "execution_count": 90,
   "metadata": {},
   "outputs": [
    {
     "name": "stdout",
     "output_type": "stream",
     "text": [
      "          Mærsk     Danske    Novo      \n",
      "Mærsk     0.0003080900.0000472740.000045497\n",
      "Danske    0.0000472740.000113198-0.000012704\n",
      "Novo      0.000045497-0.0000127040.000268815\n"
     ]
    }
   ],
   "source": [
    "#Covariance mellem 3 aktier: \n",
    "\n",
    "selected_returns = daily_returns[['Maersk_Daily_Return', 'Danske_Daily_Return', 'Novo_Daily_Return']]\n",
    "\n",
    "# Drop any rows with NaN values\n",
    "selected_returns = selected_returns.dropna()\n",
    "\n",
    "# Calculate the covariance matrix\n",
    "cov_matrix = selected_returns.cov()\n",
    "\n",
    "# Select the covariance values for the pairs of stocks you're interested in\n",
    "covariance_maersk_danske = cov_matrix.loc['Maersk_Daily_Return', 'Danske_Daily_Return']\n",
    "covariance_maersk_novo = cov_matrix.loc['Maersk_Daily_Return', 'Novo_Daily_Return']\n",
    "covariance_danske_novo = cov_matrix.loc['Danske_Daily_Return', 'Novo_Daily_Return']\n",
    "\n",
    "# Format and display the covariance matrix\n",
    "print(f\"{'':<10}{'Mærsk':<10}{'Danske':<10}{'Novo':<10}\")\n",
    "print(f\"{'Mærsk':<10}{cov_matrix.loc['Maersk_Daily_Return', 'Maersk_Daily_Return']:<10.9f}{covariance_maersk_danske:<10.9f}{covariance_maersk_novo:<10.9f}\")\n",
    "print(f\"{'Danske':<10}{covariance_maersk_danske:<10.9f}{cov_matrix.loc['Danske_Daily_Return', 'Danske_Daily_Return']:<10.9f}{covariance_danske_novo:<10.9f}\")\n",
    "print(f\"{'Novo':<10}{covariance_maersk_novo:<10.9f}{covariance_danske_novo:<10.9f}{cov_matrix.loc['Novo_Daily_Return', 'Novo_Daily_Return']:<10.9f}\")"
   ]
  },
  {
   "cell_type": "code",
   "execution_count": 91,
   "metadata": {},
   "outputs": [
    {
     "name": "stdout",
     "output_type": "stream",
     "text": [
      "Requirement already satisfied: tabulate in c:\\users\\simon\\anaconda3\\lib\\site-packages (0.9.0)\n",
      "Note: you may need to restart the kernel to use updated packages.\n"
     ]
    }
   ],
   "source": [
    "pip install tabulate"
   ]
  },
  {
   "cell_type": "code",
   "execution_count": 97,
   "metadata": {},
   "outputs": [
    {
     "name": "stdout",
     "output_type": "stream",
     "text": [
      "|        |      Mærsk |       Danske |         Novo |\n",
      "|:-------|-----------:|-------------:|-------------:|\n",
      "| Mærsk  | 0.00030809 |  4.7274e-05  |  4.5497e-05  |\n",
      "| Danske | 4.7274e-05 |  0.000113198 | -1.2704e-05  |\n",
      "| Novo   | 4.5497e-05 | -1.2704e-05  |  0.000268815 |\n"
     ]
    }
   ],
   "source": [
    "#Med pænere layout\n",
    "from tabulate import tabulate\n",
    "\n",
    "# Assuming you have already calculated the DataFrame daily_returns\n",
    "\n",
    "# Select only the columns for Mærsk, Danske, and Novo daily returns\n",
    "selected_returns = daily_returns[['Maersk_Daily_Return', 'Danske_Daily_Return', 'Novo_Daily_Return']]\n",
    "\n",
    "# Drop any rows with NaN values\n",
    "selected_returns = selected_returns.dropna()\n",
    "\n",
    "# Calculate the covariance matrix\n",
    "cov_matrix = selected_returns.cov()\n",
    "\n",
    "# Select the covariance values for the pairs of stocks you're interested in\n",
    "covariance_maersk_danske = cov_matrix.loc['Maersk_Daily_Return', 'Danske_Daily_Return']\n",
    "covariance_maersk_novo = cov_matrix.loc['Maersk_Daily_Return', 'Novo_Daily_Return']\n",
    "covariance_danske_novo = cov_matrix.loc['Danske_Daily_Return', 'Novo_Daily_Return']\n",
    "\n",
    "# Format the covariance matrix as a table\n",
    "table = [[\"\", \"Mærsk\", \"Danske\", \"Novo\"],\n",
    "         [\"Mærsk\", f\"{cov_matrix.loc['Maersk_Daily_Return', 'Maersk_Daily_Return']:.9f}\", f\"{covariance_maersk_danske:.9f}\", f\"{covariance_maersk_novo:.9f}\"],\n",
    "         [\"Danske\", f\"{covariance_maersk_danske:.9f}\", f\"{cov_matrix.loc['Danske_Daily_Return', 'Danske_Daily_Return']:.9f}\", f\"{covariance_danske_novo:.9f}\"],\n",
    "         [\"Novo\", f\"{covariance_maersk_novo:.9f}\", f\"{covariance_danske_novo:.9f}\", f\"{cov_matrix.loc['Novo_Daily_Return', 'Novo_Daily_Return']:.9f}\"]]\n",
    "\n",
    "# Print the table\n",
    "print(tabulate(table, headers=\"firstrow\", tablefmt=\"pipe\"))"
   ]
  },
  {
   "cell_type": "markdown",
   "metadata": {},
   "source": [
    "The above shows the data has been importet correctly. The next we do is to merge it to one data file where we have the closing price for Danske Bank, Maersk, ISS, Novo and the index C25 in the same time interval. "
   ]
  },
  {
   "cell_type": "markdown",
   "metadata": {},
   "source": [
    "# Read and clean data"
   ]
  },
  {
   "cell_type": "markdown",
   "metadata": {},
   "source": [
    "Import your data, either through an API or manually, and load it. "
   ]
  },
  {
   "cell_type": "markdown",
   "metadata": {},
   "source": [
    "## Explore each data set"
   ]
  },
  {
   "cell_type": "markdown",
   "metadata": {},
   "source": [
    "In order to be able to **explore the raw data**, you may provide **static** and **interactive plots** to show important developments "
   ]
  },
  {
   "cell_type": "markdown",
   "metadata": {},
   "source": [
    "**Interactive plot** :"
   ]
  },
  {
   "cell_type": "code",
   "execution_count": 69,
   "metadata": {},
   "outputs": [
    {
     "data": {
      "application/vnd.jupyter.widget-view+json": {
       "model_id": "0c34b77ddccd4e298b177cf91c51e2da",
       "version_major": 2,
       "version_minor": 0
      },
      "text/plain": [
       "interactive(children=(Output(),), _dom_classes=('widget-interact',))"
      ]
     },
     "metadata": {},
     "output_type": "display_data"
    }
   ],
   "source": [
    "def plot_func():\n",
    "    # Function that operates on data set\n",
    "    pass\n",
    "\n",
    "widgets.interact(plot_func, \n",
    "    # Let the widget interact with data through plot_func()    \n",
    "); \n"
   ]
  },
  {
   "cell_type": "markdown",
   "metadata": {},
   "source": [
    "Explain what you see when moving elements of the interactive plot around. "
   ]
  },
  {
   "cell_type": "markdown",
   "metadata": {},
   "source": [
    "# Merge data sets"
   ]
  },
  {
   "cell_type": "markdown",
   "metadata": {},
   "source": [
    "Now you create combinations of your loaded data sets. Remember the illustration of a (inner) **merge**:"
   ]
  },
  {
   "cell_type": "code",
   "execution_count": 70,
   "metadata": {},
   "outputs": [
    {
     "data": {
      "image/png": "[encoded data removed]",
      "text/plain": [
       "<Figure size 1500x700 with 1 Axes>"
      ]
     },
     "metadata": {},
     "output_type": "display_data"
    }
   ],
   "source": [
    "plt.figure(figsize=(15,7))\n",
    "v = venn2(subsets = (4, 4, 10), set_labels = ('Data X', 'Data Y'))\n",
    "v.get_label_by_id('100').set_text('dropped')\n",
    "v.get_label_by_id('010').set_text('dropped' )\n",
    "v.get_label_by_id('110').set_text('included')\n",
    "plt.show()"
   ]
  },
  {
   "cell_type": "markdown",
   "metadata": {},
   "source": [
    "Here we are dropping elements from both data set X and data set Y. A left join would keep all observations in data X intact and subset only from Y. \n",
    "\n",
    "Make sure that your resulting data sets have the correct number of rows and columns. That is, be clear about which observations are thrown away. \n",
    "\n",
    "**Note:** Don't make Venn diagrams in your own data project. It is just for exposition. "
   ]
  },
  {
   "cell_type": "markdown",
   "metadata": {},
   "source": [
    "# Analysis"
   ]
  },
  {
   "cell_type": "markdown",
   "metadata": {},
   "source": [
    "To get a quick overview of the data, we show some **summary statistics** on a meaningful aggregation. "
   ]
  },
  {
   "cell_type": "markdown",
   "metadata": {},
   "source": [
    "MAKE FURTHER ANALYSIS. EXPLAIN THE CODE BRIEFLY AND SUMMARIZE THE RESULTS."
   ]
  },
  {
   "cell_type": "markdown",
   "metadata": {},
   "source": [
    "# Conclusion"
   ]
  },
  {
   "cell_type": "markdown",
   "metadata": {},
   "source": [
    "ADD CONCISE CONLUSION."
   ]
  }
 ],
 "metadata": {
  "kernelspec": {
   "display_name": "base",
   "language": "python",
   "name": "python3"
  },
  "language_info": {
   "codemirror_mode": {
    "name": "ipython",
    "version": 3
   },
   "file_extension": ".py",
   "mimetype": "text/x-python",
   "name": "python",
   "nbconvert_exporter": "python",
   "pygments_lexer": "ipython3",
   "version": "3.11.7"
  },
  "toc-autonumbering": true,
  "vscode": {
   "interpreter": {
    "hash": "47ef90cdf3004d3f859f1fb202523c65c07ba7c22eefd261b181f4744e2d0403"
   }
  }
 },
 "nbformat": 4,
 "nbformat_minor": 4
}
